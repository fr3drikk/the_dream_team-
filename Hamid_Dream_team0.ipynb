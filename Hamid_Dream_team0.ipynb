{
  "nbformat": 4,
  "nbformat_minor": 0,
  "metadata": {
    "colab": {
      "provenance": [],
      "include_colab_link": true
    },
    "kernelspec": {
      "name": "python3",
      "display_name": "Python 3"
    },
    "language_info": {
      "name": "python"
    }
  },
  "cells": [
    {
      "cell_type": "markdown",
      "metadata": {
        "id": "view-in-github",
        "colab_type": "text"
      },
      "source": [
        "<a href=\"https://colab.research.google.com/github/fr3drikk/the_dream_team-/blob/main/Hamid_Dream_team0.ipynb\" target=\"_parent\"><img src=\"https://colab.research.google.com/assets/colab-badge.svg\" alt=\"Open In Colab\"/></a>"
      ]
    },
    {
      "cell_type": "markdown",
      "source": [
        "# Imports"
      ],
      "metadata": {
        "id": "jBnrid8cPdhj"
      }
    },
    {
      "cell_type": "code",
      "source": [
        "# Standard stuff\n",
        "import pandas as pd #for manipulating data\n",
        "import numpy as np #for manipulating data\n",
        "\n",
        "# Dataviz\n",
        "import matplotlib.pyplot as plt #for custom graphs at the end\n",
        "import seaborn as sns #for custom graphs at the end\n",
        "\n",
        "# Altair\n",
        "import altair as alt\n",
        "\n",
        "# Other tooling\n",
        "# import os #needed to use Environment Variables in Domino\n",
        "\n",
        "# UML\n",
        "# from sklearn.preprocessing import StandardScaler # import and instantiate scaler\n",
        "\n",
        "# SML\n",
        "# import sklearn #for building models\n",
        "# import xgboost as xgb #for building models\n",
        "# import sklearn.ensemble #for building models\n",
        "# from sklearn.model_selection import train_test_split #for creating a hold-out sample\n",
        "# from sklearn import datasets # Boston Housing Data"
      ],
      "metadata": {
        "id": "LXsNVllQPXFi"
      },
      "execution_count": null,
      "outputs": []
    },
    {
      "cell_type": "code",
      "source": [
        "jobs = pd.read_csv('https://raw.githubusercontent.com/fr3drikk/the_dream_team-/main/App/Data/jobs.csv')"
      ],
      "metadata": {
        "id": "KFG5XAkRU6fQ"
      },
      "execution_count": null,
      "outputs": []
    },
    {
      "cell_type": "markdown",
      "source": [
        "### Looking through general info from the data"
      ],
      "metadata": {
        "id": "Q2OeZdm2Zv8-"
      }
    },
    {
      "cell_type": "code",
      "source": [
        "# First we check the shape of the data.\n",
        "jobs.shape"
      ],
      "metadata": {
        "colab": {
          "base_uri": "https://localhost:8080/"
        },
        "id": "VDM_yzv8bI53",
        "outputId": "ae6e9f43-8d8c-4c43-9624-06345ecaa41a"
      },
      "execution_count": null,
      "outputs": [
        {
          "output_type": "execute_result",
          "data": {
            "text/plain": [
              "(84090, 22)"
            ]
          },
          "metadata": {},
          "execution_count": 3
        }
      ]
    },
    {
      "cell_type": "code",
      "source": [
        "# Secondly we check the dataset for what object is.\n",
        "jobs.info()"
      ],
      "metadata": {
        "colab": {
          "base_uri": "https://localhost:8080/"
        },
        "id": "IaN_-91fa6Sc",
        "outputId": "637393dd-9b7d-432b-e704-fd089265f297"
      },
      "execution_count": null,
      "outputs": [
        {
          "output_type": "stream",
          "name": "stdout",
          "text": [
            "<class 'pandas.core.frame.DataFrame'>\n",
            "RangeIndex: 84090 entries, 0 to 84089\n",
            "Data columns (total 22 columns):\n",
            " #   Column              Non-Null Count  Dtype  \n",
            "---  ------              --------------  -----  \n",
            " 0   Job.ID              84090 non-null  int64  \n",
            " 1   Provider            84090 non-null  int64  \n",
            " 2   Status              84090 non-null  object \n",
            " 3   Slug                84090 non-null  object \n",
            " 4   Title               84090 non-null  object \n",
            " 5   Position            84090 non-null  object \n",
            " 6   Company             81819 non-null  object \n",
            " 7   City                83955 non-null  object \n",
            " 8   State.Name          83919 non-null  object \n",
            " 9   State.Code          83919 non-null  object \n",
            " 10  Address             36 non-null     object \n",
            " 11  Latitude            84090 non-null  float64\n",
            " 12  Longitude           84090 non-null  float64\n",
            " 13  Industry            267 non-null    object \n",
            " 14  Requirements        0 non-null      float64\n",
            " 15  Salary              229 non-null    float64\n",
            " 16  Listing.Start       83407 non-null  object \n",
            " 17  Listing.End         83923 non-null  object \n",
            " 18  Employment.Type     84080 non-null  object \n",
            " 19  Education.Required  83823 non-null  object \n",
            " 20  Created.At          84090 non-null  object \n",
            " 21  Updated.At          84090 non-null  object \n",
            "dtypes: float64(4), int64(2), object(16)\n",
            "memory usage: 14.1+ MB\n"
          ]
        }
      ]
    },
    {
      "cell_type": "code",
      "source": [
        "jobs.groupby(['Education.Required', 'Position'])['Position'].nunique().nlargest()"
      ],
      "metadata": {
        "colab": {
          "base_uri": "https://localhost:8080/"
        },
        "id": "gH4VSM_2Y5VP",
        "outputId": "4765b386-1c46-477c-ec54-ae9b280ee971"
      },
      "execution_count": null,
      "outputs": [
        {
          "output_type": "execute_result",
          "data": {
            "text/plain": [
              "Education.Required  Position                           \n",
              "Associate Degree    $5,000 Sign On Bonus - Night Nurse!    1\n",
              "                    $5,000 Sign-On Bonus: RN / LPN         1\n",
              "                    'Charge Nurse                          1\n",
              "                    (LPN) Licensed Practical Nurse         1\n",
              "                    (RN / LPN) Nurse - Trach / Vent        1\n",
              "Name: Position, dtype: int64"
            ]
          },
          "metadata": {},
          "execution_count": 5
        }
      ]
    },
    {
      "cell_type": "code",
      "source": [
        "top_10_pos = jobs['Position'].value_counts().nlargest(10).to_frame().reset_index().rename(columns={'Position': 'Count'})['index'].to_list()"
      ],
      "metadata": {
        "id": "aBxT6iD-ZuD5"
      },
      "execution_count": null,
      "outputs": []
    },
    {
      "cell_type": "code",
      "source": [
        "jobs[jobs['Position'].isin(top_10_pos)].groupby(['Education.Required', 'Position'])['Position'].count()"
      ],
      "metadata": {
        "colab": {
          "base_uri": "https://localhost:8080/"
        },
        "id": "WtZpKa3cbQBz",
        "outputId": "25ff6d41-b785-4ad8-91d7-edfa242ed4bb"
      },
      "execution_count": null,
      "outputs": [
        {
          "output_type": "execute_result",
          "data": {
            "text/plain": [
              "Education.Required   Position                                              \n",
              "Associate Degree     Accounting Clerk                                             3\n",
              "                     Accounts Payable Clerk                                       1\n",
              "                     Administrative Assistant                                     4\n",
              "                     Bookkeeper                                                   2\n",
              "                     Customer Service Representative                              2\n",
              "                     Receptionist                                                 3\n",
              "                     Staff Accountant                                             2\n",
              "Bachelor's Degree    Accounting Clerk                                             1\n",
              "                     Accounts Payable Clerk                                       1\n",
              "                     Administrative Assistant                                     7\n",
              "                     Bookkeeper                                                   2\n",
              "                     Customer Service Representative                              2\n",
              "                     Staff Accountant                                             5\n",
              "High School Diploma  Accounting Clerk                                             5\n",
              "                     Accounts Payable Clerk                                       4\n",
              "                     Administrative Assistant                                    56\n",
              "                     Bookkeeper                                                   3\n",
              "                     Customer Service Representative                            100\n",
              "                     Data Entry Clerk                                             6\n",
              "                     Receptionist                                                60\n",
              "                     Staff Accountant                                             1\n",
              "Master's Degree      Administrative Assistant                                     1\n",
              "Not Specified        Accounting Clerk                                           944\n",
              "                     Accounts Payable Clerk                                     964\n",
              "                     Administrative Assistant                                  1345\n",
              "                     Bookkeeper                                                 634\n",
              "                     Customer Service Representative                           1192\n",
              "                     Data Entry Clerk                                           614\n",
              "                     Receptionist                                               764\n",
              "                     Retail Sales Associate – Part-Time                         655\n",
              "                     Sales Representative / Sales Associate ( Entry Level )     917\n",
              "                     Staff Accountant                                           905\n",
              "Name: Position, dtype: int64"
            ]
          },
          "metadata": {},
          "execution_count": 7
        }
      ]
    },
    {
      "cell_type": "code",
      "source": [
        "jobs[jobs['Position'].isin(top_10_pos)].groupby(['Position', 'Title'])['Position'].count()"
      ],
      "metadata": {
        "colab": {
          "base_uri": "https://localhost:8080/"
        },
        "id": "NW7FYtTUdwcC",
        "outputId": "5324f92e-75b0-4451-87f0-a0ef0b37a556"
      },
      "execution_count": null,
      "outputs": [
        {
          "output_type": "execute_result",
          "data": {
            "text/plain": [
              "Position          Title                                                       \n",
              "Accounting Clerk  Accounting Clerk                                                  3\n",
              "                  Accounting Clerk @ Accountemps                                  939\n",
              "                  Accounting Clerk @ AccuForce                                      1\n",
              "                  Accounting Clerk @ Armstrong Garden Centers                       1\n",
              "                  Accounting Clerk @ Get Fresh Companies                            1\n",
              "                                                                                 ... \n",
              "Staff Accountant  Staff Accountant @ Engineering Planning and Management, Inc.      1\n",
              "                  Staff Accountant @ Novation Industries                            1\n",
              "                  Staff Accountant @ Sparks Personnel Services Inc.                 1\n",
              "                  Staff Accountant @ West Valley Staffing Group                     1\n",
              "                  Staff Accountant @ aap3, Inc.                                     1\n",
              "Name: Position, Length: 317, dtype: int64"
            ]
          },
          "metadata": {},
          "execution_count": 8
        }
      ]
    },
    {
      "cell_type": "code",
      "source": [
        "jobs['Title'].value_counts()"
      ],
      "metadata": {
        "colab": {
          "base_uri": "https://localhost:8080/"
        },
        "id": "sJisSgfCdZ1g",
        "outputId": "7362620b-e868-429d-d76e-273715662e63"
      },
      "execution_count": null,
      "outputs": [
        {
          "output_type": "execute_result",
          "data": {
            "text/plain": [
              "Administrative Assistant @ OfficeTeam                                        1285\n",
              "Customer Service Representative @ OfficeTeam                                 1119\n",
              "Accounts Payable Clerk @ Accountemps                                          960\n",
              "Accounting Clerk @ Accountemps                                                939\n",
              "Sales Representative / Sales Associate ( Entry Level ) @ Vector Marketing     917\n",
              "                                                                             ... \n",
              "Certified Nurse Aid (CNA) - Every Weekend @ Nazareth Home                       1\n",
              "Quality Assurance Engineer @ Silgan Containers Corporation                      1\n",
              "Call Center Agent / Confirmer @ American Home Design                            1\n",
              "Activity Assistant @ All In A Day                                               1\n",
              "Cashier @ Kazoo Restaurant                                                      1\n",
              "Name: Title, Length: 41861, dtype: int64"
            ]
          },
          "metadata": {},
          "execution_count": 9
        }
      ]
    },
    {
      "cell_type": "code",
      "source": [
        "jobs['City'].value_counts()"
      ],
      "metadata": {
        "colab": {
          "base_uri": "https://localhost:8080/"
        },
        "id": "8OX-HZPNeUZ2",
        "outputId": "f6414fe7-c14c-4878-fd36-b63b5427c979"
      },
      "execution_count": null,
      "outputs": [
        {
          "output_type": "execute_result",
          "data": {
            "text/plain": [
              "Chicago           889\n",
              "Houston           855\n",
              "San Francisco     728\n",
              "Indianapolis      727\n",
              "Los Angeles       722\n",
              "                 ... \n",
              "Hewitt              1\n",
              "Arvin               1\n",
              "New York Mills      1\n",
              "Toa Baja            1\n",
              "Yountville          1\n",
              "Name: City, Length: 5503, dtype: int64"
            ]
          },
          "metadata": {},
          "execution_count": 10
        }
      ]
    },
    {
      "cell_type": "code",
      "source": [
        "# Checking how the data looks: From the data, we see that there are several columns with NaN values, such as; Requirements, Listing.Start, Listing.End. \n",
        "\n",
        "jobs.head()"
      ],
      "metadata": {
        "id": "R5nxRX5DWzkx",
        "colab": {
          "base_uri": "https://localhost:8080/",
          "height": 664
        },
        "outputId": "72a6f442-579d-4314-ed34-782fa0fbf723"
      },
      "execution_count": null,
      "outputs": [
        {
          "output_type": "execute_result",
          "data": {
            "text/plain": [
              "   Job.ID  Provider Status                                               Slug  \\\n",
              "0     111         1   open                    palo-alto-ca-tacolicious-server   \n",
              "1     113         1   open    san-francisco-ca-claude-lane-kitchen-staff-chef   \n",
              "2     117         1   open  san-francisco-ca-machka-restaurants-corp-barte...   \n",
              "3     121         1   open                  brisbane-ca-teriyaki-house-server   \n",
              "4     127         1   open  los-angeles-ca-rosa-mexicano-sunset-kitchen-st...   \n",
              "\n",
              "                                         Title            Position  \\\n",
              "0                         Server @ Tacolicious              Server   \n",
              "1             Kitchen Staff/Chef @ Claude Lane  Kitchen Staff/Chef   \n",
              "2         Bartender @ Machka Restaurants Corp.           Bartender   \n",
              "3                      Server @ Teriyaki House              Server   \n",
              "4  Kitchen Staff/Chef @ Rosa Mexicano - Sunset  Kitchen Staff/Chef   \n",
              "\n",
              "                    Company           City  State.Name State.Code  ...  \\\n",
              "0               Tacolicious      Palo Alto  California         CA  ...   \n",
              "1               Claude Lane  San Francisco  California         CA  ...   \n",
              "2  Machka Restaurants Corp.  San Francisco  California         CA  ...   \n",
              "3            Teriyaki House       Brisbane  California         CA  ...   \n",
              "4    Rosa Mexicano - Sunset    Los Angeles  California         CA  ...   \n",
              "\n",
              "    Longitude            Industry  Requirements Salary  Listing.Start  \\\n",
              "0 -122.161170  Food and Beverages           NaN   8.00            NaN   \n",
              "1 -122.404268  Food and Beverages           NaN   0.00            NaN   \n",
              "2 -122.402963  Food and Beverages           NaN  11.00            NaN   \n",
              "3 -122.400275  Food and Beverages           NaN  10.55            NaN   \n",
              "4 -118.460439  Food and Beverages           NaN  10.55            NaN   \n",
              "\n",
              "   Listing.End Employment.Type Education.Required               Created.At  \\\n",
              "0          NaN       Part-Time                NaN  2013-03-12 02:08:28 UTC   \n",
              "1          NaN       Part-Time                NaN  2013-04-12 08:36:36 UTC   \n",
              "2          NaN       Part-Time                NaN  2013-07-16 09:34:10 UTC   \n",
              "3          NaN       Part-Time                NaN  2013-09-04 15:40:30 UTC   \n",
              "4          NaN       Part-Time                NaN  2013-07-17 15:26:18 UTC   \n",
              "\n",
              "                Updated.At  \n",
              "0  2014-08-16 15:35:36 UTC  \n",
              "1  2014-08-16 15:35:36 UTC  \n",
              "2  2014-08-16 15:35:37 UTC  \n",
              "3  2014-08-16 15:35:38 UTC  \n",
              "4  2014-08-16 15:35:40 UTC  \n",
              "\n",
              "[5 rows x 22 columns]"
            ],
            "text/html": [
              "\n",
              "  <div id=\"df-b2ed2728-44c2-4b36-94ef-cc432ec57e10\">\n",
              "    <div class=\"colab-df-container\">\n",
              "      <div>\n",
              "<style scoped>\n",
              "    .dataframe tbody tr th:only-of-type {\n",
              "        vertical-align: middle;\n",
              "    }\n",
              "\n",
              "    .dataframe tbody tr th {\n",
              "        vertical-align: top;\n",
              "    }\n",
              "\n",
              "    .dataframe thead th {\n",
              "        text-align: right;\n",
              "    }\n",
              "</style>\n",
              "<table border=\"1\" class=\"dataframe\">\n",
              "  <thead>\n",
              "    <tr style=\"text-align: right;\">\n",
              "      <th></th>\n",
              "      <th>Job.ID</th>\n",
              "      <th>Provider</th>\n",
              "      <th>Status</th>\n",
              "      <th>Slug</th>\n",
              "      <th>Title</th>\n",
              "      <th>Position</th>\n",
              "      <th>Company</th>\n",
              "      <th>City</th>\n",
              "      <th>State.Name</th>\n",
              "      <th>State.Code</th>\n",
              "      <th>...</th>\n",
              "      <th>Longitude</th>\n",
              "      <th>Industry</th>\n",
              "      <th>Requirements</th>\n",
              "      <th>Salary</th>\n",
              "      <th>Listing.Start</th>\n",
              "      <th>Listing.End</th>\n",
              "      <th>Employment.Type</th>\n",
              "      <th>Education.Required</th>\n",
              "      <th>Created.At</th>\n",
              "      <th>Updated.At</th>\n",
              "    </tr>\n",
              "  </thead>\n",
              "  <tbody>\n",
              "    <tr>\n",
              "      <th>0</th>\n",
              "      <td>111</td>\n",
              "      <td>1</td>\n",
              "      <td>open</td>\n",
              "      <td>palo-alto-ca-tacolicious-server</td>\n",
              "      <td>Server @ Tacolicious</td>\n",
              "      <td>Server</td>\n",
              "      <td>Tacolicious</td>\n",
              "      <td>Palo Alto</td>\n",
              "      <td>California</td>\n",
              "      <td>CA</td>\n",
              "      <td>...</td>\n",
              "      <td>-122.161170</td>\n",
              "      <td>Food and Beverages</td>\n",
              "      <td>NaN</td>\n",
              "      <td>8.00</td>\n",
              "      <td>NaN</td>\n",
              "      <td>NaN</td>\n",
              "      <td>Part-Time</td>\n",
              "      <td>NaN</td>\n",
              "      <td>2013-03-12 02:08:28 UTC</td>\n",
              "      <td>2014-08-16 15:35:36 UTC</td>\n",
              "    </tr>\n",
              "    <tr>\n",
              "      <th>1</th>\n",
              "      <td>113</td>\n",
              "      <td>1</td>\n",
              "      <td>open</td>\n",
              "      <td>san-francisco-ca-claude-lane-kitchen-staff-chef</td>\n",
              "      <td>Kitchen Staff/Chef @ Claude Lane</td>\n",
              "      <td>Kitchen Staff/Chef</td>\n",
              "      <td>Claude Lane</td>\n",
              "      <td>San Francisco</td>\n",
              "      <td>California</td>\n",
              "      <td>CA</td>\n",
              "      <td>...</td>\n",
              "      <td>-122.404268</td>\n",
              "      <td>Food and Beverages</td>\n",
              "      <td>NaN</td>\n",
              "      <td>0.00</td>\n",
              "      <td>NaN</td>\n",
              "      <td>NaN</td>\n",
              "      <td>Part-Time</td>\n",
              "      <td>NaN</td>\n",
              "      <td>2013-04-12 08:36:36 UTC</td>\n",
              "      <td>2014-08-16 15:35:36 UTC</td>\n",
              "    </tr>\n",
              "    <tr>\n",
              "      <th>2</th>\n",
              "      <td>117</td>\n",
              "      <td>1</td>\n",
              "      <td>open</td>\n",
              "      <td>san-francisco-ca-machka-restaurants-corp-barte...</td>\n",
              "      <td>Bartender @ Machka Restaurants Corp.</td>\n",
              "      <td>Bartender</td>\n",
              "      <td>Machka Restaurants Corp.</td>\n",
              "      <td>San Francisco</td>\n",
              "      <td>California</td>\n",
              "      <td>CA</td>\n",
              "      <td>...</td>\n",
              "      <td>-122.402963</td>\n",
              "      <td>Food and Beverages</td>\n",
              "      <td>NaN</td>\n",
              "      <td>11.00</td>\n",
              "      <td>NaN</td>\n",
              "      <td>NaN</td>\n",
              "      <td>Part-Time</td>\n",
              "      <td>NaN</td>\n",
              "      <td>2013-07-16 09:34:10 UTC</td>\n",
              "      <td>2014-08-16 15:35:37 UTC</td>\n",
              "    </tr>\n",
              "    <tr>\n",
              "      <th>3</th>\n",
              "      <td>121</td>\n",
              "      <td>1</td>\n",
              "      <td>open</td>\n",
              "      <td>brisbane-ca-teriyaki-house-server</td>\n",
              "      <td>Server @ Teriyaki House</td>\n",
              "      <td>Server</td>\n",
              "      <td>Teriyaki House</td>\n",
              "      <td>Brisbane</td>\n",
              "      <td>California</td>\n",
              "      <td>CA</td>\n",
              "      <td>...</td>\n",
              "      <td>-122.400275</td>\n",
              "      <td>Food and Beverages</td>\n",
              "      <td>NaN</td>\n",
              "      <td>10.55</td>\n",
              "      <td>NaN</td>\n",
              "      <td>NaN</td>\n",
              "      <td>Part-Time</td>\n",
              "      <td>NaN</td>\n",
              "      <td>2013-09-04 15:40:30 UTC</td>\n",
              "      <td>2014-08-16 15:35:38 UTC</td>\n",
              "    </tr>\n",
              "    <tr>\n",
              "      <th>4</th>\n",
              "      <td>127</td>\n",
              "      <td>1</td>\n",
              "      <td>open</td>\n",
              "      <td>los-angeles-ca-rosa-mexicano-sunset-kitchen-st...</td>\n",
              "      <td>Kitchen Staff/Chef @ Rosa Mexicano - Sunset</td>\n",
              "      <td>Kitchen Staff/Chef</td>\n",
              "      <td>Rosa Mexicano - Sunset</td>\n",
              "      <td>Los Angeles</td>\n",
              "      <td>California</td>\n",
              "      <td>CA</td>\n",
              "      <td>...</td>\n",
              "      <td>-118.460439</td>\n",
              "      <td>Food and Beverages</td>\n",
              "      <td>NaN</td>\n",
              "      <td>10.55</td>\n",
              "      <td>NaN</td>\n",
              "      <td>NaN</td>\n",
              "      <td>Part-Time</td>\n",
              "      <td>NaN</td>\n",
              "      <td>2013-07-17 15:26:18 UTC</td>\n",
              "      <td>2014-08-16 15:35:40 UTC</td>\n",
              "    </tr>\n",
              "  </tbody>\n",
              "</table>\n",
              "<p>5 rows × 22 columns</p>\n",
              "</div>\n",
              "      <button class=\"colab-df-convert\" onclick=\"convertToInteractive('df-b2ed2728-44c2-4b36-94ef-cc432ec57e10')\"\n",
              "              title=\"Convert this dataframe to an interactive table.\"\n",
              "              style=\"display:none;\">\n",
              "        \n",
              "  <svg xmlns=\"http://www.w3.org/2000/svg\" height=\"24px\"viewBox=\"0 0 24 24\"\n",
              "       width=\"24px\">\n",
              "    <path d=\"M0 0h24v24H0V0z\" fill=\"none\"/>\n",
              "    <path d=\"M18.56 5.44l.94 2.06.94-2.06 2.06-.94-2.06-.94-.94-2.06-.94 2.06-2.06.94zm-11 1L8.5 8.5l.94-2.06 2.06-.94-2.06-.94L8.5 2.5l-.94 2.06-2.06.94zm10 10l.94 2.06.94-2.06 2.06-.94-2.06-.94-.94-2.06-.94 2.06-2.06.94z\"/><path d=\"M17.41 7.96l-1.37-1.37c-.4-.4-.92-.59-1.43-.59-.52 0-1.04.2-1.43.59L10.3 9.45l-7.72 7.72c-.78.78-.78 2.05 0 2.83L4 21.41c.39.39.9.59 1.41.59.51 0 1.02-.2 1.41-.59l7.78-7.78 2.81-2.81c.8-.78.8-2.07 0-2.86zM5.41 20L4 18.59l7.72-7.72 1.47 1.35L5.41 20z\"/>\n",
              "  </svg>\n",
              "      </button>\n",
              "      \n",
              "  <style>\n",
              "    .colab-df-container {\n",
              "      display:flex;\n",
              "      flex-wrap:wrap;\n",
              "      gap: 12px;\n",
              "    }\n",
              "\n",
              "    .colab-df-convert {\n",
              "      background-color: #E8F0FE;\n",
              "      border: none;\n",
              "      border-radius: 50%;\n",
              "      cursor: pointer;\n",
              "      display: none;\n",
              "      fill: #1967D2;\n",
              "      height: 32px;\n",
              "      padding: 0 0 0 0;\n",
              "      width: 32px;\n",
              "    }\n",
              "\n",
              "    .colab-df-convert:hover {\n",
              "      background-color: #E2EBFA;\n",
              "      box-shadow: 0px 1px 2px rgba(60, 64, 67, 0.3), 0px 1px 3px 1px rgba(60, 64, 67, 0.15);\n",
              "      fill: #174EA6;\n",
              "    }\n",
              "\n",
              "    [theme=dark] .colab-df-convert {\n",
              "      background-color: #3B4455;\n",
              "      fill: #D2E3FC;\n",
              "    }\n",
              "\n",
              "    [theme=dark] .colab-df-convert:hover {\n",
              "      background-color: #434B5C;\n",
              "      box-shadow: 0px 1px 3px 1px rgba(0, 0, 0, 0.15);\n",
              "      filter: drop-shadow(0px 1px 2px rgba(0, 0, 0, 0.3));\n",
              "      fill: #FFFFFF;\n",
              "    }\n",
              "  </style>\n",
              "\n",
              "      <script>\n",
              "        const buttonEl =\n",
              "          document.querySelector('#df-b2ed2728-44c2-4b36-94ef-cc432ec57e10 button.colab-df-convert');\n",
              "        buttonEl.style.display =\n",
              "          google.colab.kernel.accessAllowed ? 'block' : 'none';\n",
              "\n",
              "        async function convertToInteractive(key) {\n",
              "          const element = document.querySelector('#df-b2ed2728-44c2-4b36-94ef-cc432ec57e10');\n",
              "          const dataTable =\n",
              "            await google.colab.kernel.invokeFunction('convertToInteractive',\n",
              "                                                     [key], {});\n",
              "          if (!dataTable) return;\n",
              "\n",
              "          const docLinkHtml = 'Like what you see? Visit the ' +\n",
              "            '<a target=\"_blank\" href=https://colab.research.google.com/notebooks/data_table.ipynb>data table notebook</a>'\n",
              "            + ' to learn more about interactive tables.';\n",
              "          element.innerHTML = '';\n",
              "          dataTable['output_type'] = 'display_data';\n",
              "          await google.colab.output.renderOutput(dataTable, element);\n",
              "          const docLink = document.createElement('div');\n",
              "          docLink.innerHTML = docLinkHtml;\n",
              "          element.appendChild(docLink);\n",
              "        }\n",
              "      </script>\n",
              "    </div>\n",
              "  </div>\n",
              "  "
            ]
          },
          "metadata": {},
          "execution_count": 11
        }
      ]
    },
    {
      "cell_type": "code",
      "source": [
        "# We will look through the data to see to what extend we have missing values next.\n",
        "# We use sum() and sort_values to get a descending list.\n",
        "jobs.isna().sum().sort_values()"
      ],
      "metadata": {
        "colab": {
          "base_uri": "https://localhost:8080/"
        },
        "id": "xM5HjV3xZ7eT",
        "outputId": "6ed357e2-b7ab-401c-dada-23ea3302d566"
      },
      "execution_count": null,
      "outputs": [
        {
          "output_type": "execute_result",
          "data": {
            "text/plain": [
              "Job.ID                    0\n",
              "Longitude                 0\n",
              "Latitude                  0\n",
              "Created.At                0\n",
              "Position                  0\n",
              "Updated.At                0\n",
              "Slug                      0\n",
              "Status                    0\n",
              "Provider                  0\n",
              "Title                     0\n",
              "Employment.Type          10\n",
              "City                    135\n",
              "Listing.End             167\n",
              "State.Name              171\n",
              "State.Code              171\n",
              "Education.Required      267\n",
              "Listing.Start           683\n",
              "Company                2271\n",
              "Industry              83823\n",
              "Salary                83861\n",
              "Address               84054\n",
              "Requirements          84090\n",
              "dtype: int64"
            ]
          },
          "metadata": {},
          "execution_count": 12
        }
      ]
    },
    {
      "cell_type": "code",
      "source": [
        "# Looking here, we can see 4 columns that are irellevant, as they are mostly empty. These are: Salary, Industry, Requirements and Address\n",
        "# We therefore elect to drop them from the dataset. \n",
        "jobs = jobs.drop(['Industry', 'Salary', 'Address', 'Requirements'], axis=1)"
      ],
      "metadata": {
        "id": "Julge9vTakTg"
      },
      "execution_count": null,
      "outputs": []
    },
    {
      "cell_type": "code",
      "source": [
        "# We check that we successfully dropped the columns.\n",
        "jobs.info()"
      ],
      "metadata": {
        "colab": {
          "base_uri": "https://localhost:8080/"
        },
        "id": "-jeEoByGb04E",
        "outputId": "7f4b0b24-b4e2-4601-9eef-fe81b7ceb838"
      },
      "execution_count": null,
      "outputs": [
        {
          "output_type": "stream",
          "name": "stdout",
          "text": [
            "<class 'pandas.core.frame.DataFrame'>\n",
            "RangeIndex: 84090 entries, 0 to 84089\n",
            "Data columns (total 18 columns):\n",
            " #   Column              Non-Null Count  Dtype  \n",
            "---  ------              --------------  -----  \n",
            " 0   Job.ID              84090 non-null  int64  \n",
            " 1   Provider            84090 non-null  int64  \n",
            " 2   Status              84090 non-null  object \n",
            " 3   Slug                84090 non-null  object \n",
            " 4   Title               84090 non-null  object \n",
            " 5   Position            84090 non-null  object \n",
            " 6   Company             81819 non-null  object \n",
            " 7   City                83955 non-null  object \n",
            " 8   State.Name          83919 non-null  object \n",
            " 9   State.Code          83919 non-null  object \n",
            " 10  Latitude            84090 non-null  float64\n",
            " 11  Longitude           84090 non-null  float64\n",
            " 12  Listing.Start       83407 non-null  object \n",
            " 13  Listing.End         83923 non-null  object \n",
            " 14  Employment.Type     84080 non-null  object \n",
            " 15  Education.Required  83823 non-null  object \n",
            " 16  Created.At          84090 non-null  object \n",
            " 17  Updated.At          84090 non-null  object \n",
            "dtypes: float64(2), int64(2), object(14)\n",
            "memory usage: 11.5+ MB\n"
          ]
        }
      ]
    },
    {
      "cell_type": "code",
      "source": [
        "# As we see, there are still values which are NaN, as they don't constitute a large part of the dataset, we elect to remove those as well.\n",
        "jobs.isna().sum().sort_values()"
      ],
      "metadata": {
        "colab": {
          "base_uri": "https://localhost:8080/"
        },
        "id": "HJcOEDb1dSmU",
        "outputId": "fa3d6b79-9fd2-4b1a-f35d-aa99588350d1"
      },
      "execution_count": null,
      "outputs": [
        {
          "output_type": "execute_result",
          "data": {
            "text/plain": [
              "Job.ID                   0\n",
              "Longitude                0\n",
              "Latitude                 0\n",
              "Created.At               0\n",
              "Position                 0\n",
              "Updated.At               0\n",
              "Slug                     0\n",
              "Status                   0\n",
              "Provider                 0\n",
              "Title                    0\n",
              "Employment.Type         10\n",
              "City                   135\n",
              "Listing.End            167\n",
              "State.Code             171\n",
              "State.Name             171\n",
              "Education.Required     267\n",
              "Listing.Start          683\n",
              "Company               2271\n",
              "dtype: int64"
            ]
          },
          "metadata": {},
          "execution_count": 15
        }
      ]
    },
    {
      "cell_type": "code",
      "source": [
        "\n",
        "jobs = jobs.dropna()"
      ],
      "metadata": {
        "id": "_oFkJEVKcJH4"
      },
      "execution_count": null,
      "outputs": []
    },
    {
      "cell_type": "code",
      "source": [
        "# Our total dataset row-size ends up being 80865, which is acceptable, as it is not even a 10% loss of data. \n",
        "jobs.shape"
      ],
      "metadata": {
        "colab": {
          "base_uri": "https://localhost:8080/"
        },
        "id": "MfbBpTnsc_wa",
        "outputId": "9b45d14f-2494-4c4c-8cfc-dd108ce1d901"
      },
      "execution_count": null,
      "outputs": [
        {
          "output_type": "execute_result",
          "data": {
            "text/plain": [
              "(80865, 18)"
            ]
          },
          "metadata": {},
          "execution_count": 17
        }
      ]
    },
    {
      "cell_type": "markdown",
      "source": [
        "### Looking through all the variables"
      ],
      "metadata": {
        "id": "rAmVfmAieDuZ"
      }
    },
    {
      "cell_type": "code",
      "source": [
        "# We check the data-types of each variable.\n",
        "jobs.info()"
      ],
      "metadata": {
        "colab": {
          "base_uri": "https://localhost:8080/"
        },
        "id": "N793edqndog3",
        "outputId": "804232d3-bcb3-4061-f2ae-4ea9678950b7"
      },
      "execution_count": null,
      "outputs": [
        {
          "output_type": "stream",
          "name": "stdout",
          "text": [
            "<class 'pandas.core.frame.DataFrame'>\n",
            "Int64Index: 80865 entries, 8 to 83980\n",
            "Data columns (total 18 columns):\n",
            " #   Column              Non-Null Count  Dtype  \n",
            "---  ------              --------------  -----  \n",
            " 0   Job.ID              80865 non-null  int64  \n",
            " 1   Provider            80865 non-null  int64  \n",
            " 2   Status              80865 non-null  object \n",
            " 3   Slug                80865 non-null  object \n",
            " 4   Title               80865 non-null  object \n",
            " 5   Position            80865 non-null  object \n",
            " 6   Company             80865 non-null  object \n",
            " 7   City                80865 non-null  object \n",
            " 8   State.Name          80865 non-null  object \n",
            " 9   State.Code          80865 non-null  object \n",
            " 10  Latitude            80865 non-null  float64\n",
            " 11  Longitude           80865 non-null  float64\n",
            " 12  Listing.Start       80865 non-null  object \n",
            " 13  Listing.End         80865 non-null  object \n",
            " 14  Employment.Type     80865 non-null  object \n",
            " 15  Education.Required  80865 non-null  object \n",
            " 16  Created.At          80865 non-null  object \n",
            " 17  Updated.At          80865 non-null  object \n",
            "dtypes: float64(2), int64(2), object(14)\n",
            "memory usage: 11.7+ MB\n"
          ]
        }
      ]
    },
    {
      "cell_type": "code",
      "source": [
        "# Change We change the columns which correspond to date, from object to timebased. \n",
        "\n",
        "jobs['Listing.Start'] = pd.to_datetime(jobs['Listing.Start'])\n",
        "jobs['Listing.End'] = pd.to_datetime(jobs['Listing.End'])"
      ],
      "metadata": {
        "id": "xQePzjw1eLOz",
        "colab": {
          "base_uri": "https://localhost:8080/"
        },
        "outputId": "0568d5eb-8873-4de4-9075-a77178d521c3"
      },
      "execution_count": null,
      "outputs": [
        {
          "output_type": "stream",
          "name": "stderr",
          "text": [
            "/usr/local/lib/python3.7/dist-packages/ipykernel_launcher.py:3: SettingWithCopyWarning: \n",
            "A value is trying to be set on a copy of a slice from a DataFrame.\n",
            "Try using .loc[row_indexer,col_indexer] = value instead\n",
            "\n",
            "See the caveats in the documentation: https://pandas.pydata.org/pandas-docs/stable/user_guide/indexing.html#returning-a-view-versus-a-copy\n",
            "  This is separate from the ipykernel package so we can avoid doing imports until\n",
            "/usr/local/lib/python3.7/dist-packages/ipykernel_launcher.py:4: SettingWithCopyWarning: \n",
            "A value is trying to be set on a copy of a slice from a DataFrame.\n",
            "Try using .loc[row_indexer,col_indexer] = value instead\n",
            "\n",
            "See the caveats in the documentation: https://pandas.pydata.org/pandas-docs/stable/user_guide/indexing.html#returning-a-view-versus-a-copy\n",
            "  after removing the cwd from sys.path.\n"
          ]
        }
      ]
    },
    {
      "cell_type": "code",
      "source": [
        "# We do the same for the Created and Updated columns\n",
        "jobs['Created.At'] = pd.to_datetime(jobs['Created.At'])\n",
        "jobs['Updated.At'] = pd.to_datetime(jobs['Updated.At'])"
      ],
      "metadata": {
        "id": "VKaa-bzYgSW_"
      },
      "execution_count": null,
      "outputs": []
    },
    {
      "cell_type": "code",
      "source": [
        "# We check to make sure that the formats have been changed correctly, and see that Listing columns are correctly formatted. \n",
        "# This is also the case for Created columns, and the time of day has been correctly taken into account\n",
        "jobs.info()"
      ],
      "metadata": {
        "colab": {
          "base_uri": "https://localhost:8080/"
        },
        "id": "Ypf61217gYZa",
        "outputId": "1b94bae2-197a-4957-e9e1-6235fc4a2eca"
      },
      "execution_count": null,
      "outputs": [
        {
          "output_type": "stream",
          "name": "stdout",
          "text": [
            "<class 'pandas.core.frame.DataFrame'>\n",
            "Int64Index: 80865 entries, 8 to 83980\n",
            "Data columns (total 18 columns):\n",
            " #   Column              Non-Null Count  Dtype              \n",
            "---  ------              --------------  -----              \n",
            " 0   Job.ID              80865 non-null  int64              \n",
            " 1   Provider            80865 non-null  int64              \n",
            " 2   Status              80865 non-null  object             \n",
            " 3   Slug                80865 non-null  object             \n",
            " 4   Title               80865 non-null  object             \n",
            " 5   Position            80865 non-null  object             \n",
            " 6   Company             80865 non-null  object             \n",
            " 7   City                80865 non-null  object             \n",
            " 8   State.Name          80865 non-null  object             \n",
            " 9   State.Code          80865 non-null  object             \n",
            " 10  Latitude            80865 non-null  float64            \n",
            " 11  Longitude           80865 non-null  float64            \n",
            " 12  Listing.Start       80865 non-null  datetime64[ns]     \n",
            " 13  Listing.End         80865 non-null  datetime64[ns]     \n",
            " 14  Employment.Type     80865 non-null  object             \n",
            " 15  Education.Required  80865 non-null  object             \n",
            " 16  Created.At          80865 non-null  datetime64[ns, UTC]\n",
            " 17  Updated.At          80865 non-null  datetime64[ns, UTC]\n",
            "dtypes: datetime64[ns, UTC](2), datetime64[ns](2), float64(2), int64(2), object(10)\n",
            "memory usage: 11.7+ MB\n"
          ]
        }
      ]
    },
    {
      "cell_type": "code",
      "source": [
        "# Next we look into unique values to find out if any of the variables makes sense to transform into more meaningful values\n",
        "jobs.nunique()"
      ],
      "metadata": {
        "colab": {
          "base_uri": "https://localhost:8080/"
        },
        "id": "-rSeDBgkhOBg",
        "outputId": "fce66615-d1e4-4fee-e712-4aede4dc0cd5"
      },
      "execution_count": null,
      "outputs": [
        {
          "output_type": "execute_result",
          "data": {
            "text/plain": [
              "Job.ID                80865\n",
              "Provider                  1\n",
              "Status                    1\n",
              "Slug                  80865\n",
              "Title                 40179\n",
              "Position              35091\n",
              "Company                8155\n",
              "City                   5410\n",
              "State.Name               51\n",
              "State.Code               51\n",
              "Latitude              13992\n",
              "Longitude             14177\n",
              "Listing.Start            72\n",
              "Listing.End              67\n",
              "Employment.Type           6\n",
              "Education.Required        5\n",
              "Created.At            57278\n",
              "Updated.At            57055\n",
              "dtype: int64"
            ]
          },
          "metadata": {},
          "execution_count": 22
        }
      ]
    },
    {
      "cell_type": "code",
      "source": [
        "# We chose to look into Employment.Type and Education.Required, as those two don't have a massive amount of unique values. \n",
        "jobs['Employment.Type'].unique()"
      ],
      "metadata": {
        "colab": {
          "base_uri": "https://localhost:8080/"
        },
        "id": "QWzCKQUoivto",
        "outputId": "03a6a719-6830-40ae-8cee-1cef7aa71e59"
      },
      "execution_count": null,
      "outputs": [
        {
          "output_type": "execute_result",
          "data": {
            "text/plain": [
              "array(['Part-Time', 'Full-Time/Part-Time', 'Seasonal/Temp', 'Per Diem',\n",
              "       'Intern', 'Full-Time'], dtype=object)"
            ]
          },
          "metadata": {},
          "execution_count": 23
        }
      ]
    },
    {
      "cell_type": "code",
      "source": [
        "# As we can see, there are some lables that are duplicates, like \"Temporary/seasonal\" and \"Seasonal/Temp\". \n",
        "# We combine the two into one label. \n",
        "jobs['Employment.Type'] = jobs['Employment.Type'].replace(['Seasonal/Temp'], 'Temporary/seasonal')"
      ],
      "metadata": {
        "id": "xQz9AkKplt6H"
      },
      "execution_count": null,
      "outputs": []
    },
    {
      "cell_type": "code",
      "source": [
        "# We also change nan labels into str: Unspecified.\n",
        "jobs['Employment.Type'] = jobs['Employment.Type'].fillna('Unspecified')"
      ],
      "metadata": {
        "id": "LmGeCt_jmdcW"
      },
      "execution_count": null,
      "outputs": []
    },
    {
      "cell_type": "code",
      "source": [
        "# Next we look at Education Required. Here we see that nan, Not Specified, are basically the same labels. \n",
        "jobs['Education.Required'].unique()"
      ],
      "metadata": {
        "colab": {
          "base_uri": "https://localhost:8080/"
        },
        "id": "6-lD6X4XmuSw",
        "outputId": "a9644efa-81ea-47c6-c3aa-531b6ded14b7"
      },
      "execution_count": null,
      "outputs": [
        {
          "output_type": "execute_result",
          "data": {
            "text/plain": [
              "array(['Not Specified', 'High School Diploma', \"Master's Degree\",\n",
              "       'Associate Degree', \"Bachelor's Degree\"], dtype=object)"
            ]
          },
          "metadata": {},
          "execution_count": 26
        }
      ]
    },
    {
      "cell_type": "code",
      "source": [
        "# Here we fill the nan values with the value 'Unspecified', thereby converting it to a str-value.\n",
        "jobs['Education.Required'] = jobs['Education.Required'].fillna('Unspecified')"
      ],
      "metadata": {
        "id": "JBMCKoxTm2b2"
      },
      "execution_count": null,
      "outputs": []
    },
    {
      "cell_type": "code",
      "source": [
        "# Next we replace 'Not Specified' with 'Unspecified' thereby collecting both labels into one label.\n",
        "jobs['Education.Required'] = jobs['Education.Required'].replace(['Not Specified'] , 'Unspecified')"
      ],
      "metadata": {
        "id": "Q0vmY5D7okrs"
      },
      "execution_count": null,
      "outputs": []
    },
    {
      "cell_type": "code",
      "source": [
        "# Lastly we check that everything went according to plan.\n",
        "jobs['Education.Required'].unique()"
      ],
      "metadata": {
        "colab": {
          "base_uri": "https://localhost:8080/"
        },
        "id": "CywzQ5QCo2GB",
        "outputId": "8215df62-fcdb-4181-9e98-73e6b2dffbc8"
      },
      "execution_count": null,
      "outputs": [
        {
          "output_type": "execute_result",
          "data": {
            "text/plain": [
              "array(['Unspecified', 'High School Diploma', \"Master's Degree\",\n",
              "       'Associate Degree', \"Bachelor's Degree\"], dtype=object)"
            ]
          },
          "metadata": {},
          "execution_count": 29
        }
      ]
    },
    {
      "cell_type": "markdown",
      "source": [
        "#### User Job views "
      ],
      "metadata": {
        "id": "bz0CQ1bDzDXM"
      }
    },
    {
      "cell_type": "code",
      "source": [
        "user_view = pd.read_csv('https://raw.githubusercontent.com/fr3drikk/the_dream_team-/main/App/Data/user_job_views.csv')"
      ],
      "metadata": {
        "id": "PlPz1U_SzOUB"
      },
      "execution_count": null,
      "outputs": []
    },
    {
      "cell_type": "code",
      "source": [
        "user_view.shape"
      ],
      "metadata": {
        "colab": {
          "base_uri": "https://localhost:8080/"
        },
        "id": "N5duMZEmzgWH",
        "outputId": "b1806392-9bf0-4df3-c745-9cc6c767a4a7"
      },
      "execution_count": null,
      "outputs": [
        {
          "output_type": "execute_result",
          "data": {
            "text/plain": [
              "(12370, 13)"
            ]
          },
          "metadata": {},
          "execution_count": 31
        }
      ]
    },
    {
      "cell_type": "code",
      "source": [
        "user_view.info()"
      ],
      "metadata": {
        "colab": {
          "base_uri": "https://localhost:8080/"
        },
        "id": "twixCfsBznhp",
        "outputId": "442cd4c9-3e7d-45d9-a3d4-1a02f34bb7a9"
      },
      "execution_count": null,
      "outputs": [
        {
          "output_type": "stream",
          "name": "stdout",
          "text": [
            "<class 'pandas.core.frame.DataFrame'>\n",
            "RangeIndex: 12370 entries, 0 to 12369\n",
            "Data columns (total 13 columns):\n",
            " #   Column         Non-Null Count  Dtype  \n",
            "---  ------         --------------  -----  \n",
            " 0   Applicant.ID   12370 non-null  int64  \n",
            " 1   Job.ID         12370 non-null  int64  \n",
            " 2   Title          12370 non-null  object \n",
            " 3   Company        11790 non-null  object \n",
            " 4   City           12370 non-null  object \n",
            " 5   State.Name     12348 non-null  object \n",
            " 6   State.Code     12348 non-null  object \n",
            " 7   Industry       2199 non-null   object \n",
            " 8   View.Start     12370 non-null  object \n",
            " 9   View.End       10575 non-null  object \n",
            " 10  View.Duration  10575 non-null  float64\n",
            " 11  Created.At     12370 non-null  object \n",
            " 12  Updated.At     12370 non-null  object \n",
            "dtypes: float64(1), int64(2), object(10)\n",
            "memory usage: 1.2+ MB\n"
          ]
        }
      ]
    },
    {
      "cell_type": "code",
      "source": [
        "user_view.isna().sum().sort_values()"
      ],
      "metadata": {
        "colab": {
          "base_uri": "https://localhost:8080/"
        },
        "id": "198siilfz3IG",
        "outputId": "14b7c92b-46a0-49f9-c023-f4aaa80e04c8"
      },
      "execution_count": null,
      "outputs": [
        {
          "output_type": "execute_result",
          "data": {
            "text/plain": [
              "Applicant.ID         0\n",
              "Job.ID               0\n",
              "Title                0\n",
              "City                 0\n",
              "View.Start           0\n",
              "Created.At           0\n",
              "Updated.At           0\n",
              "State.Name          22\n",
              "State.Code          22\n",
              "Company            580\n",
              "View.End          1795\n",
              "View.Duration     1795\n",
              "Industry         10171\n",
              "dtype: int64"
            ]
          },
          "metadata": {},
          "execution_count": 33
        }
      ]
    },
    {
      "cell_type": "code",
      "source": [
        "user_view = user_view.drop(['Industry'], axis=1)\n"
      ],
      "metadata": {
        "id": "Bb7s4dfu0d82"
      },
      "execution_count": null,
      "outputs": []
    },
    {
      "cell_type": "code",
      "source": [
        "user_view['Company'] = user_view['Company'].fillna('Unspecified')"
      ],
      "metadata": {
        "id": "QvGbuidp1POx"
      },
      "execution_count": null,
      "outputs": []
    },
    {
      "cell_type": "code",
      "source": [
        "user_view.isna().sum().sort_values()"
      ],
      "metadata": {
        "colab": {
          "base_uri": "https://localhost:8080/"
        },
        "id": "Aa84bqkD1oUr",
        "outputId": "857f96ef-91bf-473b-9d5e-15040885fe20"
      },
      "execution_count": null,
      "outputs": [
        {
          "output_type": "execute_result",
          "data": {
            "text/plain": [
              "Applicant.ID        0\n",
              "Job.ID              0\n",
              "Title               0\n",
              "Company             0\n",
              "City                0\n",
              "View.Start          0\n",
              "Created.At          0\n",
              "Updated.At          0\n",
              "State.Name         22\n",
              "State.Code         22\n",
              "View.End         1795\n",
              "View.Duration    1795\n",
              "dtype: int64"
            ]
          },
          "metadata": {},
          "execution_count": 36
        }
      ]
    },
    {
      "cell_type": "code",
      "source": [
        "user_view  = user_view.dropna(subset=['State.Name'])"
      ],
      "metadata": {
        "id": "4q1sM-pm1uYV"
      },
      "execution_count": null,
      "outputs": []
    },
    {
      "cell_type": "code",
      "source": [
        "# we calculate the mean of the duration and fill the missing values with it\n",
        "user_view['View.Duration'] = user_view['View.Duration'].fillna(user_view['View.Duration'].mean())"
      ],
      "metadata": {
        "id": "oNKjCURU3y_M",
        "colab": {
          "base_uri": "https://localhost:8080/"
        },
        "outputId": "2b79a5cd-36c8-488f-cca3-97151efa6281"
      },
      "execution_count": null,
      "outputs": [
        {
          "output_type": "stream",
          "name": "stderr",
          "text": [
            "/usr/local/lib/python3.7/dist-packages/ipykernel_launcher.py:2: SettingWithCopyWarning: \n",
            "A value is trying to be set on a copy of a slice from a DataFrame.\n",
            "Try using .loc[row_indexer,col_indexer] = value instead\n",
            "\n",
            "See the caveats in the documentation: https://pandas.pydata.org/pandas-docs/stable/user_guide/indexing.html#returning-a-view-versus-a-copy\n",
            "  \n"
          ]
        }
      ]
    },
    {
      "cell_type": "code",
      "source": [
        "# we change the form of created at, updated at, view start, view end, from objects to datetime\n",
        "user_view['Created.At'] = pd.to_datetime(user_view['Created.At'])\n",
        "user_view['Updated.At'] = pd.to_datetime(user_view['Updated.At'])"
      ],
      "metadata": {
        "id": "NjPSWRSu4u0f"
      },
      "execution_count": null,
      "outputs": []
    },
    {
      "cell_type": "code",
      "source": [
        "user_view['View.Start'] = pd.to_datetime(user_view['View.Start'])\n",
        "user_view['View.End'] = pd.to_datetime(user_view['View.End'])"
      ],
      "metadata": {
        "id": "Do75X7eB5wuh"
      },
      "execution_count": null,
      "outputs": []
    },
    {
      "cell_type": "code",
      "source": [
        "# it works : )\n",
        "user_view.info()"
      ],
      "metadata": {
        "colab": {
          "base_uri": "https://localhost:8080/"
        },
        "id": "-9Od4lht55cn",
        "outputId": "93ced4db-ca9b-4bd2-f8e7-6029e23b6878"
      },
      "execution_count": null,
      "outputs": [
        {
          "output_type": "stream",
          "name": "stdout",
          "text": [
            "<class 'pandas.core.frame.DataFrame'>\n",
            "Int64Index: 12348 entries, 0 to 12369\n",
            "Data columns (total 12 columns):\n",
            " #   Column         Non-Null Count  Dtype              \n",
            "---  ------         --------------  -----              \n",
            " 0   Applicant.ID   12348 non-null  int64              \n",
            " 1   Job.ID         12348 non-null  int64              \n",
            " 2   Title          12348 non-null  object             \n",
            " 3   Company        12348 non-null  object             \n",
            " 4   City           12348 non-null  object             \n",
            " 5   State.Name     12348 non-null  object             \n",
            " 6   State.Code     12348 non-null  object             \n",
            " 7   View.Start     12348 non-null  datetime64[ns, UTC]\n",
            " 8   View.End       10554 non-null  datetime64[ns, UTC]\n",
            " 9   View.Duration  12348 non-null  float64            \n",
            " 10  Created.At     12348 non-null  datetime64[ns, UTC]\n",
            " 11  Updated.At     12348 non-null  datetime64[ns, UTC]\n",
            "dtypes: datetime64[ns, UTC](4), float64(1), int64(2), object(5)\n",
            "memory usage: 1.2+ MB\n"
          ]
        }
      ]
    },
    {
      "cell_type": "code",
      "source": [
        "# we decided to not care about view end, since we have view start and the duration, that is sufficient.\n",
        "user_view['View.Duration'].head()"
      ],
      "metadata": {
        "colab": {
          "base_uri": "https://localhost:8080/"
        },
        "id": "MPHqYlru6HXV",
        "outputId": "b9bb1f09-1d9b-4f18-88e7-33eb0fc927bf"
      },
      "execution_count": null,
      "outputs": [
        {
          "output_type": "execute_result",
          "data": {
            "text/plain": [
              "0    1129.0\n",
              "1      84.0\n",
              "2     286.0\n",
              "3     170.0\n",
              "4      33.0\n",
              "Name: View.Duration, dtype: float64"
            ]
          },
          "metadata": {},
          "execution_count": 42
        }
      ]
    },
    {
      "cell_type": "code",
      "source": [
        "pd.merge(jobs, user_view, how='inner', on= 'Job.ID').info()"
      ],
      "metadata": {
        "colab": {
          "base_uri": "https://localhost:8080/"
        },
        "id": "IVVHVwEt-sn7",
        "outputId": "6b9e84aa-d466-4efe-df4e-f2bed4ca4547"
      },
      "execution_count": null,
      "outputs": [
        {
          "output_type": "stream",
          "name": "stdout",
          "text": [
            "<class 'pandas.core.frame.DataFrame'>\n",
            "Int64Index: 1451 entries, 0 to 1450\n",
            "Data columns (total 29 columns):\n",
            " #   Column              Non-Null Count  Dtype              \n",
            "---  ------              --------------  -----              \n",
            " 0   Job.ID              1451 non-null   int64              \n",
            " 1   Provider            1451 non-null   int64              \n",
            " 2   Status              1451 non-null   object             \n",
            " 3   Slug                1451 non-null   object             \n",
            " 4   Title_x             1451 non-null   object             \n",
            " 5   Position            1451 non-null   object             \n",
            " 6   Company_x           1451 non-null   object             \n",
            " 7   City_x              1451 non-null   object             \n",
            " 8   State.Name_x        1451 non-null   object             \n",
            " 9   State.Code_x        1451 non-null   object             \n",
            " 10  Latitude            1451 non-null   float64            \n",
            " 11  Longitude           1451 non-null   float64            \n",
            " 12  Listing.Start       1451 non-null   datetime64[ns]     \n",
            " 13  Listing.End         1451 non-null   datetime64[ns]     \n",
            " 14  Employment.Type     1451 non-null   object             \n",
            " 15  Education.Required  1451 non-null   object             \n",
            " 16  Created.At_x        1451 non-null   datetime64[ns, UTC]\n",
            " 17  Updated.At_x        1451 non-null   datetime64[ns, UTC]\n",
            " 18  Applicant.ID        1451 non-null   int64              \n",
            " 19  Title_y             1451 non-null   object             \n",
            " 20  Company_y           1451 non-null   object             \n",
            " 21  City_y              1451 non-null   object             \n",
            " 22  State.Name_y        1451 non-null   object             \n",
            " 23  State.Code_y        1451 non-null   object             \n",
            " 24  View.Start          1451 non-null   datetime64[ns, UTC]\n",
            " 25  View.End            1242 non-null   datetime64[ns, UTC]\n",
            " 26  View.Duration       1451 non-null   float64            \n",
            " 27  Created.At_y        1451 non-null   datetime64[ns, UTC]\n",
            " 28  Updated.At_y        1451 non-null   datetime64[ns, UTC]\n",
            "dtypes: datetime64[ns, UTC](6), datetime64[ns](2), float64(3), int64(3), object(15)\n",
            "memory usage: 340.1+ KB\n"
          ]
        }
      ]
    },
    {
      "cell_type": "code",
      "source": [
        "# it works : )\n",
        "user_view.info()"
      ],
      "metadata": {
        "colab": {
          "base_uri": "https://localhost:8080/"
        },
        "outputId": "4be2b8d6-0f5b-4b40-b1b1-13fc1f579cb2",
        "id": "Py1pSmRnfDAE"
      },
      "execution_count": null,
      "outputs": [
        {
          "output_type": "stream",
          "name": "stdout",
          "text": [
            "<class 'pandas.core.frame.DataFrame'>\n",
            "Int64Index: 12348 entries, 0 to 12369\n",
            "Data columns (total 12 columns):\n",
            " #   Column         Non-Null Count  Dtype              \n",
            "---  ------         --------------  -----              \n",
            " 0   Applicant.ID   12348 non-null  int64              \n",
            " 1   Job.ID         12348 non-null  int64              \n",
            " 2   Title          12348 non-null  object             \n",
            " 3   Company        12348 non-null  object             \n",
            " 4   City           12348 non-null  object             \n",
            " 5   State.Name     12348 non-null  object             \n",
            " 6   State.Code     12348 non-null  object             \n",
            " 7   View.Start     12348 non-null  datetime64[ns, UTC]\n",
            " 8   View.End       10554 non-null  datetime64[ns, UTC]\n",
            " 9   View.Duration  12348 non-null  float64            \n",
            " 10  Created.At     12348 non-null  datetime64[ns, UTC]\n",
            " 11  Updated.At     12348 non-null  datetime64[ns, UTC]\n",
            "dtypes: datetime64[ns, UTC](4), float64(1), int64(2), object(5)\n",
            "memory usage: 1.2+ MB\n"
          ]
        }
      ]
    },
    {
      "cell_type": "code",
      "source": [
        "# it works : )\n",
        "user_view.info()"
      ],
      "metadata": {
        "colab": {
          "base_uri": "https://localhost:8080/"
        },
        "outputId": "cd252468-f452-4077-fad5-3c88d971d2d5",
        "id": "mWvmloJmfB1s"
      },
      "execution_count": null,
      "outputs": [
        {
          "output_type": "stream",
          "name": "stdout",
          "text": [
            "<class 'pandas.core.frame.DataFrame'>\n",
            "Int64Index: 12348 entries, 0 to 12369\n",
            "Data columns (total 12 columns):\n",
            " #   Column         Non-Null Count  Dtype              \n",
            "---  ------         --------------  -----              \n",
            " 0   Applicant.ID   12348 non-null  int64              \n",
            " 1   Job.ID         12348 non-null  int64              \n",
            " 2   Title          12348 non-null  object             \n",
            " 3   Company        12348 non-null  object             \n",
            " 4   City           12348 non-null  object             \n",
            " 5   State.Name     12348 non-null  object             \n",
            " 6   State.Code     12348 non-null  object             \n",
            " 7   View.Start     12348 non-null  datetime64[ns, UTC]\n",
            " 8   View.End       10554 non-null  datetime64[ns, UTC]\n",
            " 9   View.Duration  12348 non-null  float64            \n",
            " 10  Created.At     12348 non-null  datetime64[ns, UTC]\n",
            " 11  Updated.At     12348 non-null  datetime64[ns, UTC]\n",
            "dtypes: datetime64[ns, UTC](4), float64(1), int64(2), object(5)\n",
            "memory usage: 1.2+ MB\n"
          ]
        }
      ]
    },
    {
      "cell_type": "markdown",
      "source": [
        "### User experience"
      ],
      "metadata": {
        "id": "qFZ2ZWBD9ABO"
      }
    },
    {
      "cell_type": "code",
      "source": [
        "user_exp = pd.read_csv('https://raw.githubusercontent.com/fr3drikk/the_dream_team-/main/App/Data/user_past_experience.csv')"
      ],
      "metadata": {
        "id": "Qsp0hyLe7B2b"
      },
      "execution_count": null,
      "outputs": []
    },
    {
      "cell_type": "code",
      "source": [
        "user_exp.head()"
      ],
      "metadata": {
        "colab": {
          "base_uri": "https://localhost:8080/"
        },
        "id": "Ow4xI-Yf9Hia",
        "outputId": "e84b06aa-6428-4e0f-eb0a-1c6152a495fe"
      },
      "execution_count": null,
      "outputs": [
        {
          "output_type": "execute_result",
          "data": {
            "text/plain": [
              "   Applicant.ID                                      Position.Name  \\\n",
              "0         10001  Account Manager / Sales Administration / Quali...   \n",
              "1         10001    Electronics Technician / Item Master Controller   \n",
              "2         10001                                   Machine Operator   \n",
              "3         10003                             maintenance technician   \n",
              "4         10003                                 Electrical Helper    \n",
              "\n",
              "               Employer.Name         City            State.Name State.Code  \\\n",
              "0         Barcode Resourcing   Bellingham            Washington         WA   \n",
              "1                Ryzex Group   Bellingham            Washington         WA   \n",
              "2                comptec inc       Custer            Washington         WA   \n",
              "3           Winn residental    washington  District of Columbia         DC   \n",
              "4  michael and son services   alexandria               Virginia         VA   \n",
              "\n",
              "   Start.Date    End.Date                                    Job.Description  \\\n",
              "0  2012-10-15         NaN                                                NaN   \n",
              "1  2001-12-01  2012-04-01                                                NaN   \n",
              "2  1997-01-01  1999-01-01                                                NaN   \n",
              "3         NaN         NaN  Necessary maintenance for \"Make Ready\" Plumbin...   \n",
              "4         NaN         NaN    repair and services of electrical construction    \n",
              "\n",
              "   Salary Can.Contact.Employer               Created.At  \\\n",
              "0     NaN                  NaN  2014-12-12 20:10:02 UTC   \n",
              "1     NaN                  NaN  2014-12-12 20:10:02 UTC   \n",
              "2     NaN                  NaN  2014-12-12 20:10:02 UTC   \n",
              "3    10.0                False  2014-12-12 21:27:05 UTC   \n",
              "4     NaN                False  2014-12-12 21:27:05 UTC   \n",
              "\n",
              "                Updated.At  \n",
              "0  2014-12-12 20:10:02 UTC  \n",
              "1  2014-12-12 20:10:02 UTC  \n",
              "2  2014-12-12 20:10:02 UTC  \n",
              "3  2014-12-12 21:27:05 UTC  \n",
              "4  2014-12-12 21:27:05 UTC  "
            ],
            "text/html": [
              "\n",
              "  <div id=\"df-3ca337e9-e23b-4046-a23e-773e1a9e2df1\">\n",
              "    <div class=\"colab-df-container\">\n",
              "      <div>\n",
              "<style scoped>\n",
              "    .dataframe tbody tr th:only-of-type {\n",
              "        vertical-align: middle;\n",
              "    }\n",
              "\n",
              "    .dataframe tbody tr th {\n",
              "        vertical-align: top;\n",
              "    }\n",
              "\n",
              "    .dataframe thead th {\n",
              "        text-align: right;\n",
              "    }\n",
              "</style>\n",
              "<table border=\"1\" class=\"dataframe\">\n",
              "  <thead>\n",
              "    <tr style=\"text-align: right;\">\n",
              "      <th></th>\n",
              "      <th>Applicant.ID</th>\n",
              "      <th>Position.Name</th>\n",
              "      <th>Employer.Name</th>\n",
              "      <th>City</th>\n",
              "      <th>State.Name</th>\n",
              "      <th>State.Code</th>\n",
              "      <th>Start.Date</th>\n",
              "      <th>End.Date</th>\n",
              "      <th>Job.Description</th>\n",
              "      <th>Salary</th>\n",
              "      <th>Can.Contact.Employer</th>\n",
              "      <th>Created.At</th>\n",
              "      <th>Updated.At</th>\n",
              "    </tr>\n",
              "  </thead>\n",
              "  <tbody>\n",
              "    <tr>\n",
              "      <th>0</th>\n",
              "      <td>10001</td>\n",
              "      <td>Account Manager / Sales Administration / Quali...</td>\n",
              "      <td>Barcode Resourcing</td>\n",
              "      <td>Bellingham</td>\n",
              "      <td>Washington</td>\n",
              "      <td>WA</td>\n",
              "      <td>2012-10-15</td>\n",
              "      <td>NaN</td>\n",
              "      <td>NaN</td>\n",
              "      <td>NaN</td>\n",
              "      <td>NaN</td>\n",
              "      <td>2014-12-12 20:10:02 UTC</td>\n",
              "      <td>2014-12-12 20:10:02 UTC</td>\n",
              "    </tr>\n",
              "    <tr>\n",
              "      <th>1</th>\n",
              "      <td>10001</td>\n",
              "      <td>Electronics Technician / Item Master Controller</td>\n",
              "      <td>Ryzex Group</td>\n",
              "      <td>Bellingham</td>\n",
              "      <td>Washington</td>\n",
              "      <td>WA</td>\n",
              "      <td>2001-12-01</td>\n",
              "      <td>2012-04-01</td>\n",
              "      <td>NaN</td>\n",
              "      <td>NaN</td>\n",
              "      <td>NaN</td>\n",
              "      <td>2014-12-12 20:10:02 UTC</td>\n",
              "      <td>2014-12-12 20:10:02 UTC</td>\n",
              "    </tr>\n",
              "    <tr>\n",
              "      <th>2</th>\n",
              "      <td>10001</td>\n",
              "      <td>Machine Operator</td>\n",
              "      <td>comptec inc</td>\n",
              "      <td>Custer</td>\n",
              "      <td>Washington</td>\n",
              "      <td>WA</td>\n",
              "      <td>1997-01-01</td>\n",
              "      <td>1999-01-01</td>\n",
              "      <td>NaN</td>\n",
              "      <td>NaN</td>\n",
              "      <td>NaN</td>\n",
              "      <td>2014-12-12 20:10:02 UTC</td>\n",
              "      <td>2014-12-12 20:10:02 UTC</td>\n",
              "    </tr>\n",
              "    <tr>\n",
              "      <th>3</th>\n",
              "      <td>10003</td>\n",
              "      <td>maintenance technician</td>\n",
              "      <td>Winn residental</td>\n",
              "      <td>washington</td>\n",
              "      <td>District of Columbia</td>\n",
              "      <td>DC</td>\n",
              "      <td>NaN</td>\n",
              "      <td>NaN</td>\n",
              "      <td>Necessary maintenance for \"Make Ready\" Plumbin...</td>\n",
              "      <td>10.0</td>\n",
              "      <td>False</td>\n",
              "      <td>2014-12-12 21:27:05 UTC</td>\n",
              "      <td>2014-12-12 21:27:05 UTC</td>\n",
              "    </tr>\n",
              "    <tr>\n",
              "      <th>4</th>\n",
              "      <td>10003</td>\n",
              "      <td>Electrical Helper</td>\n",
              "      <td>michael and son services</td>\n",
              "      <td>alexandria</td>\n",
              "      <td>Virginia</td>\n",
              "      <td>VA</td>\n",
              "      <td>NaN</td>\n",
              "      <td>NaN</td>\n",
              "      <td>repair and services of electrical construction</td>\n",
              "      <td>NaN</td>\n",
              "      <td>False</td>\n",
              "      <td>2014-12-12 21:27:05 UTC</td>\n",
              "      <td>2014-12-12 21:27:05 UTC</td>\n",
              "    </tr>\n",
              "  </tbody>\n",
              "</table>\n",
              "</div>\n",
              "      <button class=\"colab-df-convert\" onclick=\"convertToInteractive('df-3ca337e9-e23b-4046-a23e-773e1a9e2df1')\"\n",
              "              title=\"Convert this dataframe to an interactive table.\"\n",
              "              style=\"display:none;\">\n",
              "        \n",
              "  <svg xmlns=\"http://www.w3.org/2000/svg\" height=\"24px\"viewBox=\"0 0 24 24\"\n",
              "       width=\"24px\">\n",
              "    <path d=\"M0 0h24v24H0V0z\" fill=\"none\"/>\n",
              "    <path d=\"M18.56 5.44l.94 2.06.94-2.06 2.06-.94-2.06-.94-.94-2.06-.94 2.06-2.06.94zm-11 1L8.5 8.5l.94-2.06 2.06-.94-2.06-.94L8.5 2.5l-.94 2.06-2.06.94zm10 10l.94 2.06.94-2.06 2.06-.94-2.06-.94-.94-2.06-.94 2.06-2.06.94z\"/><path d=\"M17.41 7.96l-1.37-1.37c-.4-.4-.92-.59-1.43-.59-.52 0-1.04.2-1.43.59L10.3 9.45l-7.72 7.72c-.78.78-.78 2.05 0 2.83L4 21.41c.39.39.9.59 1.41.59.51 0 1.02-.2 1.41-.59l7.78-7.78 2.81-2.81c.8-.78.8-2.07 0-2.86zM5.41 20L4 18.59l7.72-7.72 1.47 1.35L5.41 20z\"/>\n",
              "  </svg>\n",
              "      </button>\n",
              "      \n",
              "  <style>\n",
              "    .colab-df-container {\n",
              "      display:flex;\n",
              "      flex-wrap:wrap;\n",
              "      gap: 12px;\n",
              "    }\n",
              "\n",
              "    .colab-df-convert {\n",
              "      background-color: #E8F0FE;\n",
              "      border: none;\n",
              "      border-radius: 50%;\n",
              "      cursor: pointer;\n",
              "      display: none;\n",
              "      fill: #1967D2;\n",
              "      height: 32px;\n",
              "      padding: 0 0 0 0;\n",
              "      width: 32px;\n",
              "    }\n",
              "\n",
              "    .colab-df-convert:hover {\n",
              "      background-color: #E2EBFA;\n",
              "      box-shadow: 0px 1px 2px rgba(60, 64, 67, 0.3), 0px 1px 3px 1px rgba(60, 64, 67, 0.15);\n",
              "      fill: #174EA6;\n",
              "    }\n",
              "\n",
              "    [theme=dark] .colab-df-convert {\n",
              "      background-color: #3B4455;\n",
              "      fill: #D2E3FC;\n",
              "    }\n",
              "\n",
              "    [theme=dark] .colab-df-convert:hover {\n",
              "      background-color: #434B5C;\n",
              "      box-shadow: 0px 1px 3px 1px rgba(0, 0, 0, 0.15);\n",
              "      filter: drop-shadow(0px 1px 2px rgba(0, 0, 0, 0.3));\n",
              "      fill: #FFFFFF;\n",
              "    }\n",
              "  </style>\n",
              "\n",
              "      <script>\n",
              "        const buttonEl =\n",
              "          document.querySelector('#df-3ca337e9-e23b-4046-a23e-773e1a9e2df1 button.colab-df-convert');\n",
              "        buttonEl.style.display =\n",
              "          google.colab.kernel.accessAllowed ? 'block' : 'none';\n",
              "\n",
              "        async function convertToInteractive(key) {\n",
              "          const element = document.querySelector('#df-3ca337e9-e23b-4046-a23e-773e1a9e2df1');\n",
              "          const dataTable =\n",
              "            await google.colab.kernel.invokeFunction('convertToInteractive',\n",
              "                                                     [key], {});\n",
              "          if (!dataTable) return;\n",
              "\n",
              "          const docLinkHtml = 'Like what you see? Visit the ' +\n",
              "            '<a target=\"_blank\" href=https://colab.research.google.com/notebooks/data_table.ipynb>data table notebook</a>'\n",
              "            + ' to learn more about interactive tables.';\n",
              "          element.innerHTML = '';\n",
              "          dataTable['output_type'] = 'display_data';\n",
              "          await google.colab.output.renderOutput(dataTable, element);\n",
              "          const docLink = document.createElement('div');\n",
              "          docLink.innerHTML = docLinkHtml;\n",
              "          element.appendChild(docLink);\n",
              "        }\n",
              "      </script>\n",
              "    </div>\n",
              "  </div>\n",
              "  "
            ]
          },
          "metadata": {},
          "execution_count": 47
        }
      ]
    },
    {
      "cell_type": "code",
      "source": [
        "user_exp.shape"
      ],
      "metadata": {
        "colab": {
          "base_uri": "https://localhost:8080/"
        },
        "id": "WWa7li4z9JsL",
        "outputId": "8af894a3-d278-4729-d5a0-24da6930a6d5"
      },
      "execution_count": null,
      "outputs": [
        {
          "output_type": "execute_result",
          "data": {
            "text/plain": [
              "(8653, 13)"
            ]
          },
          "metadata": {},
          "execution_count": 48
        }
      ]
    },
    {
      "cell_type": "code",
      "source": [
        "user_exp.isna().sum().sort_values()"
      ],
      "metadata": {
        "colab": {
          "base_uri": "https://localhost:8080/"
        },
        "id": "uf8TlJD49P2R",
        "outputId": "faaf7bfc-d2ca-43ea-f684-99396d0d5d36"
      },
      "execution_count": null,
      "outputs": [
        {
          "output_type": "execute_result",
          "data": {
            "text/plain": [
              "Applicant.ID               0\n",
              "Created.At                 0\n",
              "Updated.At                 0\n",
              "Employer.Name             33\n",
              "Position.Name            950\n",
              "Start.Date              2035\n",
              "Job.Description         2961\n",
              "City                    3731\n",
              "End.Date                3747\n",
              "State.Name              4058\n",
              "State.Code              4058\n",
              "Can.Contact.Employer    5072\n",
              "Salary                  5855\n",
              "dtype: int64"
            ]
          },
          "metadata": {},
          "execution_count": 49
        }
      ]
    },
    {
      "cell_type": "code",
      "source": [
        "user_exp['Position.Name'].value_counts()"
      ],
      "metadata": {
        "colab": {
          "base_uri": "https://localhost:8080/"
        },
        "id": "8tPE1uSi9VlR",
        "outputId": "b98c2f32-8a43-453e-dbfb-ce3566fb1512"
      },
      "execution_count": null,
      "outputs": [
        {
          "output_type": "execute_result",
          "data": {
            "text/plain": [
              "Cashier                                              129\n",
              "Sales Associate                                      116\n",
              "Server                                                86\n",
              "Administrative Assistant                              76\n",
              "Owner                                                 58\n",
              "                                                    ... \n",
              "News Production Intern                                 1\n",
              "Late Night with Jimmy Fallon -  Production Intern      1\n",
              "Extern                                                 1\n",
              "Cinematographer                                        1\n",
              "Server/cocktail server/bartender                       1\n",
              "Name: Position.Name, Length: 4986, dtype: int64"
            ]
          },
          "metadata": {},
          "execution_count": 50
        }
      ]
    },
    {
      "cell_type": "markdown",
      "source": [
        "### User work interest"
      ],
      "metadata": {
        "id": "7uVcRur6-P4m"
      }
    },
    {
      "cell_type": "code",
      "source": [
        "user_int = pd.read_csv('https://raw.githubusercontent.com/fr3drikk/the_dream_team-/main/App/Data/user_work_interest.csv')"
      ],
      "metadata": {
        "id": "gfSqkz-f-TRc"
      },
      "execution_count": null,
      "outputs": []
    },
    {
      "cell_type": "code",
      "source": [
        "user_int.head()"
      ],
      "metadata": {
        "colab": {
          "base_uri": "https://localhost:8080/",
          "height": 206
        },
        "id": "s2wdlrEc-bK8",
        "outputId": "a368ff25-c443-42d9-ea1b-ae9d2100fd50"
      },
      "execution_count": null,
      "outputs": [
        {
          "output_type": "execute_result",
          "data": {
            "text/plain": [
              "   Applicant.ID Position.Of.Interest               Created.At  \\\n",
              "0         10003     security officer  2014-12-12 21:20:54 UTC   \n",
              "1         10007               Server  2014-08-14 15:56:42 UTC   \n",
              "2         10007            Bartender  2014-08-14 15:56:44 UTC   \n",
              "3         10008                 Host  2014-08-14 15:56:42 UTC   \n",
              "4         10008              Barista  2014-08-14 15:56:43 UTC   \n",
              "\n",
              "                Updated.At  \n",
              "0  2014-12-12 21:20:54 UTC  \n",
              "1  2015-02-26 20:35:12 UTC  \n",
              "2  2015-02-19 23:21:28 UTC  \n",
              "3  2015-02-26 20:35:12 UTC  \n",
              "4  2015-02-18 02:35:06 UTC  "
            ],
            "text/html": [
              "\n",
              "  <div id=\"df-e2b7f84f-0a96-4543-b047-b29e822a1cf2\">\n",
              "    <div class=\"colab-df-container\">\n",
              "      <div>\n",
              "<style scoped>\n",
              "    .dataframe tbody tr th:only-of-type {\n",
              "        vertical-align: middle;\n",
              "    }\n",
              "\n",
              "    .dataframe tbody tr th {\n",
              "        vertical-align: top;\n",
              "    }\n",
              "\n",
              "    .dataframe thead th {\n",
              "        text-align: right;\n",
              "    }\n",
              "</style>\n",
              "<table border=\"1\" class=\"dataframe\">\n",
              "  <thead>\n",
              "    <tr style=\"text-align: right;\">\n",
              "      <th></th>\n",
              "      <th>Applicant.ID</th>\n",
              "      <th>Position.Of.Interest</th>\n",
              "      <th>Created.At</th>\n",
              "      <th>Updated.At</th>\n",
              "    </tr>\n",
              "  </thead>\n",
              "  <tbody>\n",
              "    <tr>\n",
              "      <th>0</th>\n",
              "      <td>10003</td>\n",
              "      <td>security officer</td>\n",
              "      <td>2014-12-12 21:20:54 UTC</td>\n",
              "      <td>2014-12-12 21:20:54 UTC</td>\n",
              "    </tr>\n",
              "    <tr>\n",
              "      <th>1</th>\n",
              "      <td>10007</td>\n",
              "      <td>Server</td>\n",
              "      <td>2014-08-14 15:56:42 UTC</td>\n",
              "      <td>2015-02-26 20:35:12 UTC</td>\n",
              "    </tr>\n",
              "    <tr>\n",
              "      <th>2</th>\n",
              "      <td>10007</td>\n",
              "      <td>Bartender</td>\n",
              "      <td>2014-08-14 15:56:44 UTC</td>\n",
              "      <td>2015-02-19 23:21:28 UTC</td>\n",
              "    </tr>\n",
              "    <tr>\n",
              "      <th>3</th>\n",
              "      <td>10008</td>\n",
              "      <td>Host</td>\n",
              "      <td>2014-08-14 15:56:42 UTC</td>\n",
              "      <td>2015-02-26 20:35:12 UTC</td>\n",
              "    </tr>\n",
              "    <tr>\n",
              "      <th>4</th>\n",
              "      <td>10008</td>\n",
              "      <td>Barista</td>\n",
              "      <td>2014-08-14 15:56:43 UTC</td>\n",
              "      <td>2015-02-18 02:35:06 UTC</td>\n",
              "    </tr>\n",
              "  </tbody>\n",
              "</table>\n",
              "</div>\n",
              "      <button class=\"colab-df-convert\" onclick=\"convertToInteractive('df-e2b7f84f-0a96-4543-b047-b29e822a1cf2')\"\n",
              "              title=\"Convert this dataframe to an interactive table.\"\n",
              "              style=\"display:none;\">\n",
              "        \n",
              "  <svg xmlns=\"http://www.w3.org/2000/svg\" height=\"24px\"viewBox=\"0 0 24 24\"\n",
              "       width=\"24px\">\n",
              "    <path d=\"M0 0h24v24H0V0z\" fill=\"none\"/>\n",
              "    <path d=\"M18.56 5.44l.94 2.06.94-2.06 2.06-.94-2.06-.94-.94-2.06-.94 2.06-2.06.94zm-11 1L8.5 8.5l.94-2.06 2.06-.94-2.06-.94L8.5 2.5l-.94 2.06-2.06.94zm10 10l.94 2.06.94-2.06 2.06-.94-2.06-.94-.94-2.06-.94 2.06-2.06.94z\"/><path d=\"M17.41 7.96l-1.37-1.37c-.4-.4-.92-.59-1.43-.59-.52 0-1.04.2-1.43.59L10.3 9.45l-7.72 7.72c-.78.78-.78 2.05 0 2.83L4 21.41c.39.39.9.59 1.41.59.51 0 1.02-.2 1.41-.59l7.78-7.78 2.81-2.81c.8-.78.8-2.07 0-2.86zM5.41 20L4 18.59l7.72-7.72 1.47 1.35L5.41 20z\"/>\n",
              "  </svg>\n",
              "      </button>\n",
              "      \n",
              "  <style>\n",
              "    .colab-df-container {\n",
              "      display:flex;\n",
              "      flex-wrap:wrap;\n",
              "      gap: 12px;\n",
              "    }\n",
              "\n",
              "    .colab-df-convert {\n",
              "      background-color: #E8F0FE;\n",
              "      border: none;\n",
              "      border-radius: 50%;\n",
              "      cursor: pointer;\n",
              "      display: none;\n",
              "      fill: #1967D2;\n",
              "      height: 32px;\n",
              "      padding: 0 0 0 0;\n",
              "      width: 32px;\n",
              "    }\n",
              "\n",
              "    .colab-df-convert:hover {\n",
              "      background-color: #E2EBFA;\n",
              "      box-shadow: 0px 1px 2px rgba(60, 64, 67, 0.3), 0px 1px 3px 1px rgba(60, 64, 67, 0.15);\n",
              "      fill: #174EA6;\n",
              "    }\n",
              "\n",
              "    [theme=dark] .colab-df-convert {\n",
              "      background-color: #3B4455;\n",
              "      fill: #D2E3FC;\n",
              "    }\n",
              "\n",
              "    [theme=dark] .colab-df-convert:hover {\n",
              "      background-color: #434B5C;\n",
              "      box-shadow: 0px 1px 3px 1px rgba(0, 0, 0, 0.15);\n",
              "      filter: drop-shadow(0px 1px 2px rgba(0, 0, 0, 0.3));\n",
              "      fill: #FFFFFF;\n",
              "    }\n",
              "  </style>\n",
              "\n",
              "      <script>\n",
              "        const buttonEl =\n",
              "          document.querySelector('#df-e2b7f84f-0a96-4543-b047-b29e822a1cf2 button.colab-df-convert');\n",
              "        buttonEl.style.display =\n",
              "          google.colab.kernel.accessAllowed ? 'block' : 'none';\n",
              "\n",
              "        async function convertToInteractive(key) {\n",
              "          const element = document.querySelector('#df-e2b7f84f-0a96-4543-b047-b29e822a1cf2');\n",
              "          const dataTable =\n",
              "            await google.colab.kernel.invokeFunction('convertToInteractive',\n",
              "                                                     [key], {});\n",
              "          if (!dataTable) return;\n",
              "\n",
              "          const docLinkHtml = 'Like what you see? Visit the ' +\n",
              "            '<a target=\"_blank\" href=https://colab.research.google.com/notebooks/data_table.ipynb>data table notebook</a>'\n",
              "            + ' to learn more about interactive tables.';\n",
              "          element.innerHTML = '';\n",
              "          dataTable['output_type'] = 'display_data';\n",
              "          await google.colab.output.renderOutput(dataTable, element);\n",
              "          const docLink = document.createElement('div');\n",
              "          docLink.innerHTML = docLinkHtml;\n",
              "          element.appendChild(docLink);\n",
              "        }\n",
              "      </script>\n",
              "    </div>\n",
              "  </div>\n",
              "  "
            ]
          },
          "metadata": {},
          "execution_count": 52
        }
      ]
    },
    {
      "cell_type": "code",
      "source": [
        "pd.merge(user_exp, user_int, how='inner', on= 'Applicant.ID').info()"
      ],
      "metadata": {
        "colab": {
          "base_uri": "https://localhost:8080/"
        },
        "id": "YthYbiqJhmC-",
        "outputId": "e8d77437-bb29-4c76-f996-f9f0ec09d30c"
      },
      "execution_count": null,
      "outputs": [
        {
          "output_type": "stream",
          "name": "stdout",
          "text": [
            "<class 'pandas.core.frame.DataFrame'>\n",
            "Int64Index: 10084 entries, 0 to 10083\n",
            "Data columns (total 16 columns):\n",
            " #   Column                Non-Null Count  Dtype  \n",
            "---  ------                --------------  -----  \n",
            " 0   Applicant.ID          10084 non-null  int64  \n",
            " 1   Position.Name         9747 non-null   object \n",
            " 2   Employer.Name         10075 non-null  object \n",
            " 3   City                  8925 non-null   object \n",
            " 4   State.Name            8889 non-null   object \n",
            " 5   State.Code            8889 non-null   object \n",
            " 6   Start.Date            8850 non-null   object \n",
            " 7   End.Date              6785 non-null   object \n",
            " 8   Job.Description       9222 non-null   object \n",
            " 9   Salary                7001 non-null   float64\n",
            " 10  Can.Contact.Employer  8669 non-null   object \n",
            " 11  Created.At_x          10084 non-null  object \n",
            " 12  Updated.At_x          10084 non-null  object \n",
            " 13  Position.Of.Interest  10079 non-null  object \n",
            " 14  Created.At_y          10084 non-null  object \n",
            " 15  Updated.At_y          10084 non-null  object \n",
            "dtypes: float64(1), int64(1), object(14)\n",
            "memory usage: 1.3+ MB\n"
          ]
        }
      ]
    },
    {
      "cell_type": "code",
      "source": [
        "merged_user = pd.merge(user_exp, user_int, how='inner', on= 'Applicant.ID')"
      ],
      "metadata": {
        "id": "GhXRi8sFh7qb"
      },
      "execution_count": null,
      "outputs": []
    },
    {
      "cell_type": "code",
      "source": [
        "merged_user"
      ],
      "metadata": {
        "colab": {
          "base_uri": "https://localhost:8080/",
          "height": 870
        },
        "id": "qucuY617jxNv",
        "outputId": "de306c59-7d85-4c05-fde0-f105750425fc"
      },
      "execution_count": null,
      "outputs": [
        {
          "output_type": "execute_result",
          "data": {
            "text/plain": [
              "       Applicant.ID                     Position.Name  \\\n",
              "0             10003            maintenance technician   \n",
              "1             10003                Electrical Helper    \n",
              "2             10003                       technician    \n",
              "3             10007                         Bartender   \n",
              "4             10007                         Bartender   \n",
              "...             ...                               ...   \n",
              "10079          9997  Server/cocktail server/bartender   \n",
              "10080          9997  Server/cocktail server/bartender   \n",
              "10081          9997                            Server   \n",
              "10082          9997                            Server   \n",
              "10083          9997                            Server   \n",
              "\n",
              "                   Employer.Name               City            State.Name  \\\n",
              "0               Winn residental          washington  District of Columbia   \n",
              "1      michael and son services         alexandria               Virginia   \n",
              "2                    jiffy lube   district heights               Maryland   \n",
              "3                Infusion Lounge      San Francisco            California   \n",
              "4                Infusion Lounge      San Francisco            California   \n",
              "...                          ...                ...                   ...   \n",
              "10079             The River Room           New York              New York   \n",
              "10080             The River Room           New York              New York   \n",
              "10081                  24 Prince           New York              New York   \n",
              "10082                  24 Prince           New York              New York   \n",
              "10083                  24 Prince           New York              New York   \n",
              "\n",
              "      State.Code  Start.Date    End.Date  \\\n",
              "0             DC         NaN         NaN   \n",
              "1             VA         NaN         NaN   \n",
              "2             MD         NaN         NaN   \n",
              "3             CA  2010-08-01         NaN   \n",
              "4             CA  2010-08-01         NaN   \n",
              "...          ...         ...         ...   \n",
              "10079         NY  2008-08-01  2010-10-01   \n",
              "10080         NY  2008-08-01  2010-10-01   \n",
              "10081         NY  2008-01-01  2009-12-01   \n",
              "10082         NY  2008-01-01  2009-12-01   \n",
              "10083         NY  2008-01-01  2009-12-01   \n",
              "\n",
              "                                         Job.Description  Salary  \\\n",
              "0      Necessary maintenance for \"Make Ready\" Plumbin...   10.00   \n",
              "1        repair and services of electrical construction      NaN   \n",
              "2      basic auto maintenance, and customer services ...    7.25   \n",
              "3      Support bar and management staff at a well-kno...     NaN   \n",
              "4      Support bar and management staff at a well-kno...     NaN   \n",
              "...                                                  ...     ...   \n",
              "10079  This was an establishment that majority of the...   25.00   \n",
              "10080  This was an establishment that majority of the...   25.00   \n",
              "10081  I was a server. This was a new american italia...    4.15   \n",
              "10082  I was a server. This was a new american italia...    4.15   \n",
              "10083  I was a server. This was a new american italia...    4.15   \n",
              "\n",
              "      Can.Contact.Employer             Created.At_x             Updated.At_x  \\\n",
              "0                    False  2014-12-12 21:27:05 UTC  2014-12-12 21:27:05 UTC   \n",
              "1                    False  2014-12-12 21:27:05 UTC  2014-12-12 21:27:05 UTC   \n",
              "2                    False  2014-12-12 21:27:05 UTC  2014-12-12 21:27:05 UTC   \n",
              "3                    False  2014-12-12 23:01:04 UTC  2014-12-12 23:03:13 UTC   \n",
              "4                    False  2014-12-12 23:01:04 UTC  2014-12-12 23:03:13 UTC   \n",
              "...                    ...                      ...                      ...   \n",
              "10079                 True  2014-12-12 20:54:21 UTC  2014-12-12 20:54:21 UTC   \n",
              "10080                 True  2014-12-12 20:54:21 UTC  2014-12-12 20:54:21 UTC   \n",
              "10081                False  2014-12-12 20:54:21 UTC  2014-12-12 20:54:21 UTC   \n",
              "10082                False  2014-12-12 20:54:21 UTC  2014-12-12 20:54:21 UTC   \n",
              "10083                False  2014-12-12 20:54:21 UTC  2014-12-12 20:54:21 UTC   \n",
              "\n",
              "      Position.Of.Interest             Created.At_y             Updated.At_y  \n",
              "0         security officer  2014-12-12 21:20:54 UTC  2014-12-12 21:20:54 UTC  \n",
              "1         security officer  2014-12-12 21:20:54 UTC  2014-12-12 21:20:54 UTC  \n",
              "2         security officer  2014-12-12 21:20:54 UTC  2014-12-12 21:20:54 UTC  \n",
              "3                   Server  2014-08-14 15:56:42 UTC  2015-02-26 20:35:12 UTC  \n",
              "4                Bartender  2014-08-14 15:56:44 UTC  2015-02-19 23:21:28 UTC  \n",
              "...                    ...                      ...                      ...  \n",
              "10079              Barista  2014-08-14 15:56:43 UTC  2015-02-18 02:35:06 UTC  \n",
              "10080            Bartender  2014-08-14 15:56:44 UTC  2015-02-19 23:21:28 UTC  \n",
              "10081               Server  2014-08-14 15:56:42 UTC  2015-02-26 20:35:12 UTC  \n",
              "10082              Barista  2014-08-14 15:56:43 UTC  2015-02-18 02:35:06 UTC  \n",
              "10083            Bartender  2014-08-14 15:56:44 UTC  2015-02-19 23:21:28 UTC  \n",
              "\n",
              "[10084 rows x 16 columns]"
            ],
            "text/html": [
              "\n",
              "  <div id=\"df-049b2b9d-85b4-45d9-816d-a5c781e32035\">\n",
              "    <div class=\"colab-df-container\">\n",
              "      <div>\n",
              "<style scoped>\n",
              "    .dataframe tbody tr th:only-of-type {\n",
              "        vertical-align: middle;\n",
              "    }\n",
              "\n",
              "    .dataframe tbody tr th {\n",
              "        vertical-align: top;\n",
              "    }\n",
              "\n",
              "    .dataframe thead th {\n",
              "        text-align: right;\n",
              "    }\n",
              "</style>\n",
              "<table border=\"1\" class=\"dataframe\">\n",
              "  <thead>\n",
              "    <tr style=\"text-align: right;\">\n",
              "      <th></th>\n",
              "      <th>Applicant.ID</th>\n",
              "      <th>Position.Name</th>\n",
              "      <th>Employer.Name</th>\n",
              "      <th>City</th>\n",
              "      <th>State.Name</th>\n",
              "      <th>State.Code</th>\n",
              "      <th>Start.Date</th>\n",
              "      <th>End.Date</th>\n",
              "      <th>Job.Description</th>\n",
              "      <th>Salary</th>\n",
              "      <th>Can.Contact.Employer</th>\n",
              "      <th>Created.At_x</th>\n",
              "      <th>Updated.At_x</th>\n",
              "      <th>Position.Of.Interest</th>\n",
              "      <th>Created.At_y</th>\n",
              "      <th>Updated.At_y</th>\n",
              "    </tr>\n",
              "  </thead>\n",
              "  <tbody>\n",
              "    <tr>\n",
              "      <th>0</th>\n",
              "      <td>10003</td>\n",
              "      <td>maintenance technician</td>\n",
              "      <td>Winn residental</td>\n",
              "      <td>washington</td>\n",
              "      <td>District of Columbia</td>\n",
              "      <td>DC</td>\n",
              "      <td>NaN</td>\n",
              "      <td>NaN</td>\n",
              "      <td>Necessary maintenance for \"Make Ready\" Plumbin...</td>\n",
              "      <td>10.00</td>\n",
              "      <td>False</td>\n",
              "      <td>2014-12-12 21:27:05 UTC</td>\n",
              "      <td>2014-12-12 21:27:05 UTC</td>\n",
              "      <td>security officer</td>\n",
              "      <td>2014-12-12 21:20:54 UTC</td>\n",
              "      <td>2014-12-12 21:20:54 UTC</td>\n",
              "    </tr>\n",
              "    <tr>\n",
              "      <th>1</th>\n",
              "      <td>10003</td>\n",
              "      <td>Electrical Helper</td>\n",
              "      <td>michael and son services</td>\n",
              "      <td>alexandria</td>\n",
              "      <td>Virginia</td>\n",
              "      <td>VA</td>\n",
              "      <td>NaN</td>\n",
              "      <td>NaN</td>\n",
              "      <td>repair and services of electrical construction</td>\n",
              "      <td>NaN</td>\n",
              "      <td>False</td>\n",
              "      <td>2014-12-12 21:27:05 UTC</td>\n",
              "      <td>2014-12-12 21:27:05 UTC</td>\n",
              "      <td>security officer</td>\n",
              "      <td>2014-12-12 21:20:54 UTC</td>\n",
              "      <td>2014-12-12 21:20:54 UTC</td>\n",
              "    </tr>\n",
              "    <tr>\n",
              "      <th>2</th>\n",
              "      <td>10003</td>\n",
              "      <td>technician</td>\n",
              "      <td>jiffy lube</td>\n",
              "      <td>district heights</td>\n",
              "      <td>Maryland</td>\n",
              "      <td>MD</td>\n",
              "      <td>NaN</td>\n",
              "      <td>NaN</td>\n",
              "      <td>basic auto maintenance, and customer services ...</td>\n",
              "      <td>7.25</td>\n",
              "      <td>False</td>\n",
              "      <td>2014-12-12 21:27:05 UTC</td>\n",
              "      <td>2014-12-12 21:27:05 UTC</td>\n",
              "      <td>security officer</td>\n",
              "      <td>2014-12-12 21:20:54 UTC</td>\n",
              "      <td>2014-12-12 21:20:54 UTC</td>\n",
              "    </tr>\n",
              "    <tr>\n",
              "      <th>3</th>\n",
              "      <td>10007</td>\n",
              "      <td>Bartender</td>\n",
              "      <td>Infusion Lounge</td>\n",
              "      <td>San Francisco</td>\n",
              "      <td>California</td>\n",
              "      <td>CA</td>\n",
              "      <td>2010-08-01</td>\n",
              "      <td>NaN</td>\n",
              "      <td>Support bar and management staff at a well-kno...</td>\n",
              "      <td>NaN</td>\n",
              "      <td>False</td>\n",
              "      <td>2014-12-12 23:01:04 UTC</td>\n",
              "      <td>2014-12-12 23:03:13 UTC</td>\n",
              "      <td>Server</td>\n",
              "      <td>2014-08-14 15:56:42 UTC</td>\n",
              "      <td>2015-02-26 20:35:12 UTC</td>\n",
              "    </tr>\n",
              "    <tr>\n",
              "      <th>4</th>\n",
              "      <td>10007</td>\n",
              "      <td>Bartender</td>\n",
              "      <td>Infusion Lounge</td>\n",
              "      <td>San Francisco</td>\n",
              "      <td>California</td>\n",
              "      <td>CA</td>\n",
              "      <td>2010-08-01</td>\n",
              "      <td>NaN</td>\n",
              "      <td>Support bar and management staff at a well-kno...</td>\n",
              "      <td>NaN</td>\n",
              "      <td>False</td>\n",
              "      <td>2014-12-12 23:01:04 UTC</td>\n",
              "      <td>2014-12-12 23:03:13 UTC</td>\n",
              "      <td>Bartender</td>\n",
              "      <td>2014-08-14 15:56:44 UTC</td>\n",
              "      <td>2015-02-19 23:21:28 UTC</td>\n",
              "    </tr>\n",
              "    <tr>\n",
              "      <th>...</th>\n",
              "      <td>...</td>\n",
              "      <td>...</td>\n",
              "      <td>...</td>\n",
              "      <td>...</td>\n",
              "      <td>...</td>\n",
              "      <td>...</td>\n",
              "      <td>...</td>\n",
              "      <td>...</td>\n",
              "      <td>...</td>\n",
              "      <td>...</td>\n",
              "      <td>...</td>\n",
              "      <td>...</td>\n",
              "      <td>...</td>\n",
              "      <td>...</td>\n",
              "      <td>...</td>\n",
              "      <td>...</td>\n",
              "    </tr>\n",
              "    <tr>\n",
              "      <th>10079</th>\n",
              "      <td>9997</td>\n",
              "      <td>Server/cocktail server/bartender</td>\n",
              "      <td>The River Room</td>\n",
              "      <td>New York</td>\n",
              "      <td>New York</td>\n",
              "      <td>NY</td>\n",
              "      <td>2008-08-01</td>\n",
              "      <td>2010-10-01</td>\n",
              "      <td>This was an establishment that majority of the...</td>\n",
              "      <td>25.00</td>\n",
              "      <td>True</td>\n",
              "      <td>2014-12-12 20:54:21 UTC</td>\n",
              "      <td>2014-12-12 20:54:21 UTC</td>\n",
              "      <td>Barista</td>\n",
              "      <td>2014-08-14 15:56:43 UTC</td>\n",
              "      <td>2015-02-18 02:35:06 UTC</td>\n",
              "    </tr>\n",
              "    <tr>\n",
              "      <th>10080</th>\n",
              "      <td>9997</td>\n",
              "      <td>Server/cocktail server/bartender</td>\n",
              "      <td>The River Room</td>\n",
              "      <td>New York</td>\n",
              "      <td>New York</td>\n",
              "      <td>NY</td>\n",
              "      <td>2008-08-01</td>\n",
              "      <td>2010-10-01</td>\n",
              "      <td>This was an establishment that majority of the...</td>\n",
              "      <td>25.00</td>\n",
              "      <td>True</td>\n",
              "      <td>2014-12-12 20:54:21 UTC</td>\n",
              "      <td>2014-12-12 20:54:21 UTC</td>\n",
              "      <td>Bartender</td>\n",
              "      <td>2014-08-14 15:56:44 UTC</td>\n",
              "      <td>2015-02-19 23:21:28 UTC</td>\n",
              "    </tr>\n",
              "    <tr>\n",
              "      <th>10081</th>\n",
              "      <td>9997</td>\n",
              "      <td>Server</td>\n",
              "      <td>24 Prince</td>\n",
              "      <td>New York</td>\n",
              "      <td>New York</td>\n",
              "      <td>NY</td>\n",
              "      <td>2008-01-01</td>\n",
              "      <td>2009-12-01</td>\n",
              "      <td>I was a server. This was a new american italia...</td>\n",
              "      <td>4.15</td>\n",
              "      <td>False</td>\n",
              "      <td>2014-12-12 20:54:21 UTC</td>\n",
              "      <td>2014-12-12 20:54:21 UTC</td>\n",
              "      <td>Server</td>\n",
              "      <td>2014-08-14 15:56:42 UTC</td>\n",
              "      <td>2015-02-26 20:35:12 UTC</td>\n",
              "    </tr>\n",
              "    <tr>\n",
              "      <th>10082</th>\n",
              "      <td>9997</td>\n",
              "      <td>Server</td>\n",
              "      <td>24 Prince</td>\n",
              "      <td>New York</td>\n",
              "      <td>New York</td>\n",
              "      <td>NY</td>\n",
              "      <td>2008-01-01</td>\n",
              "      <td>2009-12-01</td>\n",
              "      <td>I was a server. This was a new american italia...</td>\n",
              "      <td>4.15</td>\n",
              "      <td>False</td>\n",
              "      <td>2014-12-12 20:54:21 UTC</td>\n",
              "      <td>2014-12-12 20:54:21 UTC</td>\n",
              "      <td>Barista</td>\n",
              "      <td>2014-08-14 15:56:43 UTC</td>\n",
              "      <td>2015-02-18 02:35:06 UTC</td>\n",
              "    </tr>\n",
              "    <tr>\n",
              "      <th>10083</th>\n",
              "      <td>9997</td>\n",
              "      <td>Server</td>\n",
              "      <td>24 Prince</td>\n",
              "      <td>New York</td>\n",
              "      <td>New York</td>\n",
              "      <td>NY</td>\n",
              "      <td>2008-01-01</td>\n",
              "      <td>2009-12-01</td>\n",
              "      <td>I was a server. This was a new american italia...</td>\n",
              "      <td>4.15</td>\n",
              "      <td>False</td>\n",
              "      <td>2014-12-12 20:54:21 UTC</td>\n",
              "      <td>2014-12-12 20:54:21 UTC</td>\n",
              "      <td>Bartender</td>\n",
              "      <td>2014-08-14 15:56:44 UTC</td>\n",
              "      <td>2015-02-19 23:21:28 UTC</td>\n",
              "    </tr>\n",
              "  </tbody>\n",
              "</table>\n",
              "<p>10084 rows × 16 columns</p>\n",
              "</div>\n",
              "      <button class=\"colab-df-convert\" onclick=\"convertToInteractive('df-049b2b9d-85b4-45d9-816d-a5c781e32035')\"\n",
              "              title=\"Convert this dataframe to an interactive table.\"\n",
              "              style=\"display:none;\">\n",
              "        \n",
              "  <svg xmlns=\"http://www.w3.org/2000/svg\" height=\"24px\"viewBox=\"0 0 24 24\"\n",
              "       width=\"24px\">\n",
              "    <path d=\"M0 0h24v24H0V0z\" fill=\"none\"/>\n",
              "    <path d=\"M18.56 5.44l.94 2.06.94-2.06 2.06-.94-2.06-.94-.94-2.06-.94 2.06-2.06.94zm-11 1L8.5 8.5l.94-2.06 2.06-.94-2.06-.94L8.5 2.5l-.94 2.06-2.06.94zm10 10l.94 2.06.94-2.06 2.06-.94-2.06-.94-.94-2.06-.94 2.06-2.06.94z\"/><path d=\"M17.41 7.96l-1.37-1.37c-.4-.4-.92-.59-1.43-.59-.52 0-1.04.2-1.43.59L10.3 9.45l-7.72 7.72c-.78.78-.78 2.05 0 2.83L4 21.41c.39.39.9.59 1.41.59.51 0 1.02-.2 1.41-.59l7.78-7.78 2.81-2.81c.8-.78.8-2.07 0-2.86zM5.41 20L4 18.59l7.72-7.72 1.47 1.35L5.41 20z\"/>\n",
              "  </svg>\n",
              "      </button>\n",
              "      \n",
              "  <style>\n",
              "    .colab-df-container {\n",
              "      display:flex;\n",
              "      flex-wrap:wrap;\n",
              "      gap: 12px;\n",
              "    }\n",
              "\n",
              "    .colab-df-convert {\n",
              "      background-color: #E8F0FE;\n",
              "      border: none;\n",
              "      border-radius: 50%;\n",
              "      cursor: pointer;\n",
              "      display: none;\n",
              "      fill: #1967D2;\n",
              "      height: 32px;\n",
              "      padding: 0 0 0 0;\n",
              "      width: 32px;\n",
              "    }\n",
              "\n",
              "    .colab-df-convert:hover {\n",
              "      background-color: #E2EBFA;\n",
              "      box-shadow: 0px 1px 2px rgba(60, 64, 67, 0.3), 0px 1px 3px 1px rgba(60, 64, 67, 0.15);\n",
              "      fill: #174EA6;\n",
              "    }\n",
              "\n",
              "    [theme=dark] .colab-df-convert {\n",
              "      background-color: #3B4455;\n",
              "      fill: #D2E3FC;\n",
              "    }\n",
              "\n",
              "    [theme=dark] .colab-df-convert:hover {\n",
              "      background-color: #434B5C;\n",
              "      box-shadow: 0px 1px 3px 1px rgba(0, 0, 0, 0.15);\n",
              "      filter: drop-shadow(0px 1px 2px rgba(0, 0, 0, 0.3));\n",
              "      fill: #FFFFFF;\n",
              "    }\n",
              "  </style>\n",
              "\n",
              "      <script>\n",
              "        const buttonEl =\n",
              "          document.querySelector('#df-049b2b9d-85b4-45d9-816d-a5c781e32035 button.colab-df-convert');\n",
              "        buttonEl.style.display =\n",
              "          google.colab.kernel.accessAllowed ? 'block' : 'none';\n",
              "\n",
              "        async function convertToInteractive(key) {\n",
              "          const element = document.querySelector('#df-049b2b9d-85b4-45d9-816d-a5c781e32035');\n",
              "          const dataTable =\n",
              "            await google.colab.kernel.invokeFunction('convertToInteractive',\n",
              "                                                     [key], {});\n",
              "          if (!dataTable) return;\n",
              "\n",
              "          const docLinkHtml = 'Like what you see? Visit the ' +\n",
              "            '<a target=\"_blank\" href=https://colab.research.google.com/notebooks/data_table.ipynb>data table notebook</a>'\n",
              "            + ' to learn more about interactive tables.';\n",
              "          element.innerHTML = '';\n",
              "          dataTable['output_type'] = 'display_data';\n",
              "          await google.colab.output.renderOutput(dataTable, element);\n",
              "          const docLink = document.createElement('div');\n",
              "          docLink.innerHTML = docLinkHtml;\n",
              "          element.appendChild(docLink);\n",
              "        }\n",
              "      </script>\n",
              "    </div>\n",
              "  </div>\n",
              "  "
            ]
          },
          "metadata": {},
          "execution_count": 55
        }
      ]
    },
    {
      "cell_type": "code",
      "source": [
        "merged_user.dropna(inplace=True)"
      ],
      "metadata": {
        "id": "YP81MF_xkhSM"
      },
      "execution_count": null,
      "outputs": []
    },
    {
      "cell_type": "code",
      "source": [
        "merged_user['job_description2'][merged_user['job_description2'].apply(lambda x:'customer service' in x.lower)"
      ],
      "metadata": {
        "colab": {
          "base_uri": "https://localhost:8080/",
          "height": 133
        },
        "id": "FTKZGFTgjjDS",
        "outputId": "3c0e8ed0-beae-47c3-9252-66f7a2019e39"
      },
      "execution_count": null,
      "outputs": [
        {
          "output_type": "error",
          "ename": "SyntaxError",
          "evalue": "ignored",
          "traceback": [
            "\u001b[0;36m  File \u001b[0;32m\"<ipython-input-57-66f05d3ea5dd>\"\u001b[0;36m, line \u001b[0;32m1\u001b[0m\n\u001b[0;31m    merged_user['job_description2'][merged_user['job_description2'].apply(lambda x:'customer service' in x.lower)\u001b[0m\n\u001b[0m                                                                                                                 ^\u001b[0m\n\u001b[0;31mSyntaxError\u001b[0m\u001b[0;31m:\u001b[0m unexpected EOF while parsing\n"
          ]
        }
      ]
    },
    {
      "cell_type": "code",
      "source": [
        "merged_user['job_description2'] = merged_user['Job.Description']apply(lambda x:'customer service' in x.lower())].replace()"
      ],
      "metadata": {
        "id": "i_bykL61mwGA"
      },
      "execution_count": null,
      "outputs": []
    },
    {
      "cell_type": "code",
      "source": [],
      "metadata": {
        "id": "JcKKndPmnCsj"
      },
      "execution_count": null,
      "outputs": []
    },
    {
      "cell_type": "code",
      "source": [
        "user_int['Position.Of.Interest'].value_counts().nlargest(20)"
      ],
      "metadata": {
        "id": "u1Mja6k8lh6L"
      },
      "execution_count": null,
      "outputs": []
    },
    {
      "cell_type": "code",
      "source": [
        "user_int.isna().sum().sort_values()"
      ],
      "metadata": {
        "id": "fDmYQD6u-dxX"
      },
      "execution_count": null,
      "outputs": []
    },
    {
      "cell_type": "code",
      "source": [
        "user_int.shape"
      ],
      "metadata": {
        "id": "znnB1tDH-hQf"
      },
      "execution_count": null,
      "outputs": []
    },
    {
      "cell_type": "code",
      "source": [
        "user_int['Applicant.ID'].nunique()"
      ],
      "metadata": {
        "id": "P8wigqhG-ldC"
      },
      "execution_count": null,
      "outputs": []
    },
    {
      "cell_type": "code",
      "source": [],
      "metadata": {
        "id": "hPfUJR91_BZI"
      },
      "execution_count": null,
      "outputs": []
    },
    {
      "cell_type": "markdown",
      "source": [
        "### EDA STUFF"
      ],
      "metadata": {
        "id": "xGJCyClPAk6U"
      }
    },
    {
      "cell_type": "code",
      "source": [
        "# on average a user looks at x jobposts \n"
      ],
      "metadata": {
        "id": "0JYnVKeoAmms"
      },
      "execution_count": null,
      "outputs": []
    },
    {
      "cell_type": "code",
      "source": [
        "# on average a user spends x amount of time looking at a jobpost"
      ],
      "metadata": {
        "id": "o_ApoxKpAuJd"
      },
      "execution_count": null,
      "outputs": []
    },
    {
      "cell_type": "code",
      "source": [
        "# a correlation matrix between education required and jobpositions (requires grouping of positions)"
      ],
      "metadata": {
        "id": "DQDS1jhTAyTT"
      },
      "execution_count": null,
      "outputs": []
    },
    {
      "cell_type": "code",
      "source": [
        "##### text recognizitionon stuff ^ "
      ],
      "metadata": {
        "id": "ZQqvp0JBDjYn"
      },
      "execution_count": null,
      "outputs": []
    },
    {
      "cell_type": "code",
      "source": [
        "# timeline with the development of jobposts , e.g. over weeks , months , years , fulltime/parttime , states , slider "
      ],
      "metadata": {
        "id": "fXBbVKWmA-vQ"
      },
      "execution_count": null,
      "outputs": []
    },
    {
      "cell_type": "code",
      "source": [
        "# seasonal peaks of jobposts ^ summer,winter,fall ETC"
      ],
      "metadata": {
        "id": "X1p8BZy1CU8H"
      },
      "execution_count": null,
      "outputs": []
    },
    {
      "cell_type": "code",
      "source": [
        "# geoplotting , location of jobs , statebased perhaps, interactive map where you can hoover over and see the information in ze map"
      ],
      "metadata": {
        "id": "IkbpQJ20BeJS"
      },
      "execution_count": null,
      "outputs": []
    },
    {
      "cell_type": "code",
      "source": [
        "# grade 10 , map with your recommended jobs"
      ],
      "metadata": {
        "id": "aU8pJ4BLBzu6"
      },
      "execution_count": null,
      "outputs": []
    },
    {
      "cell_type": "code",
      "source": [
        "# extra stuff for nice frontend, like a tab with cv stuff n stuff"
      ],
      "metadata": {
        "id": "gkEqwPheCFAx"
      },
      "execution_count": null,
      "outputs": []
    },
    {
      "cell_type": "code",
      "source": [
        "# most popular jobposts (views), compared with duration users spend on those posts, bait titles or actually interesting?"
      ],
      "metadata": {
        "id": "9_5EPLG0CtrM"
      },
      "execution_count": null,
      "outputs": []
    },
    {
      "cell_type": "code",
      "source": [
        "# companies with most jobposts, big companies? small companies with high turnover rates? etc, "
      ],
      "metadata": {
        "id": "io2_xcW2DBkz"
      },
      "execution_count": null,
      "outputs": []
    },
    {
      "cell_type": "code",
      "source": [
        "# to group some of our variables\n",
        "\n",
        "group_test = user_view.groupby('Applicant.ID')['View.Duration']"
      ],
      "metadata": {
        "id": "BhIcRr00KQfv"
      },
      "execution_count": null,
      "outputs": []
    },
    {
      "cell_type": "code",
      "source": [
        "group_test.head()"
      ],
      "metadata": {
        "id": "sR82fSMYLnaP"
      },
      "execution_count": null,
      "outputs": []
    },
    {
      "cell_type": "code",
      "source": [
        "user_view['Applicant.ID'].nunique()"
      ],
      "metadata": {
        "id": "k0a3BFSuMvGj"
      },
      "execution_count": null,
      "outputs": []
    },
    {
      "cell_type": "code",
      "source": [
        "user_view.info()"
      ],
      "metadata": {
        "id": "VVWV8b2WNO2z"
      },
      "execution_count": null,
      "outputs": []
    },
    {
      "cell_type": "code",
      "source": [
        "jobs.info()"
      ],
      "metadata": {
        "id": "uL9X6rvwQiDN"
      },
      "execution_count": null,
      "outputs": []
    },
    {
      "cell_type": "code",
      "source": [
        "jobs['Listing.Start'].unique()"
      ],
      "metadata": {
        "id": "2hXsboB3Qjs2"
      },
      "execution_count": null,
      "outputs": []
    },
    {
      "cell_type": "code",
      "source": [
        "from datetime import datetime, timedelta\n",
        "\n",
        "    def week_of_month(date):\n",
        "        month = date.month\n",
        "        week = 0        while date.month == month:\n",
        "            week += 1\n",
        "            date -= timedelta(days=7)\n",
        "\n",
        "        return week"
      ],
      "metadata": {
        "id": "IvMWNseZRhBn"
      },
      "execution_count": null,
      "outputs": []
    }
  ]
}