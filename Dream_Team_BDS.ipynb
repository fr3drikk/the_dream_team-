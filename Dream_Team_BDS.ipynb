{
  "nbformat": 4,
  "nbformat_minor": 0,
  "metadata": {
    "colab": {
      "provenance": [],
      "authorship_tag": "ABX9TyNMCV1Y7tMedOg3ky+Pbwl0",
      "include_colab_link": true
    },
    "kernelspec": {
      "name": "python3",
      "display_name": "Python 3"
    },
    "language_info": {
      "name": "python"
    }
  },
  "cells": [
    {
      "cell_type": "markdown",
      "metadata": {
        "id": "view-in-github",
        "colab_type": "text"
      },
      "source": [
        "<a href=\"https://colab.research.google.com/github/fr3drikk/the_dream_team-/blob/main/Dream_Team_BDS.ipynb\" target=\"_parent\"><img src=\"https://colab.research.google.com/assets/colab-badge.svg\" alt=\"Open In Colab\"/></a>"
      ]
    },
    {
      "cell_type": "markdown",
      "source": [],
      "metadata": {
        "id": "zUQ9fxa7UbPT"
      }
    },
    {
      "cell_type": "code",
      "source": [
        "# Standard stuff\n",
        "import pandas as pd #for manipulating data\n",
        "import numpy as np #for manipulating data\n",
        "\n",
        "# Dataviz\n",
        "import matplotlib.pyplot as plt #for custom graphs at the end\n",
        "import seaborn as sns #for custom graphs at the end\n",
        "\n",
        "# Altair\n",
        "import altair as alt\n",
        "\n",
        "# Other tooling\n",
        "# import os #needed to use Environment Variables in Domino\n",
        "\n",
        "# UML\n",
        "# from sklearn.preprocessing import StandardScaler # import and instantiate scaler\n",
        "\n",
        "# SML\n",
        "# import sklearn #for building models\n",
        "# import xgboost as xgb #for building models\n",
        "# import sklearn.ensemble #for building models\n",
        "# from sklearn.model_selection import train_test_split #for creating a hold-out sample\n",
        "# from sklearn import datasets # Boston Housing Data"
      ],
      "metadata": {
        "id": "lknvgJllUayK"
      },
      "execution_count": 2,
      "outputs": []
    },
    {
      "cell_type": "code",
      "execution_count": 3,
      "metadata": {
        "colab": {
          "base_uri": "https://localhost:8080/",
          "height": 134
        },
        "id": "6YIfQzGqURzJ",
        "outputId": "3cbd8ec7-57a2-4a90-b301-7472f9bf49e1"
      },
      "outputs": [
        {
          "output_type": "error",
          "ename": "SyntaxError",
          "evalue": "ignored",
          "traceback": [
            "\u001b[0;36m  File \u001b[0;32m\"<ipython-input-3-ce1a79f98972>\"\u001b[0;36m, line \u001b[0;32m2\u001b[0m\n\u001b[0;31m    df = pd.read_csv(url sep=;)\u001b[0m\n\u001b[0m                           ^\u001b[0m\n\u001b[0;31mSyntaxError\u001b[0m\u001b[0;31m:\u001b[0m invalid syntax\n"
          ]
        }
      ],
      "source": [
        "url = 'https://github.com/fr3drikk/the_dream_team-/blob/main/Bank_marketing/bank_marketing.csv?raw=true'\n",
        "df = pd.read_csv(url sep=;)"
      ]
    },
    {
      "cell_type": "code",
      "source": [],
      "metadata": {
        "id": "iPhCSLMQUnm2"
      },
      "execution_count": null,
      "outputs": []
    }
  ]
}