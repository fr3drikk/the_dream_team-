{
  "nbformat": 4,
  "nbformat_minor": 0,
  "metadata": {
    "colab": {
      "provenance": [],
      "include_colab_link": true
    },
    "kernelspec": {
      "name": "python3",
      "display_name": "Python 3"
    },
    "language_info": {
      "name": "python"
    }
  },
  "cells": [
    {
      "cell_type": "markdown",
      "metadata": {
        "id": "view-in-github",
        "colab_type": "text"
      },
      "source": [
        "<a href=\"https://colab.research.google.com/github/fr3drikk/the_dream_team-/blob/main/Sorting_Dream_team0.ipynb\" target=\"_parent\"><img src=\"https://colab.research.google.com/assets/colab-badge.svg\" alt=\"Open In Colab\"/></a>"
      ]
    },
    {
      "cell_type": "markdown",
      "source": [
        "# Imports"
      ],
      "metadata": {
        "id": "jBnrid8cPdhj"
      }
    },
    {
      "cell_type": "code",
      "source": [
        "# Standard stuff\n",
        "import pandas as pd #for manipulating data\n",
        "import numpy as np #for manipulating data\n",
        "\n",
        "# Dataviz\n",
        "import matplotlib.pyplot as plt #for custom graphs at the end\n",
        "import seaborn as sns #for custom graphs at the end\n",
        "\n",
        "# Altair\n",
        "import altair as alt\n",
        "\n",
        "# Other tooling\n",
        "# import os #needed to use Environment Variables in Domino\n",
        "\n",
        "# UML\n",
        "# from sklearn.preprocessing import StandardScaler # import and instantiate scaler\n",
        "\n",
        "# SML\n",
        "# import sklearn #for building models\n",
        "# import xgboost as xgb #for building models\n",
        "# import sklearn.ensemble #for building models\n",
        "# from sklearn.model_selection import train_test_split #for creating a hold-out sample\n",
        "# from sklearn import datasets # Boston Housing Data"
      ],
      "metadata": {
        "id": "LXsNVllQPXFi"
      },
      "execution_count": 13,
      "outputs": []
    },
    {
      "cell_type": "code",
      "source": [
        "jobs = pd.read_csv('https://raw.githubusercontent.com/fr3drikk/the_dream_team-/main/App/Data/jobs.csv')"
      ],
      "metadata": {
        "id": "KFG5XAkRU6fQ"
      },
      "execution_count": 14,
      "outputs": []
    },
    {
      "cell_type": "markdown",
      "source": [
        "### Looking through general info from the data"
      ],
      "metadata": {
        "id": "Q2OeZdm2Zv8-"
      }
    },
    {
      "cell_type": "code",
      "source": [
        "# First we check the shape of the data.\n",
        "jobs.shape"
      ],
      "metadata": {
        "colab": {
          "base_uri": "https://localhost:8080/"
        },
        "id": "VDM_yzv8bI53",
        "outputId": "211d319d-75aa-4f3b-b361-4f523b042e96"
      },
      "execution_count": 15,
      "outputs": [
        {
          "output_type": "execute_result",
          "data": {
            "text/plain": [
              "(84090, 22)"
            ]
          },
          "metadata": {},
          "execution_count": 15
        }
      ]
    },
    {
      "cell_type": "code",
      "source": [
        "# Secondly we check the dataset for what object is.\n",
        "jobs.info()"
      ],
      "metadata": {
        "colab": {
          "base_uri": "https://localhost:8080/"
        },
        "id": "IaN_-91fa6Sc",
        "outputId": "43429c1a-2177-4d36-d8a4-58a400f66f85"
      },
      "execution_count": 16,
      "outputs": [
        {
          "output_type": "stream",
          "name": "stdout",
          "text": [
            "<class 'pandas.core.frame.DataFrame'>\n",
            "RangeIndex: 84090 entries, 0 to 84089\n",
            "Data columns (total 22 columns):\n",
            " #   Column              Non-Null Count  Dtype  \n",
            "---  ------              --------------  -----  \n",
            " 0   Job.ID              84090 non-null  int64  \n",
            " 1   Provider            84090 non-null  int64  \n",
            " 2   Status              84090 non-null  object \n",
            " 3   Slug                84090 non-null  object \n",
            " 4   Title               84090 non-null  object \n",
            " 5   Position            84090 non-null  object \n",
            " 6   Company             81819 non-null  object \n",
            " 7   City                83955 non-null  object \n",
            " 8   State.Name          83919 non-null  object \n",
            " 9   State.Code          83919 non-null  object \n",
            " 10  Address             36 non-null     object \n",
            " 11  Latitude            84090 non-null  float64\n",
            " 12  Longitude           84090 non-null  float64\n",
            " 13  Industry            267 non-null    object \n",
            " 14  Requirements        0 non-null      float64\n",
            " 15  Salary              229 non-null    float64\n",
            " 16  Listing.Start       83407 non-null  object \n",
            " 17  Listing.End         83923 non-null  object \n",
            " 18  Employment.Type     84080 non-null  object \n",
            " 19  Education.Required  83823 non-null  object \n",
            " 20  Created.At          84090 non-null  object \n",
            " 21  Updated.At          84090 non-null  object \n",
            "dtypes: float64(4), int64(2), object(16)\n",
            "memory usage: 14.1+ MB\n"
          ]
        }
      ]
    },
    {
      "cell_type": "code",
      "source": [
        "# Checking how the data looks: From the data, we see that there are several columns with NaN values, such as; Requirements, Listing.Start, Listing.End. \n",
        "\n",
        "jobs.head()"
      ],
      "metadata": {
        "id": "R5nxRX5DWzkx",
        "colab": {
          "base_uri": "https://localhost:8080/",
          "height": 654
        },
        "outputId": "496c9116-eb28-43c8-bc15-314d692f45c3"
      },
      "execution_count": 17,
      "outputs": [
        {
          "output_type": "execute_result",
          "data": {
            "text/plain": [
              "   Job.ID  Provider Status                                               Slug  \\\n",
              "0     111         1   open                    palo-alto-ca-tacolicious-server   \n",
              "1     113         1   open    san-francisco-ca-claude-lane-kitchen-staff-chef   \n",
              "2     117         1   open  san-francisco-ca-machka-restaurants-corp-barte...   \n",
              "3     121         1   open                  brisbane-ca-teriyaki-house-server   \n",
              "4     127         1   open  los-angeles-ca-rosa-mexicano-sunset-kitchen-st...   \n",
              "\n",
              "                                         Title            Position  \\\n",
              "0                         Server @ Tacolicious              Server   \n",
              "1             Kitchen Staff/Chef @ Claude Lane  Kitchen Staff/Chef   \n",
              "2         Bartender @ Machka Restaurants Corp.           Bartender   \n",
              "3                      Server @ Teriyaki House              Server   \n",
              "4  Kitchen Staff/Chef @ Rosa Mexicano - Sunset  Kitchen Staff/Chef   \n",
              "\n",
              "                    Company           City  State.Name State.Code  ...  \\\n",
              "0               Tacolicious      Palo Alto  California         CA  ...   \n",
              "1               Claude Lane  San Francisco  California         CA  ...   \n",
              "2  Machka Restaurants Corp.  San Francisco  California         CA  ...   \n",
              "3            Teriyaki House       Brisbane  California         CA  ...   \n",
              "4    Rosa Mexicano - Sunset    Los Angeles  California         CA  ...   \n",
              "\n",
              "    Longitude            Industry  Requirements Salary  Listing.Start  \\\n",
              "0 -122.161170  Food and Beverages           NaN   8.00            NaN   \n",
              "1 -122.404268  Food and Beverages           NaN   0.00            NaN   \n",
              "2 -122.402963  Food and Beverages           NaN  11.00            NaN   \n",
              "3 -122.400275  Food and Beverages           NaN  10.55            NaN   \n",
              "4 -118.460439  Food and Beverages           NaN  10.55            NaN   \n",
              "\n",
              "   Listing.End Employment.Type Education.Required               Created.At  \\\n",
              "0          NaN       Part-Time                NaN  2013-03-12 02:08:28 UTC   \n",
              "1          NaN       Part-Time                NaN  2013-04-12 08:36:36 UTC   \n",
              "2          NaN       Part-Time                NaN  2013-07-16 09:34:10 UTC   \n",
              "3          NaN       Part-Time                NaN  2013-09-04 15:40:30 UTC   \n",
              "4          NaN       Part-Time                NaN  2013-07-17 15:26:18 UTC   \n",
              "\n",
              "                Updated.At  \n",
              "0  2014-08-16 15:35:36 UTC  \n",
              "1  2014-08-16 15:35:36 UTC  \n",
              "2  2014-08-16 15:35:37 UTC  \n",
              "3  2014-08-16 15:35:38 UTC  \n",
              "4  2014-08-16 15:35:40 UTC  \n",
              "\n",
              "[5 rows x 22 columns]"
            ],
            "text/html": [
              "\n",
              "  <div id=\"df-01437d1c-eb1f-409d-8ebd-dc2a0a35e2b7\">\n",
              "    <div class=\"colab-df-container\">\n",
              "      <div>\n",
              "<style scoped>\n",
              "    .dataframe tbody tr th:only-of-type {\n",
              "        vertical-align: middle;\n",
              "    }\n",
              "\n",
              "    .dataframe tbody tr th {\n",
              "        vertical-align: top;\n",
              "    }\n",
              "\n",
              "    .dataframe thead th {\n",
              "        text-align: right;\n",
              "    }\n",
              "</style>\n",
              "<table border=\"1\" class=\"dataframe\">\n",
              "  <thead>\n",
              "    <tr style=\"text-align: right;\">\n",
              "      <th></th>\n",
              "      <th>Job.ID</th>\n",
              "      <th>Provider</th>\n",
              "      <th>Status</th>\n",
              "      <th>Slug</th>\n",
              "      <th>Title</th>\n",
              "      <th>Position</th>\n",
              "      <th>Company</th>\n",
              "      <th>City</th>\n",
              "      <th>State.Name</th>\n",
              "      <th>State.Code</th>\n",
              "      <th>...</th>\n",
              "      <th>Longitude</th>\n",
              "      <th>Industry</th>\n",
              "      <th>Requirements</th>\n",
              "      <th>Salary</th>\n",
              "      <th>Listing.Start</th>\n",
              "      <th>Listing.End</th>\n",
              "      <th>Employment.Type</th>\n",
              "      <th>Education.Required</th>\n",
              "      <th>Created.At</th>\n",
              "      <th>Updated.At</th>\n",
              "    </tr>\n",
              "  </thead>\n",
              "  <tbody>\n",
              "    <tr>\n",
              "      <th>0</th>\n",
              "      <td>111</td>\n",
              "      <td>1</td>\n",
              "      <td>open</td>\n",
              "      <td>palo-alto-ca-tacolicious-server</td>\n",
              "      <td>Server @ Tacolicious</td>\n",
              "      <td>Server</td>\n",
              "      <td>Tacolicious</td>\n",
              "      <td>Palo Alto</td>\n",
              "      <td>California</td>\n",
              "      <td>CA</td>\n",
              "      <td>...</td>\n",
              "      <td>-122.161170</td>\n",
              "      <td>Food and Beverages</td>\n",
              "      <td>NaN</td>\n",
              "      <td>8.00</td>\n",
              "      <td>NaN</td>\n",
              "      <td>NaN</td>\n",
              "      <td>Part-Time</td>\n",
              "      <td>NaN</td>\n",
              "      <td>2013-03-12 02:08:28 UTC</td>\n",
              "      <td>2014-08-16 15:35:36 UTC</td>\n",
              "    </tr>\n",
              "    <tr>\n",
              "      <th>1</th>\n",
              "      <td>113</td>\n",
              "      <td>1</td>\n",
              "      <td>open</td>\n",
              "      <td>san-francisco-ca-claude-lane-kitchen-staff-chef</td>\n",
              "      <td>Kitchen Staff/Chef @ Claude Lane</td>\n",
              "      <td>Kitchen Staff/Chef</td>\n",
              "      <td>Claude Lane</td>\n",
              "      <td>San Francisco</td>\n",
              "      <td>California</td>\n",
              "      <td>CA</td>\n",
              "      <td>...</td>\n",
              "      <td>-122.404268</td>\n",
              "      <td>Food and Beverages</td>\n",
              "      <td>NaN</td>\n",
              "      <td>0.00</td>\n",
              "      <td>NaN</td>\n",
              "      <td>NaN</td>\n",
              "      <td>Part-Time</td>\n",
              "      <td>NaN</td>\n",
              "      <td>2013-04-12 08:36:36 UTC</td>\n",
              "      <td>2014-08-16 15:35:36 UTC</td>\n",
              "    </tr>\n",
              "    <tr>\n",
              "      <th>2</th>\n",
              "      <td>117</td>\n",
              "      <td>1</td>\n",
              "      <td>open</td>\n",
              "      <td>san-francisco-ca-machka-restaurants-corp-barte...</td>\n",
              "      <td>Bartender @ Machka Restaurants Corp.</td>\n",
              "      <td>Bartender</td>\n",
              "      <td>Machka Restaurants Corp.</td>\n",
              "      <td>San Francisco</td>\n",
              "      <td>California</td>\n",
              "      <td>CA</td>\n",
              "      <td>...</td>\n",
              "      <td>-122.402963</td>\n",
              "      <td>Food and Beverages</td>\n",
              "      <td>NaN</td>\n",
              "      <td>11.00</td>\n",
              "      <td>NaN</td>\n",
              "      <td>NaN</td>\n",
              "      <td>Part-Time</td>\n",
              "      <td>NaN</td>\n",
              "      <td>2013-07-16 09:34:10 UTC</td>\n",
              "      <td>2014-08-16 15:35:37 UTC</td>\n",
              "    </tr>\n",
              "    <tr>\n",
              "      <th>3</th>\n",
              "      <td>121</td>\n",
              "      <td>1</td>\n",
              "      <td>open</td>\n",
              "      <td>brisbane-ca-teriyaki-house-server</td>\n",
              "      <td>Server @ Teriyaki House</td>\n",
              "      <td>Server</td>\n",
              "      <td>Teriyaki House</td>\n",
              "      <td>Brisbane</td>\n",
              "      <td>California</td>\n",
              "      <td>CA</td>\n",
              "      <td>...</td>\n",
              "      <td>-122.400275</td>\n",
              "      <td>Food and Beverages</td>\n",
              "      <td>NaN</td>\n",
              "      <td>10.55</td>\n",
              "      <td>NaN</td>\n",
              "      <td>NaN</td>\n",
              "      <td>Part-Time</td>\n",
              "      <td>NaN</td>\n",
              "      <td>2013-09-04 15:40:30 UTC</td>\n",
              "      <td>2014-08-16 15:35:38 UTC</td>\n",
              "    </tr>\n",
              "    <tr>\n",
              "      <th>4</th>\n",
              "      <td>127</td>\n",
              "      <td>1</td>\n",
              "      <td>open</td>\n",
              "      <td>los-angeles-ca-rosa-mexicano-sunset-kitchen-st...</td>\n",
              "      <td>Kitchen Staff/Chef @ Rosa Mexicano - Sunset</td>\n",
              "      <td>Kitchen Staff/Chef</td>\n",
              "      <td>Rosa Mexicano - Sunset</td>\n",
              "      <td>Los Angeles</td>\n",
              "      <td>California</td>\n",
              "      <td>CA</td>\n",
              "      <td>...</td>\n",
              "      <td>-118.460439</td>\n",
              "      <td>Food and Beverages</td>\n",
              "      <td>NaN</td>\n",
              "      <td>10.55</td>\n",
              "      <td>NaN</td>\n",
              "      <td>NaN</td>\n",
              "      <td>Part-Time</td>\n",
              "      <td>NaN</td>\n",
              "      <td>2013-07-17 15:26:18 UTC</td>\n",
              "      <td>2014-08-16 15:35:40 UTC</td>\n",
              "    </tr>\n",
              "  </tbody>\n",
              "</table>\n",
              "<p>5 rows × 22 columns</p>\n",
              "</div>\n",
              "      <button class=\"colab-df-convert\" onclick=\"convertToInteractive('df-01437d1c-eb1f-409d-8ebd-dc2a0a35e2b7')\"\n",
              "              title=\"Convert this dataframe to an interactive table.\"\n",
              "              style=\"display:none;\">\n",
              "        \n",
              "  <svg xmlns=\"http://www.w3.org/2000/svg\" height=\"24px\"viewBox=\"0 0 24 24\"\n",
              "       width=\"24px\">\n",
              "    <path d=\"M0 0h24v24H0V0z\" fill=\"none\"/>\n",
              "    <path d=\"M18.56 5.44l.94 2.06.94-2.06 2.06-.94-2.06-.94-.94-2.06-.94 2.06-2.06.94zm-11 1L8.5 8.5l.94-2.06 2.06-.94-2.06-.94L8.5 2.5l-.94 2.06-2.06.94zm10 10l.94 2.06.94-2.06 2.06-.94-2.06-.94-.94-2.06-.94 2.06-2.06.94z\"/><path d=\"M17.41 7.96l-1.37-1.37c-.4-.4-.92-.59-1.43-.59-.52 0-1.04.2-1.43.59L10.3 9.45l-7.72 7.72c-.78.78-.78 2.05 0 2.83L4 21.41c.39.39.9.59 1.41.59.51 0 1.02-.2 1.41-.59l7.78-7.78 2.81-2.81c.8-.78.8-2.07 0-2.86zM5.41 20L4 18.59l7.72-7.72 1.47 1.35L5.41 20z\"/>\n",
              "  </svg>\n",
              "      </button>\n",
              "      \n",
              "  <style>\n",
              "    .colab-df-container {\n",
              "      display:flex;\n",
              "      flex-wrap:wrap;\n",
              "      gap: 12px;\n",
              "    }\n",
              "\n",
              "    .colab-df-convert {\n",
              "      background-color: #E8F0FE;\n",
              "      border: none;\n",
              "      border-radius: 50%;\n",
              "      cursor: pointer;\n",
              "      display: none;\n",
              "      fill: #1967D2;\n",
              "      height: 32px;\n",
              "      padding: 0 0 0 0;\n",
              "      width: 32px;\n",
              "    }\n",
              "\n",
              "    .colab-df-convert:hover {\n",
              "      background-color: #E2EBFA;\n",
              "      box-shadow: 0px 1px 2px rgba(60, 64, 67, 0.3), 0px 1px 3px 1px rgba(60, 64, 67, 0.15);\n",
              "      fill: #174EA6;\n",
              "    }\n",
              "\n",
              "    [theme=dark] .colab-df-convert {\n",
              "      background-color: #3B4455;\n",
              "      fill: #D2E3FC;\n",
              "    }\n",
              "\n",
              "    [theme=dark] .colab-df-convert:hover {\n",
              "      background-color: #434B5C;\n",
              "      box-shadow: 0px 1px 3px 1px rgba(0, 0, 0, 0.15);\n",
              "      filter: drop-shadow(0px 1px 2px rgba(0, 0, 0, 0.3));\n",
              "      fill: #FFFFFF;\n",
              "    }\n",
              "  </style>\n",
              "\n",
              "      <script>\n",
              "        const buttonEl =\n",
              "          document.querySelector('#df-01437d1c-eb1f-409d-8ebd-dc2a0a35e2b7 button.colab-df-convert');\n",
              "        buttonEl.style.display =\n",
              "          google.colab.kernel.accessAllowed ? 'block' : 'none';\n",
              "\n",
              "        async function convertToInteractive(key) {\n",
              "          const element = document.querySelector('#df-01437d1c-eb1f-409d-8ebd-dc2a0a35e2b7');\n",
              "          const dataTable =\n",
              "            await google.colab.kernel.invokeFunction('convertToInteractive',\n",
              "                                                     [key], {});\n",
              "          if (!dataTable) return;\n",
              "\n",
              "          const docLinkHtml = 'Like what you see? Visit the ' +\n",
              "            '<a target=\"_blank\" href=https://colab.research.google.com/notebooks/data_table.ipynb>data table notebook</a>'\n",
              "            + ' to learn more about interactive tables.';\n",
              "          element.innerHTML = '';\n",
              "          dataTable['output_type'] = 'display_data';\n",
              "          await google.colab.output.renderOutput(dataTable, element);\n",
              "          const docLink = document.createElement('div');\n",
              "          docLink.innerHTML = docLinkHtml;\n",
              "          element.appendChild(docLink);\n",
              "        }\n",
              "      </script>\n",
              "    </div>\n",
              "  </div>\n",
              "  "
            ]
          },
          "metadata": {},
          "execution_count": 17
        }
      ]
    },
    {
      "cell_type": "code",
      "source": [
        "# We will look through the data to see to what extend we have missing values next.\n",
        "# We use sum() and sort_values to get a descending list.\n",
        "jobs.isna().sum().sort_values()"
      ],
      "metadata": {
        "colab": {
          "base_uri": "https://localhost:8080/"
        },
        "id": "xM5HjV3xZ7eT",
        "outputId": "89df92a0-eb64-466c-959e-555cfb445628"
      },
      "execution_count": 18,
      "outputs": [
        {
          "output_type": "execute_result",
          "data": {
            "text/plain": [
              "Job.ID                    0\n",
              "Longitude                 0\n",
              "Latitude                  0\n",
              "Created.At                0\n",
              "Position                  0\n",
              "Updated.At                0\n",
              "Slug                      0\n",
              "Status                    0\n",
              "Provider                  0\n",
              "Title                     0\n",
              "Employment.Type          10\n",
              "City                    135\n",
              "Listing.End             167\n",
              "State.Name              171\n",
              "State.Code              171\n",
              "Education.Required      267\n",
              "Listing.Start           683\n",
              "Company                2271\n",
              "Industry              83823\n",
              "Salary                83861\n",
              "Address               84054\n",
              "Requirements          84090\n",
              "dtype: int64"
            ]
          },
          "metadata": {},
          "execution_count": 18
        }
      ]
    },
    {
      "cell_type": "code",
      "source": [
        "# Looking here, we can see 4 columns that are irellevant, as they are mostly empty. These are: Salary, Industry, Requirements and Address\n",
        "# We therefore elect to drop them from the dataset. \n",
        "jobs = jobs.drop(['Industry', 'Salary', 'Address', 'Requirements'], axis=1)"
      ],
      "metadata": {
        "id": "Julge9vTakTg"
      },
      "execution_count": 19,
      "outputs": []
    },
    {
      "cell_type": "code",
      "source": [
        "# We check that we successfully dropped the columns.\n",
        "jobs.info()"
      ],
      "metadata": {
        "colab": {
          "base_uri": "https://localhost:8080/"
        },
        "id": "-jeEoByGb04E",
        "outputId": "3abb793c-46d2-4870-9b8d-4483485bc25e"
      },
      "execution_count": 20,
      "outputs": [
        {
          "output_type": "stream",
          "name": "stdout",
          "text": [
            "<class 'pandas.core.frame.DataFrame'>\n",
            "RangeIndex: 84090 entries, 0 to 84089\n",
            "Data columns (total 18 columns):\n",
            " #   Column              Non-Null Count  Dtype  \n",
            "---  ------              --------------  -----  \n",
            " 0   Job.ID              84090 non-null  int64  \n",
            " 1   Provider            84090 non-null  int64  \n",
            " 2   Status              84090 non-null  object \n",
            " 3   Slug                84090 non-null  object \n",
            " 4   Title               84090 non-null  object \n",
            " 5   Position            84090 non-null  object \n",
            " 6   Company             81819 non-null  object \n",
            " 7   City                83955 non-null  object \n",
            " 8   State.Name          83919 non-null  object \n",
            " 9   State.Code          83919 non-null  object \n",
            " 10  Latitude            84090 non-null  float64\n",
            " 11  Longitude           84090 non-null  float64\n",
            " 12  Listing.Start       83407 non-null  object \n",
            " 13  Listing.End         83923 non-null  object \n",
            " 14  Employment.Type     84080 non-null  object \n",
            " 15  Education.Required  83823 non-null  object \n",
            " 16  Created.At          84090 non-null  object \n",
            " 17  Updated.At          84090 non-null  object \n",
            "dtypes: float64(2), int64(2), object(14)\n",
            "memory usage: 11.5+ MB\n"
          ]
        }
      ]
    },
    {
      "cell_type": "code",
      "source": [
        "# As we see, there are still values which are NaN, as they don't constitute a large part of the dataset, we elect to remove those as well.\n",
        "jobs.isna().sum().sort_values()"
      ],
      "metadata": {
        "colab": {
          "base_uri": "https://localhost:8080/"
        },
        "id": "HJcOEDb1dSmU",
        "outputId": "a1ec5eed-b665-44df-8b24-777d6893df44"
      },
      "execution_count": 21,
      "outputs": [
        {
          "output_type": "execute_result",
          "data": {
            "text/plain": [
              "Job.ID                   0\n",
              "Longitude                0\n",
              "Latitude                 0\n",
              "Created.At               0\n",
              "Position                 0\n",
              "Updated.At               0\n",
              "Slug                     0\n",
              "Status                   0\n",
              "Provider                 0\n",
              "Title                    0\n",
              "Employment.Type         10\n",
              "City                   135\n",
              "Listing.End            167\n",
              "State.Code             171\n",
              "State.Name             171\n",
              "Education.Required     267\n",
              "Listing.Start          683\n",
              "Company               2271\n",
              "dtype: int64"
            ]
          },
          "metadata": {},
          "execution_count": 21
        }
      ]
    },
    {
      "cell_type": "code",
      "source": [
        "\n",
        "jobs = jobs.dropna()"
      ],
      "metadata": {
        "id": "_oFkJEVKcJH4"
      },
      "execution_count": 22,
      "outputs": []
    },
    {
      "cell_type": "code",
      "source": [
        "# Our total dataset row-size ends up being 80865, which is acceptable, as it is not even a 10% loss of data. \n",
        "jobs.shape"
      ],
      "metadata": {
        "colab": {
          "base_uri": "https://localhost:8080/"
        },
        "id": "MfbBpTnsc_wa",
        "outputId": "1315d62e-28cd-49ce-a306-083000219e1f"
      },
      "execution_count": 23,
      "outputs": [
        {
          "output_type": "execute_result",
          "data": {
            "text/plain": [
              "(80865, 18)"
            ]
          },
          "metadata": {},
          "execution_count": 23
        }
      ]
    },
    {
      "cell_type": "markdown",
      "source": [
        "### Looking through all the variables"
      ],
      "metadata": {
        "id": "rAmVfmAieDuZ"
      }
    },
    {
      "cell_type": "code",
      "source": [
        "# We check the data-types of each variable.\n",
        "jobs.info()"
      ],
      "metadata": {
        "colab": {
          "base_uri": "https://localhost:8080/"
        },
        "id": "N793edqndog3",
        "outputId": "8d84fa11-8b35-4521-e4e3-53144ecaf757"
      },
      "execution_count": 24,
      "outputs": [
        {
          "output_type": "stream",
          "name": "stdout",
          "text": [
            "<class 'pandas.core.frame.DataFrame'>\n",
            "Int64Index: 80865 entries, 8 to 83980\n",
            "Data columns (total 18 columns):\n",
            " #   Column              Non-Null Count  Dtype  \n",
            "---  ------              --------------  -----  \n",
            " 0   Job.ID              80865 non-null  int64  \n",
            " 1   Provider            80865 non-null  int64  \n",
            " 2   Status              80865 non-null  object \n",
            " 3   Slug                80865 non-null  object \n",
            " 4   Title               80865 non-null  object \n",
            " 5   Position            80865 non-null  object \n",
            " 6   Company             80865 non-null  object \n",
            " 7   City                80865 non-null  object \n",
            " 8   State.Name          80865 non-null  object \n",
            " 9   State.Code          80865 non-null  object \n",
            " 10  Latitude            80865 non-null  float64\n",
            " 11  Longitude           80865 non-null  float64\n",
            " 12  Listing.Start       80865 non-null  object \n",
            " 13  Listing.End         80865 non-null  object \n",
            " 14  Employment.Type     80865 non-null  object \n",
            " 15  Education.Required  80865 non-null  object \n",
            " 16  Created.At          80865 non-null  object \n",
            " 17  Updated.At          80865 non-null  object \n",
            "dtypes: float64(2), int64(2), object(14)\n",
            "memory usage: 11.7+ MB\n"
          ]
        }
      ]
    },
    {
      "cell_type": "code",
      "source": [
        "# Change We change the columns which correspond to date, from object to timebased. \n",
        "\n",
        "jobs['Listing.Start'] = pd.to_datetime(jobs['Listing.Start'])\n",
        "jobs['Listing.End'] = pd.to_datetime(jobs['Listing.End'])"
      ],
      "metadata": {
        "id": "xQePzjw1eLOz"
      },
      "execution_count": 25,
      "outputs": []
    },
    {
      "cell_type": "code",
      "source": [
        "# We do the same for the Created and Updated columns\n",
        "jobs['Created.At'] = pd.to_datetime(jobs['Created.At'])\n",
        "jobs['Updated.At'] = pd.to_datetime(jobs['Updated.At'])"
      ],
      "metadata": {
        "id": "VKaa-bzYgSW_"
      },
      "execution_count": 26,
      "outputs": []
    },
    {
      "cell_type": "code",
      "source": [
        "# We check to make sure that the formats have been changed correctly, and see that Listing columns are correctly formatted. \n",
        "# This is also the case for Created columns, and the time of day has been correctly taken into account\n",
        "jobs.info()"
      ],
      "metadata": {
        "colab": {
          "base_uri": "https://localhost:8080/"
        },
        "id": "Ypf61217gYZa",
        "outputId": "24fda509-f59b-477b-f822-31d59db1aed9"
      },
      "execution_count": 27,
      "outputs": [
        {
          "output_type": "stream",
          "name": "stdout",
          "text": [
            "<class 'pandas.core.frame.DataFrame'>\n",
            "Int64Index: 80865 entries, 8 to 83980\n",
            "Data columns (total 18 columns):\n",
            " #   Column              Non-Null Count  Dtype              \n",
            "---  ------              --------------  -----              \n",
            " 0   Job.ID              80865 non-null  int64              \n",
            " 1   Provider            80865 non-null  int64              \n",
            " 2   Status              80865 non-null  object             \n",
            " 3   Slug                80865 non-null  object             \n",
            " 4   Title               80865 non-null  object             \n",
            " 5   Position            80865 non-null  object             \n",
            " 6   Company             80865 non-null  object             \n",
            " 7   City                80865 non-null  object             \n",
            " 8   State.Name          80865 non-null  object             \n",
            " 9   State.Code          80865 non-null  object             \n",
            " 10  Latitude            80865 non-null  float64            \n",
            " 11  Longitude           80865 non-null  float64            \n",
            " 12  Listing.Start       80865 non-null  datetime64[ns]     \n",
            " 13  Listing.End         80865 non-null  datetime64[ns]     \n",
            " 14  Employment.Type     80865 non-null  object             \n",
            " 15  Education.Required  80865 non-null  object             \n",
            " 16  Created.At          80865 non-null  datetime64[ns, UTC]\n",
            " 17  Updated.At          80865 non-null  datetime64[ns, UTC]\n",
            "dtypes: datetime64[ns, UTC](2), datetime64[ns](2), float64(2), int64(2), object(10)\n",
            "memory usage: 11.7+ MB\n"
          ]
        }
      ]
    },
    {
      "cell_type": "code",
      "source": [
        "# Next we look into unique values to find out if any of the variables makes sense to transform into more meaningful values\n",
        "jobs.nunique()"
      ],
      "metadata": {
        "colab": {
          "base_uri": "https://localhost:8080/"
        },
        "id": "-rSeDBgkhOBg",
        "outputId": "deeb538a-f830-44c1-e4b6-a4de746569fc"
      },
      "execution_count": 28,
      "outputs": [
        {
          "output_type": "execute_result",
          "data": {
            "text/plain": [
              "Job.ID                80865\n",
              "Provider                  1\n",
              "Status                    1\n",
              "Slug                  80865\n",
              "Title                 40179\n",
              "Position              35091\n",
              "Company                8155\n",
              "City                   5410\n",
              "State.Name               51\n",
              "State.Code               51\n",
              "Latitude              13992\n",
              "Longitude             14177\n",
              "Listing.Start            72\n",
              "Listing.End              67\n",
              "Employment.Type           6\n",
              "Education.Required        5\n",
              "Created.At            57278\n",
              "Updated.At            57055\n",
              "dtype: int64"
            ]
          },
          "metadata": {},
          "execution_count": 28
        }
      ]
    },
    {
      "cell_type": "code",
      "source": [
        "# We chose to look into Employment.Type and Education.Required, as those two don't have a massive amount of unique values. \n",
        "jobs['Employment.Type'].unique()"
      ],
      "metadata": {
        "colab": {
          "base_uri": "https://localhost:8080/"
        },
        "id": "QWzCKQUoivto",
        "outputId": "4347f3c1-d1c5-45a6-e2fb-b6195b466f27"
      },
      "execution_count": 29,
      "outputs": [
        {
          "output_type": "execute_result",
          "data": {
            "text/plain": [
              "array(['Part-Time', 'Full-Time/Part-Time', 'Seasonal/Temp', 'Per Diem',\n",
              "       'Intern', 'Full-Time'], dtype=object)"
            ]
          },
          "metadata": {},
          "execution_count": 29
        }
      ]
    },
    {
      "cell_type": "code",
      "source": [
        "# As we can see, there are some lables that are duplicates, like \"Temporary/seasonal\" and \"Seasonal/Temp\". \n",
        "# We combine the two into one label. \n",
        "jobs['Employment.Type'] = jobs['Employment.Type'].replace(['Seasonal/Temp'], 'Temporary/seasonal')"
      ],
      "metadata": {
        "id": "xQz9AkKplt6H"
      },
      "execution_count": 30,
      "outputs": []
    },
    {
      "cell_type": "code",
      "source": [
        "# We also change nan labels into str: Unspecified.\n",
        "jobs['Employment.Type'] = jobs['Employment.Type'].fillna('Unspecified')"
      ],
      "metadata": {
        "id": "LmGeCt_jmdcW"
      },
      "execution_count": 31,
      "outputs": []
    },
    {
      "cell_type": "code",
      "source": [
        "# Next we look at Education Required. Here we see that nan, Not Specified, are basically the same labels. \n",
        "jobs['Education.Required'].unique()"
      ],
      "metadata": {
        "colab": {
          "base_uri": "https://localhost:8080/"
        },
        "id": "6-lD6X4XmuSw",
        "outputId": "30c50763-77dd-4f79-9500-2c73afdff84b"
      },
      "execution_count": 32,
      "outputs": [
        {
          "output_type": "execute_result",
          "data": {
            "text/plain": [
              "array(['Not Specified', 'High School Diploma', \"Master's Degree\",\n",
              "       'Associate Degree', \"Bachelor's Degree\"], dtype=object)"
            ]
          },
          "metadata": {},
          "execution_count": 32
        }
      ]
    },
    {
      "cell_type": "code",
      "source": [
        "# Here we fill the nan values with the value 'Unspecified', thereby converting it to a str-value.\n",
        "jobs['Education.Required'] = jobs['Education.Required'].fillna('Unspecified')"
      ],
      "metadata": {
        "id": "JBMCKoxTm2b2"
      },
      "execution_count": 33,
      "outputs": []
    },
    {
      "cell_type": "code",
      "source": [
        "# Next we replace 'Not Specified' with 'Unspecified' thereby collecting both labels into one label.\n",
        "jobs['Education.Required'] = jobs['Education.Required'].replace(['Not Specified'] , 'Unspecified')"
      ],
      "metadata": {
        "id": "Q0vmY5D7okrs"
      },
      "execution_count": 34,
      "outputs": []
    },
    {
      "cell_type": "code",
      "source": [
        "# Lastly we check that everything went according to plan.\n",
        "jobs['Education.Required'].unique()"
      ],
      "metadata": {
        "colab": {
          "base_uri": "https://localhost:8080/"
        },
        "id": "CywzQ5QCo2GB",
        "outputId": "d90ff8ec-5cca-4ab1-c3cf-0b378e6879bb"
      },
      "execution_count": 35,
      "outputs": [
        {
          "output_type": "execute_result",
          "data": {
            "text/plain": [
              "array(['Unspecified', 'High School Diploma', \"Master's Degree\",\n",
              "       'Associate Degree', \"Bachelor's Degree\"], dtype=object)"
            ]
          },
          "metadata": {},
          "execution_count": 35
        }
      ]
    },
    {
      "cell_type": "code",
      "source": [
        "# We group the positions that are similar to each other\n",
        "\n",
        "# Customer service\n",
        "jobs['Position'] = jobs['Position'].replace(['Customer Service Representative'] , 'Customer Service')\n",
        "jobs['Position'] = jobs['Position'].replace(['Customer Service / Sales ( New Grads Welcome!)'] , 'Customer Service')\n",
        "jobs['Position'] = jobs['Position'].replace(['Customer Service / Sales ( New Grads Welcome! )'] , 'Customer Service')\n",
        "jobs['Position'] = jobs['Position'].replace(['Entry Level Sales / Customer Service – Part time / Full Time'] , 'Customer Service')\n",
        "\n",
        "# Accounting\n",
        "jobs['Position'] = jobs['Position'].replace(['Accounts Payable Clerk'] , 'Accounting')\n",
        "jobs['Position'] = jobs['Position'].replace(['Accounting Clerk'] , 'Accounting')\n",
        "jobs['Position'] = jobs['Position'].replace(['Accounts Receivable Clerk'] , 'Accounting')\n",
        "jobs['Position'] = jobs['Position'].replace(['Bookkeeper'] , 'Accounting')\n",
        "jobs['Position'] = jobs['Position'].replace(['Full Charge Bookkeeper'] , 'Accounting')\n",
        "jobs['Position'] = jobs['Position'].replace(['Payroll Clerk'] , 'Accounting')\n",
        "jobs['Position'] = jobs['Position'].replace(['Billing Clerk'] , 'Accounting')\n",
        "jobs['Position'] = jobs['Position'].replace(['Payroll Administrator'] , 'Accounting')\n",
        "jobs['Position'] = jobs['Position'].replace(['Staff Accountant'] , 'Accounting')\n",
        "jobs['Position'] = jobs['Position'].replace(['Senior Accountant'] , 'Accounting')\n",
        "\n",
        "# Sales\n",
        "jobs['Position'] = jobs['Position'].replace(['Sales Representative / Sales Associate ( Entry Level )'] , 'Sales')\n",
        "jobs['Position'] = jobs['Position'].replace(['Sales Associate'] , 'Sales')\n",
        "jobs['Position'] = jobs['Position'].replace(['Seasonal Wedding Sales Stylist'] , 'Sales')\n",
        "jobs['Position'] = jobs['Position'].replace(['Retail Sales Associate - Part-Time'] , 'Sales')\n",
        "jobs['Position'] = jobs['Position'].replace(['Retail Sales Associate'] , 'Sales')\n",
        "\n",
        "# Administration\n",
        "jobs['Position'] = jobs['Position'].replace(['Administrative Assistant'] , 'Administration')\n",
        "jobs['Position'] = jobs['Position'].replace(['Receptionist'] , 'Administration')\n",
        "jobs['Position'] = jobs['Position'].replace(['Front Desk Coordinator'] , 'Administration')\n",
        "jobs['Position'] = jobs['Position'].replace(['Executive Assistant'] , 'Administration')\n",
        "jobs['Position'] = jobs['Position'].replace(['General Office Clerk '] , 'Administration')\n",
        "jobs['Position'] = jobs['Position'].replace(['Office Assistant'] , 'Administration')\n",
        "\n",
        "# Restaurant\n",
        "jobs['Position'] = jobs['Position'].replace(['Bartender'] , 'Restaurant')\n",
        "jobs['Position'] = jobs['Position'].replace(['Server'] , 'Administration')\n",
        "jobs['Position'] = jobs['Position'].replace(['Kitchen Staff'] , 'Administration')\n",
        "\n",
        "# Caregiving"
      ],
      "metadata": {
        "id": "uDdnkC-7BXFO"
      },
      "execution_count": 56,
      "outputs": []
    },
    {
      "cell_type": "code",
      "source": [
        "jobs['Position'].nunique()"
      ],
      "metadata": {
        "id": "yZQqeUr6FHMu",
        "outputId": "89c978fd-f114-4162-d5bb-0ae32f5e02e8",
        "colab": {
          "base_uri": "https://localhost:8080/"
        }
      },
      "execution_count": 54,
      "outputs": [
        {
          "output_type": "execute_result",
          "data": {
            "text/plain": [
              "35069"
            ]
          },
          "metadata": {},
          "execution_count": 54
        }
      ]
    },
    {
      "cell_type": "code",
      "source": [
        "jobs['Position'].value_counts().nlargest(30)"
      ],
      "metadata": {
        "id": "36TKJ_UaBL_J",
        "outputId": "45159816-412b-4491-db3d-ca22d976d3d1",
        "colab": {
          "base_uri": "https://localhost:8080/"
        }
      },
      "execution_count": 53,
      "outputs": [
        {
          "output_type": "execute_result",
          "data": {
            "text/plain": [
              "Accounting                                                                                   5154\n",
              "Administration                                                                               3095\n",
              "Customer Service                                                                             2052\n",
              "Sales                                                                                        1799\n",
              "Data Entry Clerk                                                                              612\n",
              "Retail Sales Associate – Part-Time                                                            497\n",
              "Seasonal CSR                                                                                  314\n",
              "Human Resources Assistant                                                                     274\n",
              "General Office Clerk                                                                          262\n",
              "Collections Specialist                                                                        250\n",
              "Hiring All Restaurant Positions - Servers - Cooks - Bartenders                                233\n",
              "Caregiver / Home Health Aide / CNA                                                            201\n",
              "Entry Level Caregiver / Home Health Aide                                                      200\n",
              "HVAC CAREER TRAINING - LOCAL HEATING, AIR CONDITIONING & REFRIGERATION TRAINING AVAILABLE     200\n",
              "Merchandisers                                                                                 200\n",
              "Security Officer                                                                              191\n",
              "Part Time School Bus Drivers WANTED - Training Available                                      182\n",
              "Event Specialist Part Time Sales                                                              175\n",
              "Retail Sales Associate / Photographer                                                         172\n",
              "CASHIER                                                                                       170\n",
              "Retail Sales Associate - Part Time                                                            170\n",
              "Event Specialist Part Time                                                                    169\n",
              "Assistant Teacher                                                                             163\n",
              "Accountant - Entry Level                                                                      162\n",
              "Sales Assistant                                                                               159\n",
              "Financial Analyst                                                                             159\n",
              "DI Special Services Brand Ambassador - Market                                                 154\n",
              "Cook                                                                                          154\n",
              "COSMETOLOGY / SALON CAREER TRAINING - LOCAL HAIR / MAKEUP TRAINING AVAILABLE                  150\n",
              "Registered Nurse                                                                              145\n",
              "Name: Position, dtype: int64"
            ]
          },
          "metadata": {},
          "execution_count": 53
        }
      ]
    },
    {
      "cell_type": "markdown",
      "source": [
        "#### User Job views "
      ],
      "metadata": {
        "id": "bz0CQ1bDzDXM"
      }
    },
    {
      "cell_type": "code",
      "source": [
        "user_view = pd.read_csv('https://raw.githubusercontent.com/fr3drikk/the_dream_team-/main/App/Data/user_job_views.csv')"
      ],
      "metadata": {
        "id": "PlPz1U_SzOUB"
      },
      "execution_count": null,
      "outputs": []
    },
    {
      "cell_type": "code",
      "source": [
        "user_view.shape"
      ],
      "metadata": {
        "colab": {
          "base_uri": "https://localhost:8080/"
        },
        "id": "N5duMZEmzgWH",
        "outputId": "b1806392-9bf0-4df3-c745-9cc6c767a4a7"
      },
      "execution_count": null,
      "outputs": [
        {
          "output_type": "execute_result",
          "data": {
            "text/plain": [
              "(12370, 13)"
            ]
          },
          "metadata": {},
          "execution_count": 31
        }
      ]
    },
    {
      "cell_type": "code",
      "source": [
        "user_view.info()"
      ],
      "metadata": {
        "colab": {
          "base_uri": "https://localhost:8080/"
        },
        "id": "twixCfsBznhp",
        "outputId": "442cd4c9-3e7d-45d9-a3d4-1a02f34bb7a9"
      },
      "execution_count": null,
      "outputs": [
        {
          "output_type": "stream",
          "name": "stdout",
          "text": [
            "<class 'pandas.core.frame.DataFrame'>\n",
            "RangeIndex: 12370 entries, 0 to 12369\n",
            "Data columns (total 13 columns):\n",
            " #   Column         Non-Null Count  Dtype  \n",
            "---  ------         --------------  -----  \n",
            " 0   Applicant.ID   12370 non-null  int64  \n",
            " 1   Job.ID         12370 non-null  int64  \n",
            " 2   Title          12370 non-null  object \n",
            " 3   Company        11790 non-null  object \n",
            " 4   City           12370 non-null  object \n",
            " 5   State.Name     12348 non-null  object \n",
            " 6   State.Code     12348 non-null  object \n",
            " 7   Industry       2199 non-null   object \n",
            " 8   View.Start     12370 non-null  object \n",
            " 9   View.End       10575 non-null  object \n",
            " 10  View.Duration  10575 non-null  float64\n",
            " 11  Created.At     12370 non-null  object \n",
            " 12  Updated.At     12370 non-null  object \n",
            "dtypes: float64(1), int64(2), object(10)\n",
            "memory usage: 1.2+ MB\n"
          ]
        }
      ]
    },
    {
      "cell_type": "code",
      "source": [
        "user_view.isna().sum().sort_values()"
      ],
      "metadata": {
        "colab": {
          "base_uri": "https://localhost:8080/"
        },
        "id": "198siilfz3IG",
        "outputId": "14b7c92b-46a0-49f9-c023-f4aaa80e04c8"
      },
      "execution_count": null,
      "outputs": [
        {
          "output_type": "execute_result",
          "data": {
            "text/plain": [
              "Applicant.ID         0\n",
              "Job.ID               0\n",
              "Title                0\n",
              "City                 0\n",
              "View.Start           0\n",
              "Created.At           0\n",
              "Updated.At           0\n",
              "State.Name          22\n",
              "State.Code          22\n",
              "Company            580\n",
              "View.End          1795\n",
              "View.Duration     1795\n",
              "Industry         10171\n",
              "dtype: int64"
            ]
          },
          "metadata": {},
          "execution_count": 33
        }
      ]
    },
    {
      "cell_type": "code",
      "source": [
        "user_view = user_view.drop(['Industry'], axis=1)\n"
      ],
      "metadata": {
        "id": "Bb7s4dfu0d82"
      },
      "execution_count": null,
      "outputs": []
    },
    {
      "cell_type": "code",
      "source": [
        "user_view['Company'] = user_view['Company'].fillna('Unspecified')"
      ],
      "metadata": {
        "id": "QvGbuidp1POx"
      },
      "execution_count": null,
      "outputs": []
    },
    {
      "cell_type": "code",
      "source": [
        "user_view.isna().sum().sort_values()"
      ],
      "metadata": {
        "colab": {
          "base_uri": "https://localhost:8080/"
        },
        "id": "Aa84bqkD1oUr",
        "outputId": "857f96ef-91bf-473b-9d5e-15040885fe20"
      },
      "execution_count": null,
      "outputs": [
        {
          "output_type": "execute_result",
          "data": {
            "text/plain": [
              "Applicant.ID        0\n",
              "Job.ID              0\n",
              "Title               0\n",
              "Company             0\n",
              "City                0\n",
              "View.Start          0\n",
              "Created.At          0\n",
              "Updated.At          0\n",
              "State.Name         22\n",
              "State.Code         22\n",
              "View.End         1795\n",
              "View.Duration    1795\n",
              "dtype: int64"
            ]
          },
          "metadata": {},
          "execution_count": 36
        }
      ]
    },
    {
      "cell_type": "code",
      "source": [
        "user_view  = user_view.dropna(subset=['State.Name'])"
      ],
      "metadata": {
        "id": "4q1sM-pm1uYV"
      },
      "execution_count": null,
      "outputs": []
    },
    {
      "cell_type": "code",
      "source": [
        "# we calculate the mean of the duration and fill the missing values with it\n",
        "user_view['View.Duration'] = user_view['View.Duration'].fillna(user_view['View.Duration'].mean())"
      ],
      "metadata": {
        "id": "oNKjCURU3y_M",
        "colab": {
          "base_uri": "https://localhost:8080/"
        },
        "outputId": "2b79a5cd-36c8-488f-cca3-97151efa6281"
      },
      "execution_count": null,
      "outputs": [
        {
          "output_type": "stream",
          "name": "stderr",
          "text": [
            "/usr/local/lib/python3.7/dist-packages/ipykernel_launcher.py:2: SettingWithCopyWarning: \n",
            "A value is trying to be set on a copy of a slice from a DataFrame.\n",
            "Try using .loc[row_indexer,col_indexer] = value instead\n",
            "\n",
            "See the caveats in the documentation: https://pandas.pydata.org/pandas-docs/stable/user_guide/indexing.html#returning-a-view-versus-a-copy\n",
            "  \n"
          ]
        }
      ]
    },
    {
      "cell_type": "code",
      "source": [
        "# we change the form of created at, updated at, view start, view end, from objects to datetime\n",
        "user_view['Created.At'] = pd.to_datetime(user_view['Created.At'])\n",
        "user_view['Updated.At'] = pd.to_datetime(user_view['Updated.At'])"
      ],
      "metadata": {
        "id": "NjPSWRSu4u0f"
      },
      "execution_count": null,
      "outputs": []
    },
    {
      "cell_type": "code",
      "source": [
        "user_view['View.Start'] = pd.to_datetime(user_view['View.Start'])\n",
        "user_view['View.End'] = pd.to_datetime(user_view['View.End'])"
      ],
      "metadata": {
        "id": "Do75X7eB5wuh"
      },
      "execution_count": null,
      "outputs": []
    },
    {
      "cell_type": "code",
      "source": [
        "# it works : )\n",
        "user_view.info()"
      ],
      "metadata": {
        "colab": {
          "base_uri": "https://localhost:8080/"
        },
        "id": "-9Od4lht55cn",
        "outputId": "93ced4db-ca9b-4bd2-f8e7-6029e23b6878"
      },
      "execution_count": null,
      "outputs": [
        {
          "output_type": "stream",
          "name": "stdout",
          "text": [
            "<class 'pandas.core.frame.DataFrame'>\n",
            "Int64Index: 12348 entries, 0 to 12369\n",
            "Data columns (total 12 columns):\n",
            " #   Column         Non-Null Count  Dtype              \n",
            "---  ------         --------------  -----              \n",
            " 0   Applicant.ID   12348 non-null  int64              \n",
            " 1   Job.ID         12348 non-null  int64              \n",
            " 2   Title          12348 non-null  object             \n",
            " 3   Company        12348 non-null  object             \n",
            " 4   City           12348 non-null  object             \n",
            " 5   State.Name     12348 non-null  object             \n",
            " 6   State.Code     12348 non-null  object             \n",
            " 7   View.Start     12348 non-null  datetime64[ns, UTC]\n",
            " 8   View.End       10554 non-null  datetime64[ns, UTC]\n",
            " 9   View.Duration  12348 non-null  float64            \n",
            " 10  Created.At     12348 non-null  datetime64[ns, UTC]\n",
            " 11  Updated.At     12348 non-null  datetime64[ns, UTC]\n",
            "dtypes: datetime64[ns, UTC](4), float64(1), int64(2), object(5)\n",
            "memory usage: 1.2+ MB\n"
          ]
        }
      ]
    },
    {
      "cell_type": "code",
      "source": [
        "# we decided to not care about view end, since we have view start and the duration, that is sufficient.\n",
        "user_view['View.Duration'].head()"
      ],
      "metadata": {
        "colab": {
          "base_uri": "https://localhost:8080/"
        },
        "id": "MPHqYlru6HXV",
        "outputId": "b9bb1f09-1d9b-4f18-88e7-33eb0fc927bf"
      },
      "execution_count": null,
      "outputs": [
        {
          "output_type": "execute_result",
          "data": {
            "text/plain": [
              "0    1129.0\n",
              "1      84.0\n",
              "2     286.0\n",
              "3     170.0\n",
              "4      33.0\n",
              "Name: View.Duration, dtype: float64"
            ]
          },
          "metadata": {},
          "execution_count": 42
        }
      ]
    },
    {
      "cell_type": "code",
      "source": [
        "# it works : )\n",
        "user_view.info()"
      ],
      "metadata": {
        "colab": {
          "base_uri": "https://localhost:8080/"
        },
        "outputId": "4be2b8d6-0f5b-4b40-b1b1-13fc1f579cb2",
        "id": "Py1pSmRnfDAE"
      },
      "execution_count": null,
      "outputs": [
        {
          "output_type": "stream",
          "name": "stdout",
          "text": [
            "<class 'pandas.core.frame.DataFrame'>\n",
            "Int64Index: 12348 entries, 0 to 12369\n",
            "Data columns (total 12 columns):\n",
            " #   Column         Non-Null Count  Dtype              \n",
            "---  ------         --------------  -----              \n",
            " 0   Applicant.ID   12348 non-null  int64              \n",
            " 1   Job.ID         12348 non-null  int64              \n",
            " 2   Title          12348 non-null  object             \n",
            " 3   Company        12348 non-null  object             \n",
            " 4   City           12348 non-null  object             \n",
            " 5   State.Name     12348 non-null  object             \n",
            " 6   State.Code     12348 non-null  object             \n",
            " 7   View.Start     12348 non-null  datetime64[ns, UTC]\n",
            " 8   View.End       10554 non-null  datetime64[ns, UTC]\n",
            " 9   View.Duration  12348 non-null  float64            \n",
            " 10  Created.At     12348 non-null  datetime64[ns, UTC]\n",
            " 11  Updated.At     12348 non-null  datetime64[ns, UTC]\n",
            "dtypes: datetime64[ns, UTC](4), float64(1), int64(2), object(5)\n",
            "memory usage: 1.2+ MB\n"
          ]
        }
      ]
    },
    {
      "cell_type": "code",
      "source": [
        "# it works : )\n",
        "user_view.info()"
      ],
      "metadata": {
        "colab": {
          "base_uri": "https://localhost:8080/"
        },
        "outputId": "cd252468-f452-4077-fad5-3c88d971d2d5",
        "id": "mWvmloJmfB1s"
      },
      "execution_count": null,
      "outputs": [
        {
          "output_type": "stream",
          "name": "stdout",
          "text": [
            "<class 'pandas.core.frame.DataFrame'>\n",
            "Int64Index: 12348 entries, 0 to 12369\n",
            "Data columns (total 12 columns):\n",
            " #   Column         Non-Null Count  Dtype              \n",
            "---  ------         --------------  -----              \n",
            " 0   Applicant.ID   12348 non-null  int64              \n",
            " 1   Job.ID         12348 non-null  int64              \n",
            " 2   Title          12348 non-null  object             \n",
            " 3   Company        12348 non-null  object             \n",
            " 4   City           12348 non-null  object             \n",
            " 5   State.Name     12348 non-null  object             \n",
            " 6   State.Code     12348 non-null  object             \n",
            " 7   View.Start     12348 non-null  datetime64[ns, UTC]\n",
            " 8   View.End       10554 non-null  datetime64[ns, UTC]\n",
            " 9   View.Duration  12348 non-null  float64            \n",
            " 10  Created.At     12348 non-null  datetime64[ns, UTC]\n",
            " 11  Updated.At     12348 non-null  datetime64[ns, UTC]\n",
            "dtypes: datetime64[ns, UTC](4), float64(1), int64(2), object(5)\n",
            "memory usage: 1.2+ MB\n"
          ]
        }
      ]
    },
    {
      "cell_type": "markdown",
      "source": [
        "### User experience"
      ],
      "metadata": {
        "id": "qFZ2ZWBD9ABO"
      }
    },
    {
      "cell_type": "code",
      "source": [
        "user_exp = pd.read_csv('https://raw.githubusercontent.com/fr3drikk/the_dream_team-/main/App/Data/user_past_experience.csv')"
      ],
      "metadata": {
        "id": "Qsp0hyLe7B2b"
      },
      "execution_count": null,
      "outputs": []
    },
    {
      "cell_type": "code",
      "source": [
        "user_exp.head()"
      ],
      "metadata": {
        "colab": {
          "base_uri": "https://localhost:8080/"
        },
        "id": "Ow4xI-Yf9Hia",
        "outputId": "e84b06aa-6428-4e0f-eb0a-1c6152a495fe"
      },
      "execution_count": null,
      "outputs": [
        {
          "output_type": "execute_result",
          "data": {
            "text/plain": [
              "   Applicant.ID                                      Position.Name  \\\n",
              "0         10001  Account Manager / Sales Administration / Quali...   \n",
              "1         10001    Electronics Technician / Item Master Controller   \n",
              "2         10001                                   Machine Operator   \n",
              "3         10003                             maintenance technician   \n",
              "4         10003                                 Electrical Helper    \n",
              "\n",
              "               Employer.Name         City            State.Name State.Code  \\\n",
              "0         Barcode Resourcing   Bellingham            Washington         WA   \n",
              "1                Ryzex Group   Bellingham            Washington         WA   \n",
              "2                comptec inc       Custer            Washington         WA   \n",
              "3           Winn residental    washington  District of Columbia         DC   \n",
              "4  michael and son services   alexandria               Virginia         VA   \n",
              "\n",
              "   Start.Date    End.Date                                    Job.Description  \\\n",
              "0  2012-10-15         NaN                                                NaN   \n",
              "1  2001-12-01  2012-04-01                                                NaN   \n",
              "2  1997-01-01  1999-01-01                                                NaN   \n",
              "3         NaN         NaN  Necessary maintenance for \"Make Ready\" Plumbin...   \n",
              "4         NaN         NaN    repair and services of electrical construction    \n",
              "\n",
              "   Salary Can.Contact.Employer               Created.At  \\\n",
              "0     NaN                  NaN  2014-12-12 20:10:02 UTC   \n",
              "1     NaN                  NaN  2014-12-12 20:10:02 UTC   \n",
              "2     NaN                  NaN  2014-12-12 20:10:02 UTC   \n",
              "3    10.0                False  2014-12-12 21:27:05 UTC   \n",
              "4     NaN                False  2014-12-12 21:27:05 UTC   \n",
              "\n",
              "                Updated.At  \n",
              "0  2014-12-12 20:10:02 UTC  \n",
              "1  2014-12-12 20:10:02 UTC  \n",
              "2  2014-12-12 20:10:02 UTC  \n",
              "3  2014-12-12 21:27:05 UTC  \n",
              "4  2014-12-12 21:27:05 UTC  "
            ],
            "text/html": [
              "\n",
              "  <div id=\"df-3ca337e9-e23b-4046-a23e-773e1a9e2df1\">\n",
              "    <div class=\"colab-df-container\">\n",
              "      <div>\n",
              "<style scoped>\n",
              "    .dataframe tbody tr th:only-of-type {\n",
              "        vertical-align: middle;\n",
              "    }\n",
              "\n",
              "    .dataframe tbody tr th {\n",
              "        vertical-align: top;\n",
              "    }\n",
              "\n",
              "    .dataframe thead th {\n",
              "        text-align: right;\n",
              "    }\n",
              "</style>\n",
              "<table border=\"1\" class=\"dataframe\">\n",
              "  <thead>\n",
              "    <tr style=\"text-align: right;\">\n",
              "      <th></th>\n",
              "      <th>Applicant.ID</th>\n",
              "      <th>Position.Name</th>\n",
              "      <th>Employer.Name</th>\n",
              "      <th>City</th>\n",
              "      <th>State.Name</th>\n",
              "      <th>State.Code</th>\n",
              "      <th>Start.Date</th>\n",
              "      <th>End.Date</th>\n",
              "      <th>Job.Description</th>\n",
              "      <th>Salary</th>\n",
              "      <th>Can.Contact.Employer</th>\n",
              "      <th>Created.At</th>\n",
              "      <th>Updated.At</th>\n",
              "    </tr>\n",
              "  </thead>\n",
              "  <tbody>\n",
              "    <tr>\n",
              "      <th>0</th>\n",
              "      <td>10001</td>\n",
              "      <td>Account Manager / Sales Administration / Quali...</td>\n",
              "      <td>Barcode Resourcing</td>\n",
              "      <td>Bellingham</td>\n",
              "      <td>Washington</td>\n",
              "      <td>WA</td>\n",
              "      <td>2012-10-15</td>\n",
              "      <td>NaN</td>\n",
              "      <td>NaN</td>\n",
              "      <td>NaN</td>\n",
              "      <td>NaN</td>\n",
              "      <td>2014-12-12 20:10:02 UTC</td>\n",
              "      <td>2014-12-12 20:10:02 UTC</td>\n",
              "    </tr>\n",
              "    <tr>\n",
              "      <th>1</th>\n",
              "      <td>10001</td>\n",
              "      <td>Electronics Technician / Item Master Controller</td>\n",
              "      <td>Ryzex Group</td>\n",
              "      <td>Bellingham</td>\n",
              "      <td>Washington</td>\n",
              "      <td>WA</td>\n",
              "      <td>2001-12-01</td>\n",
              "      <td>2012-04-01</td>\n",
              "      <td>NaN</td>\n",
              "      <td>NaN</td>\n",
              "      <td>NaN</td>\n",
              "      <td>2014-12-12 20:10:02 UTC</td>\n",
              "      <td>2014-12-12 20:10:02 UTC</td>\n",
              "    </tr>\n",
              "    <tr>\n",
              "      <th>2</th>\n",
              "      <td>10001</td>\n",
              "      <td>Machine Operator</td>\n",
              "      <td>comptec inc</td>\n",
              "      <td>Custer</td>\n",
              "      <td>Washington</td>\n",
              "      <td>WA</td>\n",
              "      <td>1997-01-01</td>\n",
              "      <td>1999-01-01</td>\n",
              "      <td>NaN</td>\n",
              "      <td>NaN</td>\n",
              "      <td>NaN</td>\n",
              "      <td>2014-12-12 20:10:02 UTC</td>\n",
              "      <td>2014-12-12 20:10:02 UTC</td>\n",
              "    </tr>\n",
              "    <tr>\n",
              "      <th>3</th>\n",
              "      <td>10003</td>\n",
              "      <td>maintenance technician</td>\n",
              "      <td>Winn residental</td>\n",
              "      <td>washington</td>\n",
              "      <td>District of Columbia</td>\n",
              "      <td>DC</td>\n",
              "      <td>NaN</td>\n",
              "      <td>NaN</td>\n",
              "      <td>Necessary maintenance for \"Make Ready\" Plumbin...</td>\n",
              "      <td>10.0</td>\n",
              "      <td>False</td>\n",
              "      <td>2014-12-12 21:27:05 UTC</td>\n",
              "      <td>2014-12-12 21:27:05 UTC</td>\n",
              "    </tr>\n",
              "    <tr>\n",
              "      <th>4</th>\n",
              "      <td>10003</td>\n",
              "      <td>Electrical Helper</td>\n",
              "      <td>michael and son services</td>\n",
              "      <td>alexandria</td>\n",
              "      <td>Virginia</td>\n",
              "      <td>VA</td>\n",
              "      <td>NaN</td>\n",
              "      <td>NaN</td>\n",
              "      <td>repair and services of electrical construction</td>\n",
              "      <td>NaN</td>\n",
              "      <td>False</td>\n",
              "      <td>2014-12-12 21:27:05 UTC</td>\n",
              "      <td>2014-12-12 21:27:05 UTC</td>\n",
              "    </tr>\n",
              "  </tbody>\n",
              "</table>\n",
              "</div>\n",
              "      <button class=\"colab-df-convert\" onclick=\"convertToInteractive('df-3ca337e9-e23b-4046-a23e-773e1a9e2df1')\"\n",
              "              title=\"Convert this dataframe to an interactive table.\"\n",
              "              style=\"display:none;\">\n",
              "        \n",
              "  <svg xmlns=\"http://www.w3.org/2000/svg\" height=\"24px\"viewBox=\"0 0 24 24\"\n",
              "       width=\"24px\">\n",
              "    <path d=\"M0 0h24v24H0V0z\" fill=\"none\"/>\n",
              "    <path d=\"M18.56 5.44l.94 2.06.94-2.06 2.06-.94-2.06-.94-.94-2.06-.94 2.06-2.06.94zm-11 1L8.5 8.5l.94-2.06 2.06-.94-2.06-.94L8.5 2.5l-.94 2.06-2.06.94zm10 10l.94 2.06.94-2.06 2.06-.94-2.06-.94-.94-2.06-.94 2.06-2.06.94z\"/><path d=\"M17.41 7.96l-1.37-1.37c-.4-.4-.92-.59-1.43-.59-.52 0-1.04.2-1.43.59L10.3 9.45l-7.72 7.72c-.78.78-.78 2.05 0 2.83L4 21.41c.39.39.9.59 1.41.59.51 0 1.02-.2 1.41-.59l7.78-7.78 2.81-2.81c.8-.78.8-2.07 0-2.86zM5.41 20L4 18.59l7.72-7.72 1.47 1.35L5.41 20z\"/>\n",
              "  </svg>\n",
              "      </button>\n",
              "      \n",
              "  <style>\n",
              "    .colab-df-container {\n",
              "      display:flex;\n",
              "      flex-wrap:wrap;\n",
              "      gap: 12px;\n",
              "    }\n",
              "\n",
              "    .colab-df-convert {\n",
              "      background-color: #E8F0FE;\n",
              "      border: none;\n",
              "      border-radius: 50%;\n",
              "      cursor: pointer;\n",
              "      display: none;\n",
              "      fill: #1967D2;\n",
              "      height: 32px;\n",
              "      padding: 0 0 0 0;\n",
              "      width: 32px;\n",
              "    }\n",
              "\n",
              "    .colab-df-convert:hover {\n",
              "      background-color: #E2EBFA;\n",
              "      box-shadow: 0px 1px 2px rgba(60, 64, 67, 0.3), 0px 1px 3px 1px rgba(60, 64, 67, 0.15);\n",
              "      fill: #174EA6;\n",
              "    }\n",
              "\n",
              "    [theme=dark] .colab-df-convert {\n",
              "      background-color: #3B4455;\n",
              "      fill: #D2E3FC;\n",
              "    }\n",
              "\n",
              "    [theme=dark] .colab-df-convert:hover {\n",
              "      background-color: #434B5C;\n",
              "      box-shadow: 0px 1px 3px 1px rgba(0, 0, 0, 0.15);\n",
              "      filter: drop-shadow(0px 1px 2px rgba(0, 0, 0, 0.3));\n",
              "      fill: #FFFFFF;\n",
              "    }\n",
              "  </style>\n",
              "\n",
              "      <script>\n",
              "        const buttonEl =\n",
              "          document.querySelector('#df-3ca337e9-e23b-4046-a23e-773e1a9e2df1 button.colab-df-convert');\n",
              "        buttonEl.style.display =\n",
              "          google.colab.kernel.accessAllowed ? 'block' : 'none';\n",
              "\n",
              "        async function convertToInteractive(key) {\n",
              "          const element = document.querySelector('#df-3ca337e9-e23b-4046-a23e-773e1a9e2df1');\n",
              "          const dataTable =\n",
              "            await google.colab.kernel.invokeFunction('convertToInteractive',\n",
              "                                                     [key], {});\n",
              "          if (!dataTable) return;\n",
              "\n",
              "          const docLinkHtml = 'Like what you see? Visit the ' +\n",
              "            '<a target=\"_blank\" href=https://colab.research.google.com/notebooks/data_table.ipynb>data table notebook</a>'\n",
              "            + ' to learn more about interactive tables.';\n",
              "          element.innerHTML = '';\n",
              "          dataTable['output_type'] = 'display_data';\n",
              "          await google.colab.output.renderOutput(dataTable, element);\n",
              "          const docLink = document.createElement('div');\n",
              "          docLink.innerHTML = docLinkHtml;\n",
              "          element.appendChild(docLink);\n",
              "        }\n",
              "      </script>\n",
              "    </div>\n",
              "  </div>\n",
              "  "
            ]
          },
          "metadata": {},
          "execution_count": 47
        }
      ]
    },
    {
      "cell_type": "code",
      "source": [
        "user_exp.shape"
      ],
      "metadata": {
        "colab": {
          "base_uri": "https://localhost:8080/"
        },
        "id": "WWa7li4z9JsL",
        "outputId": "8af894a3-d278-4729-d5a0-24da6930a6d5"
      },
      "execution_count": null,
      "outputs": [
        {
          "output_type": "execute_result",
          "data": {
            "text/plain": [
              "(8653, 13)"
            ]
          },
          "metadata": {},
          "execution_count": 48
        }
      ]
    },
    {
      "cell_type": "code",
      "source": [
        "user_exp.isna().sum().sort_values()"
      ],
      "metadata": {
        "colab": {
          "base_uri": "https://localhost:8080/"
        },
        "id": "uf8TlJD49P2R",
        "outputId": "faaf7bfc-d2ca-43ea-f684-99396d0d5d36"
      },
      "execution_count": null,
      "outputs": [
        {
          "output_type": "execute_result",
          "data": {
            "text/plain": [
              "Applicant.ID               0\n",
              "Created.At                 0\n",
              "Updated.At                 0\n",
              "Employer.Name             33\n",
              "Position.Name            950\n",
              "Start.Date              2035\n",
              "Job.Description         2961\n",
              "City                    3731\n",
              "End.Date                3747\n",
              "State.Name              4058\n",
              "State.Code              4058\n",
              "Can.Contact.Employer    5072\n",
              "Salary                  5855\n",
              "dtype: int64"
            ]
          },
          "metadata": {},
          "execution_count": 49
        }
      ]
    },
    {
      "cell_type": "code",
      "source": [
        "user_exp['Position.Name'].value_counts()"
      ],
      "metadata": {
        "colab": {
          "base_uri": "https://localhost:8080/"
        },
        "id": "8tPE1uSi9VlR",
        "outputId": "b98c2f32-8a43-453e-dbfb-ce3566fb1512"
      },
      "execution_count": null,
      "outputs": [
        {
          "output_type": "execute_result",
          "data": {
            "text/plain": [
              "Cashier                                              129\n",
              "Sales Associate                                      116\n",
              "Server                                                86\n",
              "Administrative Assistant                              76\n",
              "Owner                                                 58\n",
              "                                                    ... \n",
              "News Production Intern                                 1\n",
              "Late Night with Jimmy Fallon -  Production Intern      1\n",
              "Extern                                                 1\n",
              "Cinematographer                                        1\n",
              "Server/cocktail server/bartender                       1\n",
              "Name: Position.Name, Length: 4986, dtype: int64"
            ]
          },
          "metadata": {},
          "execution_count": 50
        }
      ]
    },
    {
      "cell_type": "markdown",
      "source": [
        "### User work interest"
      ],
      "metadata": {
        "id": "7uVcRur6-P4m"
      }
    },
    {
      "cell_type": "code",
      "source": [
        "user_int = pd.read_csv('https://raw.githubusercontent.com/fr3drikk/the_dream_team-/main/App/Data/user_work_interest.csv')"
      ],
      "metadata": {
        "id": "gfSqkz-f-TRc"
      },
      "execution_count": null,
      "outputs": []
    },
    {
      "cell_type": "code",
      "source": [
        "user_int.head()"
      ],
      "metadata": {
        "colab": {
          "base_uri": "https://localhost:8080/",
          "height": 206
        },
        "id": "s2wdlrEc-bK8",
        "outputId": "a368ff25-c443-42d9-ea1b-ae9d2100fd50"
      },
      "execution_count": null,
      "outputs": [
        {
          "output_type": "execute_result",
          "data": {
            "text/plain": [
              "   Applicant.ID Position.Of.Interest               Created.At  \\\n",
              "0         10003     security officer  2014-12-12 21:20:54 UTC   \n",
              "1         10007               Server  2014-08-14 15:56:42 UTC   \n",
              "2         10007            Bartender  2014-08-14 15:56:44 UTC   \n",
              "3         10008                 Host  2014-08-14 15:56:42 UTC   \n",
              "4         10008              Barista  2014-08-14 15:56:43 UTC   \n",
              "\n",
              "                Updated.At  \n",
              "0  2014-12-12 21:20:54 UTC  \n",
              "1  2015-02-26 20:35:12 UTC  \n",
              "2  2015-02-19 23:21:28 UTC  \n",
              "3  2015-02-26 20:35:12 UTC  \n",
              "4  2015-02-18 02:35:06 UTC  "
            ],
            "text/html": [
              "\n",
              "  <div id=\"df-e2b7f84f-0a96-4543-b047-b29e822a1cf2\">\n",
              "    <div class=\"colab-df-container\">\n",
              "      <div>\n",
              "<style scoped>\n",
              "    .dataframe tbody tr th:only-of-type {\n",
              "        vertical-align: middle;\n",
              "    }\n",
              "\n",
              "    .dataframe tbody tr th {\n",
              "        vertical-align: top;\n",
              "    }\n",
              "\n",
              "    .dataframe thead th {\n",
              "        text-align: right;\n",
              "    }\n",
              "</style>\n",
              "<table border=\"1\" class=\"dataframe\">\n",
              "  <thead>\n",
              "    <tr style=\"text-align: right;\">\n",
              "      <th></th>\n",
              "      <th>Applicant.ID</th>\n",
              "      <th>Position.Of.Interest</th>\n",
              "      <th>Created.At</th>\n",
              "      <th>Updated.At</th>\n",
              "    </tr>\n",
              "  </thead>\n",
              "  <tbody>\n",
              "    <tr>\n",
              "      <th>0</th>\n",
              "      <td>10003</td>\n",
              "      <td>security officer</td>\n",
              "      <td>2014-12-12 21:20:54 UTC</td>\n",
              "      <td>2014-12-12 21:20:54 UTC</td>\n",
              "    </tr>\n",
              "    <tr>\n",
              "      <th>1</th>\n",
              "      <td>10007</td>\n",
              "      <td>Server</td>\n",
              "      <td>2014-08-14 15:56:42 UTC</td>\n",
              "      <td>2015-02-26 20:35:12 UTC</td>\n",
              "    </tr>\n",
              "    <tr>\n",
              "      <th>2</th>\n",
              "      <td>10007</td>\n",
              "      <td>Bartender</td>\n",
              "      <td>2014-08-14 15:56:44 UTC</td>\n",
              "      <td>2015-02-19 23:21:28 UTC</td>\n",
              "    </tr>\n",
              "    <tr>\n",
              "      <th>3</th>\n",
              "      <td>10008</td>\n",
              "      <td>Host</td>\n",
              "      <td>2014-08-14 15:56:42 UTC</td>\n",
              "      <td>2015-02-26 20:35:12 UTC</td>\n",
              "    </tr>\n",
              "    <tr>\n",
              "      <th>4</th>\n",
              "      <td>10008</td>\n",
              "      <td>Barista</td>\n",
              "      <td>2014-08-14 15:56:43 UTC</td>\n",
              "      <td>2015-02-18 02:35:06 UTC</td>\n",
              "    </tr>\n",
              "  </tbody>\n",
              "</table>\n",
              "</div>\n",
              "      <button class=\"colab-df-convert\" onclick=\"convertToInteractive('df-e2b7f84f-0a96-4543-b047-b29e822a1cf2')\"\n",
              "              title=\"Convert this dataframe to an interactive table.\"\n",
              "              style=\"display:none;\">\n",
              "        \n",
              "  <svg xmlns=\"http://www.w3.org/2000/svg\" height=\"24px\"viewBox=\"0 0 24 24\"\n",
              "       width=\"24px\">\n",
              "    <path d=\"M0 0h24v24H0V0z\" fill=\"none\"/>\n",
              "    <path d=\"M18.56 5.44l.94 2.06.94-2.06 2.06-.94-2.06-.94-.94-2.06-.94 2.06-2.06.94zm-11 1L8.5 8.5l.94-2.06 2.06-.94-2.06-.94L8.5 2.5l-.94 2.06-2.06.94zm10 10l.94 2.06.94-2.06 2.06-.94-2.06-.94-.94-2.06-.94 2.06-2.06.94z\"/><path d=\"M17.41 7.96l-1.37-1.37c-.4-.4-.92-.59-1.43-.59-.52 0-1.04.2-1.43.59L10.3 9.45l-7.72 7.72c-.78.78-.78 2.05 0 2.83L4 21.41c.39.39.9.59 1.41.59.51 0 1.02-.2 1.41-.59l7.78-7.78 2.81-2.81c.8-.78.8-2.07 0-2.86zM5.41 20L4 18.59l7.72-7.72 1.47 1.35L5.41 20z\"/>\n",
              "  </svg>\n",
              "      </button>\n",
              "      \n",
              "  <style>\n",
              "    .colab-df-container {\n",
              "      display:flex;\n",
              "      flex-wrap:wrap;\n",
              "      gap: 12px;\n",
              "    }\n",
              "\n",
              "    .colab-df-convert {\n",
              "      background-color: #E8F0FE;\n",
              "      border: none;\n",
              "      border-radius: 50%;\n",
              "      cursor: pointer;\n",
              "      display: none;\n",
              "      fill: #1967D2;\n",
              "      height: 32px;\n",
              "      padding: 0 0 0 0;\n",
              "      width: 32px;\n",
              "    }\n",
              "\n",
              "    .colab-df-convert:hover {\n",
              "      background-color: #E2EBFA;\n",
              "      box-shadow: 0px 1px 2px rgba(60, 64, 67, 0.3), 0px 1px 3px 1px rgba(60, 64, 67, 0.15);\n",
              "      fill: #174EA6;\n",
              "    }\n",
              "\n",
              "    [theme=dark] .colab-df-convert {\n",
              "      background-color: #3B4455;\n",
              "      fill: #D2E3FC;\n",
              "    }\n",
              "\n",
              "    [theme=dark] .colab-df-convert:hover {\n",
              "      background-color: #434B5C;\n",
              "      box-shadow: 0px 1px 3px 1px rgba(0, 0, 0, 0.15);\n",
              "      filter: drop-shadow(0px 1px 2px rgba(0, 0, 0, 0.3));\n",
              "      fill: #FFFFFF;\n",
              "    }\n",
              "  </style>\n",
              "\n",
              "      <script>\n",
              "        const buttonEl =\n",
              "          document.querySelector('#df-e2b7f84f-0a96-4543-b047-b29e822a1cf2 button.colab-df-convert');\n",
              "        buttonEl.style.display =\n",
              "          google.colab.kernel.accessAllowed ? 'block' : 'none';\n",
              "\n",
              "        async function convertToInteractive(key) {\n",
              "          const element = document.querySelector('#df-e2b7f84f-0a96-4543-b047-b29e822a1cf2');\n",
              "          const dataTable =\n",
              "            await google.colab.kernel.invokeFunction('convertToInteractive',\n",
              "                                                     [key], {});\n",
              "          if (!dataTable) return;\n",
              "\n",
              "          const docLinkHtml = 'Like what you see? Visit the ' +\n",
              "            '<a target=\"_blank\" href=https://colab.research.google.com/notebooks/data_table.ipynb>data table notebook</a>'\n",
              "            + ' to learn more about interactive tables.';\n",
              "          element.innerHTML = '';\n",
              "          dataTable['output_type'] = 'display_data';\n",
              "          await google.colab.output.renderOutput(dataTable, element);\n",
              "          const docLink = document.createElement('div');\n",
              "          docLink.innerHTML = docLinkHtml;\n",
              "          element.appendChild(docLink);\n",
              "        }\n",
              "      </script>\n",
              "    </div>\n",
              "  </div>\n",
              "  "
            ]
          },
          "metadata": {},
          "execution_count": 52
        }
      ]
    },
    {
      "cell_type": "code",
      "source": [
        "user_int['Position.Of.Interest'].value_counts().nlargest(20)"
      ],
      "metadata": {
        "id": "u1Mja6k8lh6L"
      },
      "execution_count": null,
      "outputs": []
    },
    {
      "cell_type": "code",
      "source": [
        "user_int.isna().sum().sort_values()"
      ],
      "metadata": {
        "id": "fDmYQD6u-dxX"
      },
      "execution_count": null,
      "outputs": []
    },
    {
      "cell_type": "code",
      "source": [
        "user_int.shape"
      ],
      "metadata": {
        "id": "znnB1tDH-hQf"
      },
      "execution_count": null,
      "outputs": []
    },
    {
      "cell_type": "code",
      "source": [
        "user_int['Applicant.ID'].nunique()"
      ],
      "metadata": {
        "id": "P8wigqhG-ldC"
      },
      "execution_count": null,
      "outputs": []
    },
    {
      "cell_type": "code",
      "source": [],
      "metadata": {
        "id": "hPfUJR91_BZI"
      },
      "execution_count": null,
      "outputs": []
    },
    {
      "cell_type": "markdown",
      "source": [
        "### EDA STUFF"
      ],
      "metadata": {
        "id": "xGJCyClPAk6U"
      }
    },
    {
      "cell_type": "code",
      "source": [
        "# on average a user looks at x jobposts \n"
      ],
      "metadata": {
        "id": "0JYnVKeoAmms"
      },
      "execution_count": null,
      "outputs": []
    },
    {
      "cell_type": "code",
      "source": [
        "# on average a user spends x amount of time looking at a jobpost"
      ],
      "metadata": {
        "id": "o_ApoxKpAuJd"
      },
      "execution_count": null,
      "outputs": []
    },
    {
      "cell_type": "code",
      "source": [
        "# a correlation matrix between education required and jobpositions (requires grouping of positions)"
      ],
      "metadata": {
        "id": "DQDS1jhTAyTT"
      },
      "execution_count": null,
      "outputs": []
    },
    {
      "cell_type": "code",
      "source": [
        "##### text recognizitionon stuff ^ "
      ],
      "metadata": {
        "id": "ZQqvp0JBDjYn"
      },
      "execution_count": null,
      "outputs": []
    },
    {
      "cell_type": "code",
      "source": [
        "# timeline with the development of jobposts , e.g. over weeks , months , years , fulltime/parttime , states , slider "
      ],
      "metadata": {
        "id": "fXBbVKWmA-vQ"
      },
      "execution_count": null,
      "outputs": []
    },
    {
      "cell_type": "code",
      "source": [
        "# seasonal peaks of jobposts ^ summer,winter,fall ETC"
      ],
      "metadata": {
        "id": "X1p8BZy1CU8H"
      },
      "execution_count": null,
      "outputs": []
    },
    {
      "cell_type": "code",
      "source": [
        "# geoplotting , location of jobs , statebased perhaps, interactive map where you can hoover over and see the information in ze map"
      ],
      "metadata": {
        "id": "IkbpQJ20BeJS"
      },
      "execution_count": null,
      "outputs": []
    },
    {
      "cell_type": "code",
      "source": [
        "# grade 10 , map with your recommended jobs"
      ],
      "metadata": {
        "id": "aU8pJ4BLBzu6"
      },
      "execution_count": null,
      "outputs": []
    },
    {
      "cell_type": "code",
      "source": [
        "# extra stuff for nice frontend, like a tab with cv stuff n stuff"
      ],
      "metadata": {
        "id": "gkEqwPheCFAx"
      },
      "execution_count": null,
      "outputs": []
    },
    {
      "cell_type": "code",
      "source": [
        "# most popular jobposts (views), compared with duration users spend on those posts, bait titles or actually interesting?"
      ],
      "metadata": {
        "id": "9_5EPLG0CtrM"
      },
      "execution_count": null,
      "outputs": []
    },
    {
      "cell_type": "code",
      "source": [
        "# companies with most jobposts, big companies? small companies with high turnover rates? etc, "
      ],
      "metadata": {
        "id": "io2_xcW2DBkz"
      },
      "execution_count": null,
      "outputs": []
    },
    {
      "cell_type": "code",
      "source": [
        "# to group some of our variables"
      ],
      "metadata": {
        "id": "BhIcRr00KQfv"
      },
      "execution_count": null,
      "outputs": []
    }
  ]
}