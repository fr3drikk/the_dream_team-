{
 "cells": [
  {
   "cell_type": "markdown",
   "metadata": {},
   "source": [
    "# Imports"
   ]
  },
  {
   "cell_type": "code",
   "execution_count": null,
   "metadata": {},
   "outputs": [],
   "source": [
    "# Standard stuff\n",
    "import pandas as pd #for manipulating data\n",
    "import numpy as np #for manipulating data\n",
    "\n",
    "# Dataviz\n",
    "import matplotlib.pyplot as plt #for custom graphs at the end\n",
    "import seaborn as sns #for custom graphs at the end\n",
    "\n",
    "# Altair\n",
    "import altair as alt\n",
    "\n",
    "# Other tooling\n",
    "# import os #needed to use Environment Variables in Domino\n",
    "\n",
    "# UML\n",
    "# from sklearn.preprocessing import StandardScaler # import and instantiate scaler\n",
    "\n",
    "# SML\n",
    "# import sklearn #for building models\n",
    "# import xgboost as xgb #for building models\n",
    "# import sklearn.ensemble #for building models\n",
    "# from sklearn.model_selection import train_test_split #for creating a hold-out sample\n",
    "# from sklearn import datasets # Boston Housing Data\n"
   ]
  },
  {
   "cell_type": "code",
   "execution_count": null,
   "metadata": {},
   "outputs": [],
   "source": []
  }
 ],
 "metadata": {
  "language_info": {
   "name": "python"
  },
  "orig_nbformat": 4
 },
 "nbformat": 4,
 "nbformat_minor": 2
}
